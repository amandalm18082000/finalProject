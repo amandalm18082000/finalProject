{
 "cells": [
  {
   "cell_type": "markdown",
   "id": "9e8b99d7",
   "metadata": {},
   "source": [
    "# Preprocess"
   ]
  },
  {
   "cell_type": "code",
   "execution_count": 1,
   "id": "a6e8e1b0",
   "metadata": {},
   "outputs": [],
   "source": [
    "import pandas as pd"
   ]
  },
  {
   "cell_type": "code",
   "execution_count": 2,
   "id": "24f5c961",
   "metadata": {},
   "outputs": [
    {
     "data": {
      "text/html": [
       "<div>\n",
       "<style scoped>\n",
       "    .dataframe tbody tr th:only-of-type {\n",
       "        vertical-align: middle;\n",
       "    }\n",
       "\n",
       "    .dataframe tbody tr th {\n",
       "        vertical-align: top;\n",
       "    }\n",
       "\n",
       "    .dataframe thead th {\n",
       "        text-align: right;\n",
       "    }\n",
       "</style>\n",
       "<table border=\"1\" class=\"dataframe\">\n",
       "  <thead>\n",
       "    <tr style=\"text-align: right;\">\n",
       "      <th></th>\n",
       "      <th>WHO Region</th>\n",
       "      <th>ISO3</th>\n",
       "      <th>WHO Country Name</th>\n",
       "      <th>City or Locality</th>\n",
       "      <th>Measurement Year</th>\n",
       "      <th>PM2.5 (μg/m3)</th>\n",
       "      <th>PM10 (μg/m3)</th>\n",
       "      <th>NO2 (μg/m3)</th>\n",
       "      <th>PM25 temporal coverage (%)</th>\n",
       "      <th>PM10 temporal coverage (%)</th>\n",
       "      <th>NO2 temporal coverage (%)</th>\n",
       "      <th>Reference</th>\n",
       "      <th>Number and type of monitoring stations</th>\n",
       "      <th>Version of the database</th>\n",
       "      <th>Status</th>\n",
       "    </tr>\n",
       "  </thead>\n",
       "  <tbody>\n",
       "    <tr>\n",
       "      <th>0</th>\n",
       "      <td>Eastern Mediterranean Region</td>\n",
       "      <td>AFG</td>\n",
       "      <td>Afghanistan</td>\n",
       "      <td>Kabul</td>\n",
       "      <td>2019</td>\n",
       "      <td>119.77</td>\n",
       "      <td>NaN</td>\n",
       "      <td>NaN</td>\n",
       "      <td>18.0</td>\n",
       "      <td>NaN</td>\n",
       "      <td>NaN</td>\n",
       "      <td>U.S. Department of State, United States Enviro...</td>\n",
       "      <td>NaN</td>\n",
       "      <td>2022</td>\n",
       "      <td>NaN</td>\n",
       "    </tr>\n",
       "    <tr>\n",
       "      <th>1</th>\n",
       "      <td>European Region</td>\n",
       "      <td>ALB</td>\n",
       "      <td>Albania</td>\n",
       "      <td>Durres</td>\n",
       "      <td>2015</td>\n",
       "      <td>NaN</td>\n",
       "      <td>17.65</td>\n",
       "      <td>26.63</td>\n",
       "      <td>NaN</td>\n",
       "      <td>NaN</td>\n",
       "      <td>83.961187</td>\n",
       "      <td>European Environment Agency (downloaded in 2021)</td>\n",
       "      <td>NaN</td>\n",
       "      <td>2022</td>\n",
       "      <td>NaN</td>\n",
       "    </tr>\n",
       "    <tr>\n",
       "      <th>2</th>\n",
       "      <td>European Region</td>\n",
       "      <td>ALB</td>\n",
       "      <td>Albania</td>\n",
       "      <td>Durres</td>\n",
       "      <td>2016</td>\n",
       "      <td>14.32</td>\n",
       "      <td>24.56</td>\n",
       "      <td>24.78</td>\n",
       "      <td>NaN</td>\n",
       "      <td>NaN</td>\n",
       "      <td>87.932605</td>\n",
       "      <td>European Environment Agency (downloaded in 2021)</td>\n",
       "      <td>NaN</td>\n",
       "      <td>2022</td>\n",
       "      <td>NaN</td>\n",
       "    </tr>\n",
       "    <tr>\n",
       "      <th>3</th>\n",
       "      <td>European Region</td>\n",
       "      <td>ALB</td>\n",
       "      <td>Albania</td>\n",
       "      <td>Elbasan</td>\n",
       "      <td>2015</td>\n",
       "      <td>NaN</td>\n",
       "      <td>NaN</td>\n",
       "      <td>23.96</td>\n",
       "      <td>NaN</td>\n",
       "      <td>NaN</td>\n",
       "      <td>97.853881</td>\n",
       "      <td>European Environment Agency (downloaded in 2021)</td>\n",
       "      <td>NaN</td>\n",
       "      <td>2022</td>\n",
       "      <td>NaN</td>\n",
       "    </tr>\n",
       "    <tr>\n",
       "      <th>4</th>\n",
       "      <td>European Region</td>\n",
       "      <td>ALB</td>\n",
       "      <td>Albania</td>\n",
       "      <td>Elbasan</td>\n",
       "      <td>2016</td>\n",
       "      <td>NaN</td>\n",
       "      <td>NaN</td>\n",
       "      <td>26.26</td>\n",
       "      <td>NaN</td>\n",
       "      <td>NaN</td>\n",
       "      <td>96.049636</td>\n",
       "      <td>European Environment Agency (downloaded in 2021)</td>\n",
       "      <td>NaN</td>\n",
       "      <td>2022</td>\n",
       "      <td>NaN</td>\n",
       "    </tr>\n",
       "    <tr>\n",
       "      <th>...</th>\n",
       "      <td>...</td>\n",
       "      <td>...</td>\n",
       "      <td>...</td>\n",
       "      <td>...</td>\n",
       "      <td>...</td>\n",
       "      <td>...</td>\n",
       "      <td>...</td>\n",
       "      <td>...</td>\n",
       "      <td>...</td>\n",
       "      <td>...</td>\n",
       "      <td>...</td>\n",
       "      <td>...</td>\n",
       "      <td>...</td>\n",
       "      <td>...</td>\n",
       "      <td>...</td>\n",
       "    </tr>\n",
       "    <tr>\n",
       "      <th>32186</th>\n",
       "      <td>African Region</td>\n",
       "      <td>ZAF</td>\n",
       "      <td>South Africa</td>\n",
       "      <td>West Coast</td>\n",
       "      <td>2015</td>\n",
       "      <td>7.47</td>\n",
       "      <td>24.64</td>\n",
       "      <td>7.64</td>\n",
       "      <td>75.0</td>\n",
       "      <td>75.0</td>\n",
       "      <td>75.000000</td>\n",
       "      <td>South African Air Quality Information System</td>\n",
       "      <td>3 Residential-Medium/Upper income</td>\n",
       "      <td>2022</td>\n",
       "      <td>NaN</td>\n",
       "    </tr>\n",
       "    <tr>\n",
       "      <th>32187</th>\n",
       "      <td>African Region</td>\n",
       "      <td>ZAF</td>\n",
       "      <td>South Africa</td>\n",
       "      <td>West Coast</td>\n",
       "      <td>2016</td>\n",
       "      <td>8.42</td>\n",
       "      <td>33.28</td>\n",
       "      <td>7.27</td>\n",
       "      <td>75.0</td>\n",
       "      <td>75.0</td>\n",
       "      <td>75.000000</td>\n",
       "      <td>South African Air Quality Information System</td>\n",
       "      <td>2 Residential-Medium/Upper income</td>\n",
       "      <td>2022</td>\n",
       "      <td>NaN</td>\n",
       "    </tr>\n",
       "    <tr>\n",
       "      <th>32188</th>\n",
       "      <td>African Region</td>\n",
       "      <td>ZAF</td>\n",
       "      <td>South Africa</td>\n",
       "      <td>West Coast</td>\n",
       "      <td>2017</td>\n",
       "      <td>6.83</td>\n",
       "      <td>20.49</td>\n",
       "      <td>8.72</td>\n",
       "      <td>75.0</td>\n",
       "      <td>75.0</td>\n",
       "      <td>75.000000</td>\n",
       "      <td>South African Air Quality Information System</td>\n",
       "      <td>2 Residential-Medium/Upper income</td>\n",
       "      <td>2022</td>\n",
       "      <td>NaN</td>\n",
       "    </tr>\n",
       "    <tr>\n",
       "      <th>32189</th>\n",
       "      <td>African Region</td>\n",
       "      <td>ZAF</td>\n",
       "      <td>South Africa</td>\n",
       "      <td>West Coast</td>\n",
       "      <td>2018</td>\n",
       "      <td>6.10</td>\n",
       "      <td>17.99</td>\n",
       "      <td>7.15</td>\n",
       "      <td>75.0</td>\n",
       "      <td>75.0</td>\n",
       "      <td>75.000000</td>\n",
       "      <td>South African Air Quality Information System</td>\n",
       "      <td>2 Residential-Medium/Upper income</td>\n",
       "      <td>2022</td>\n",
       "      <td>NaN</td>\n",
       "    </tr>\n",
       "    <tr>\n",
       "      <th>32190</th>\n",
       "      <td>African Region</td>\n",
       "      <td>ZAF</td>\n",
       "      <td>South Africa</td>\n",
       "      <td>West Rand</td>\n",
       "      <td>2016</td>\n",
       "      <td>NaN</td>\n",
       "      <td>NaN</td>\n",
       "      <td>17.85</td>\n",
       "      <td>NaN</td>\n",
       "      <td>NaN</td>\n",
       "      <td>75.000000</td>\n",
       "      <td>South African Air Quality Information System</td>\n",
       "      <td>1 N/A</td>\n",
       "      <td>2022</td>\n",
       "      <td>NaN</td>\n",
       "    </tr>\n",
       "  </tbody>\n",
       "</table>\n",
       "<p>32191 rows × 15 columns</p>\n",
       "</div>"
      ],
      "text/plain": [
       "                         WHO Region ISO3 WHO Country Name City or Locality   \n",
       "0      Eastern Mediterranean Region  AFG      Afghanistan            Kabul  \\\n",
       "1                   European Region  ALB          Albania           Durres   \n",
       "2                   European Region  ALB          Albania           Durres   \n",
       "3                   European Region  ALB          Albania          Elbasan   \n",
       "4                   European Region  ALB          Albania          Elbasan   \n",
       "...                             ...  ...              ...              ...   \n",
       "32186                African Region  ZAF     South Africa       West Coast   \n",
       "32187                African Region  ZAF     South Africa       West Coast   \n",
       "32188                African Region  ZAF     South Africa       West Coast   \n",
       "32189                African Region  ZAF     South Africa       West Coast   \n",
       "32190                African Region  ZAF     South Africa        West Rand   \n",
       "\n",
       "       Measurement Year  PM2.5 (μg/m3)  PM10 (μg/m3)  NO2 (μg/m3)   \n",
       "0                  2019         119.77           NaN          NaN  \\\n",
       "1                  2015            NaN         17.65        26.63   \n",
       "2                  2016          14.32         24.56        24.78   \n",
       "3                  2015            NaN           NaN        23.96   \n",
       "4                  2016            NaN           NaN        26.26   \n",
       "...                 ...            ...           ...          ...   \n",
       "32186              2015           7.47         24.64         7.64   \n",
       "32187              2016           8.42         33.28         7.27   \n",
       "32188              2017           6.83         20.49         8.72   \n",
       "32189              2018           6.10         17.99         7.15   \n",
       "32190              2016            NaN           NaN        17.85   \n",
       "\n",
       "       PM25 temporal coverage (%)  PM10 temporal coverage (%)   \n",
       "0                            18.0                         NaN  \\\n",
       "1                             NaN                         NaN   \n",
       "2                             NaN                         NaN   \n",
       "3                             NaN                         NaN   \n",
       "4                             NaN                         NaN   \n",
       "...                           ...                         ...   \n",
       "32186                        75.0                        75.0   \n",
       "32187                        75.0                        75.0   \n",
       "32188                        75.0                        75.0   \n",
       "32189                        75.0                        75.0   \n",
       "32190                         NaN                         NaN   \n",
       "\n",
       "       NO2 temporal coverage (%)   \n",
       "0                            NaN  \\\n",
       "1                      83.961187   \n",
       "2                      87.932605   \n",
       "3                      97.853881   \n",
       "4                      96.049636   \n",
       "...                          ...   \n",
       "32186                  75.000000   \n",
       "32187                  75.000000   \n",
       "32188                  75.000000   \n",
       "32189                  75.000000   \n",
       "32190                  75.000000   \n",
       "\n",
       "                                               Reference   \n",
       "0      U.S. Department of State, United States Enviro...  \\\n",
       "1       European Environment Agency (downloaded in 2021)   \n",
       "2       European Environment Agency (downloaded in 2021)   \n",
       "3       European Environment Agency (downloaded in 2021)   \n",
       "4       European Environment Agency (downloaded in 2021)   \n",
       "...                                                  ...   \n",
       "32186       South African Air Quality Information System   \n",
       "32187       South African Air Quality Information System   \n",
       "32188       South African Air Quality Information System   \n",
       "32189       South African Air Quality Information System   \n",
       "32190       South African Air Quality Information System   \n",
       "\n",
       "      Number and type of monitoring stations  Version of the database  Status  \n",
       "0                                        NaN                     2022     NaN  \n",
       "1                                        NaN                     2022     NaN  \n",
       "2                                        NaN                     2022     NaN  \n",
       "3                                        NaN                     2022     NaN  \n",
       "4                                        NaN                     2022     NaN  \n",
       "...                                      ...                      ...     ...  \n",
       "32186      3 Residential-Medium/Upper income                     2022     NaN  \n",
       "32187      2 Residential-Medium/Upper income                     2022     NaN  \n",
       "32188      2 Residential-Medium/Upper income                     2022     NaN  \n",
       "32189      2 Residential-Medium/Upper income                     2022     NaN  \n",
       "32190                                  1 N/A                     2022     NaN  \n",
       "\n",
       "[32191 rows x 15 columns]"
      ]
     },
     "execution_count": 2,
     "metadata": {},
     "output_type": "execute_result"
    }
   ],
   "source": [
    "df = pd.read_excel('who_aap_2021_v9_11august2022.xlsx',sheet_name = 'AAP_2022_city_v9')\n",
    "df"
   ]
  },
  {
   "cell_type": "code",
   "execution_count": 3,
   "id": "dd3c8a9e",
   "metadata": {},
   "outputs": [],
   "source": [
    "rows, cols = df.shape"
   ]
  },
  {
   "cell_type": "code",
   "execution_count": 4,
   "id": "367af9a0",
   "metadata": {},
   "outputs": [
    {
     "data": {
      "text/html": [
       "<div>\n",
       "<style scoped>\n",
       "    .dataframe tbody tr th:only-of-type {\n",
       "        vertical-align: middle;\n",
       "    }\n",
       "\n",
       "    .dataframe tbody tr th {\n",
       "        vertical-align: top;\n",
       "    }\n",
       "\n",
       "    .dataframe thead th {\n",
       "        text-align: right;\n",
       "    }\n",
       "</style>\n",
       "<table border=\"1\" class=\"dataframe\">\n",
       "  <thead>\n",
       "    <tr style=\"text-align: right;\">\n",
       "      <th></th>\n",
       "      <th>Measurement Year</th>\n",
       "      <th>PM2.5 (μg/m3)</th>\n",
       "      <th>PM10 (μg/m3)</th>\n",
       "      <th>NO2 (μg/m3)</th>\n",
       "      <th>PM25 temporal coverage (%)</th>\n",
       "      <th>PM10 temporal coverage (%)</th>\n",
       "      <th>NO2 temporal coverage (%)</th>\n",
       "      <th>Version of the database</th>\n",
       "      <th>Status</th>\n",
       "    </tr>\n",
       "  </thead>\n",
       "  <tbody>\n",
       "    <tr>\n",
       "      <th>count</th>\n",
       "      <td>32191.000000</td>\n",
       "      <td>15048.000000</td>\n",
       "      <td>21109.000000</td>\n",
       "      <td>22200.000000</td>\n",
       "      <td>7275.000000</td>\n",
       "      <td>5381.000000</td>\n",
       "      <td>19890.000000</td>\n",
       "      <td>32191.000000</td>\n",
       "      <td>0.0</td>\n",
       "    </tr>\n",
       "    <tr>\n",
       "      <th>mean</th>\n",
       "      <td>2015.579354</td>\n",
       "      <td>22.920320</td>\n",
       "      <td>30.533252</td>\n",
       "      <td>20.619336</td>\n",
       "      <td>90.794096</td>\n",
       "      <td>90.583500</td>\n",
       "      <td>93.696804</td>\n",
       "      <td>2021.744214</td>\n",
       "      <td>NaN</td>\n",
       "    </tr>\n",
       "    <tr>\n",
       "      <th>std</th>\n",
       "      <td>2.752654</td>\n",
       "      <td>17.925906</td>\n",
       "      <td>29.312756</td>\n",
       "      <td>12.133388</td>\n",
       "      <td>14.872681</td>\n",
       "      <td>13.816311</td>\n",
       "      <td>10.451751</td>\n",
       "      <td>1.051897</td>\n",
       "      <td>NaN</td>\n",
       "    </tr>\n",
       "    <tr>\n",
       "      <th>min</th>\n",
       "      <td>2000.000000</td>\n",
       "      <td>0.010000</td>\n",
       "      <td>1.040000</td>\n",
       "      <td>0.000000</td>\n",
       "      <td>0.000000</td>\n",
       "      <td>2.568493</td>\n",
       "      <td>1.923077</td>\n",
       "      <td>2016.000000</td>\n",
       "      <td>NaN</td>\n",
       "    </tr>\n",
       "    <tr>\n",
       "      <th>25%</th>\n",
       "      <td>2014.000000</td>\n",
       "      <td>10.350000</td>\n",
       "      <td>16.980000</td>\n",
       "      <td>12.000000</td>\n",
       "      <td>88.595890</td>\n",
       "      <td>87.945205</td>\n",
       "      <td>93.207763</td>\n",
       "      <td>2022.000000</td>\n",
       "      <td>NaN</td>\n",
       "    </tr>\n",
       "    <tr>\n",
       "      <th>50%</th>\n",
       "      <td>2016.000000</td>\n",
       "      <td>16.000000</td>\n",
       "      <td>22.000000</td>\n",
       "      <td>18.800000</td>\n",
       "      <td>97.000000</td>\n",
       "      <td>96.039000</td>\n",
       "      <td>96.369863</td>\n",
       "      <td>2022.000000</td>\n",
       "      <td>NaN</td>\n",
       "    </tr>\n",
       "    <tr>\n",
       "      <th>75%</th>\n",
       "      <td>2018.000000</td>\n",
       "      <td>31.000000</td>\n",
       "      <td>31.300000</td>\n",
       "      <td>27.160000</td>\n",
       "      <td>99.000000</td>\n",
       "      <td>98.938000</td>\n",
       "      <td>98.926941</td>\n",
       "      <td>2022.000000</td>\n",
       "      <td>NaN</td>\n",
       "    </tr>\n",
       "    <tr>\n",
       "      <th>max</th>\n",
       "      <td>2021.000000</td>\n",
       "      <td>191.900000</td>\n",
       "      <td>540.000000</td>\n",
       "      <td>210.680000</td>\n",
       "      <td>100.000000</td>\n",
       "      <td>100.000000</td>\n",
       "      <td>100.000000</td>\n",
       "      <td>2022.000000</td>\n",
       "      <td>NaN</td>\n",
       "    </tr>\n",
       "    <tr>\n",
       "      <th>missing_ratio</th>\n",
       "      <td>0.000000</td>\n",
       "      <td>53.254015</td>\n",
       "      <td>34.425771</td>\n",
       "      <td>31.036625</td>\n",
       "      <td>77.400516</td>\n",
       "      <td>83.284148</td>\n",
       "      <td>38.212544</td>\n",
       "      <td>0.000000</td>\n",
       "      <td>100.0</td>\n",
       "    </tr>\n",
       "  </tbody>\n",
       "</table>\n",
       "</div>"
      ],
      "text/plain": [
       "               Measurement Year  PM2.5 (μg/m3)  PM10 (μg/m3)   NO2 (μg/m3)   \n",
       "count              32191.000000   15048.000000  21109.000000  22200.000000  \\\n",
       "mean                2015.579354      22.920320     30.533252     20.619336   \n",
       "std                    2.752654      17.925906     29.312756     12.133388   \n",
       "min                 2000.000000       0.010000      1.040000      0.000000   \n",
       "25%                 2014.000000      10.350000     16.980000     12.000000   \n",
       "50%                 2016.000000      16.000000     22.000000     18.800000   \n",
       "75%                 2018.000000      31.000000     31.300000     27.160000   \n",
       "max                 2021.000000     191.900000    540.000000    210.680000   \n",
       "missing_ratio          0.000000      53.254015     34.425771     31.036625   \n",
       "\n",
       "               PM25 temporal coverage (%)  PM10 temporal coverage (%)   \n",
       "count                         7275.000000                 5381.000000  \\\n",
       "mean                            90.794096                   90.583500   \n",
       "std                             14.872681                   13.816311   \n",
       "min                              0.000000                    2.568493   \n",
       "25%                             88.595890                   87.945205   \n",
       "50%                             97.000000                   96.039000   \n",
       "75%                             99.000000                   98.938000   \n",
       "max                            100.000000                  100.000000   \n",
       "missing_ratio                   77.400516                   83.284148   \n",
       "\n",
       "               NO2 temporal coverage (%)  Version of the database  Status  \n",
       "count                       19890.000000             32191.000000     0.0  \n",
       "mean                           93.696804              2021.744214     NaN  \n",
       "std                            10.451751                 1.051897     NaN  \n",
       "min                             1.923077              2016.000000     NaN  \n",
       "25%                            93.207763              2022.000000     NaN  \n",
       "50%                            96.369863              2022.000000     NaN  \n",
       "75%                            98.926941              2022.000000     NaN  \n",
       "max                           100.000000              2022.000000     NaN  \n",
       "missing_ratio                  38.212544                 0.000000   100.0  "
      ]
     },
     "execution_count": 4,
     "metadata": {},
     "output_type": "execute_result"
    }
   ],
   "source": [
    "numeric = df.describe()\n",
    "numeric.loc['missing_ratio'] = (1 - numeric.loc['count'] / rows) * 100\n",
    "numeric"
   ]
  },
  {
   "cell_type": "code",
   "execution_count": 5,
   "id": "ecd3bf33",
   "metadata": {},
   "outputs": [
    {
     "data": {
      "text/html": [
       "<div>\n",
       "<style scoped>\n",
       "    .dataframe tbody tr th:only-of-type {\n",
       "        vertical-align: middle;\n",
       "    }\n",
       "\n",
       "    .dataframe tbody tr th {\n",
       "        vertical-align: top;\n",
       "    }\n",
       "\n",
       "    .dataframe thead th {\n",
       "        text-align: right;\n",
       "    }\n",
       "</style>\n",
       "<table border=\"1\" class=\"dataframe\">\n",
       "  <thead>\n",
       "    <tr style=\"text-align: right;\">\n",
       "      <th></th>\n",
       "      <th>WHO Region</th>\n",
       "      <th>ISO3</th>\n",
       "      <th>WHO Country Name</th>\n",
       "      <th>City or Locality</th>\n",
       "      <th>Reference</th>\n",
       "      <th>Number and type of monitoring stations</th>\n",
       "    </tr>\n",
       "  </thead>\n",
       "  <tbody>\n",
       "    <tr>\n",
       "      <th>0</th>\n",
       "      <td>Eastern Mediterranean Region</td>\n",
       "      <td>AFG</td>\n",
       "      <td>Afghanistan</td>\n",
       "      <td>Kabul</td>\n",
       "      <td>U.S. Department of State, United States Enviro...</td>\n",
       "      <td>NaN</td>\n",
       "    </tr>\n",
       "    <tr>\n",
       "      <th>1</th>\n",
       "      <td>European Region</td>\n",
       "      <td>ALB</td>\n",
       "      <td>Albania</td>\n",
       "      <td>Durres</td>\n",
       "      <td>European Environment Agency (downloaded in 2021)</td>\n",
       "      <td>NaN</td>\n",
       "    </tr>\n",
       "    <tr>\n",
       "      <th>2</th>\n",
       "      <td>European Region</td>\n",
       "      <td>ALB</td>\n",
       "      <td>Albania</td>\n",
       "      <td>Durres</td>\n",
       "      <td>European Environment Agency (downloaded in 2021)</td>\n",
       "      <td>NaN</td>\n",
       "    </tr>\n",
       "    <tr>\n",
       "      <th>3</th>\n",
       "      <td>European Region</td>\n",
       "      <td>ALB</td>\n",
       "      <td>Albania</td>\n",
       "      <td>Elbasan</td>\n",
       "      <td>European Environment Agency (downloaded in 2021)</td>\n",
       "      <td>NaN</td>\n",
       "    </tr>\n",
       "    <tr>\n",
       "      <th>4</th>\n",
       "      <td>European Region</td>\n",
       "      <td>ALB</td>\n",
       "      <td>Albania</td>\n",
       "      <td>Elbasan</td>\n",
       "      <td>European Environment Agency (downloaded in 2021)</td>\n",
       "      <td>NaN</td>\n",
       "    </tr>\n",
       "    <tr>\n",
       "      <th>...</th>\n",
       "      <td>...</td>\n",
       "      <td>...</td>\n",
       "      <td>...</td>\n",
       "      <td>...</td>\n",
       "      <td>...</td>\n",
       "      <td>...</td>\n",
       "    </tr>\n",
       "    <tr>\n",
       "      <th>32186</th>\n",
       "      <td>African Region</td>\n",
       "      <td>ZAF</td>\n",
       "      <td>South Africa</td>\n",
       "      <td>West Coast</td>\n",
       "      <td>South African Air Quality Information System</td>\n",
       "      <td>3 Residential-Medium/Upper income</td>\n",
       "    </tr>\n",
       "    <tr>\n",
       "      <th>32187</th>\n",
       "      <td>African Region</td>\n",
       "      <td>ZAF</td>\n",
       "      <td>South Africa</td>\n",
       "      <td>West Coast</td>\n",
       "      <td>South African Air Quality Information System</td>\n",
       "      <td>2 Residential-Medium/Upper income</td>\n",
       "    </tr>\n",
       "    <tr>\n",
       "      <th>32188</th>\n",
       "      <td>African Region</td>\n",
       "      <td>ZAF</td>\n",
       "      <td>South Africa</td>\n",
       "      <td>West Coast</td>\n",
       "      <td>South African Air Quality Information System</td>\n",
       "      <td>2 Residential-Medium/Upper income</td>\n",
       "    </tr>\n",
       "    <tr>\n",
       "      <th>32189</th>\n",
       "      <td>African Region</td>\n",
       "      <td>ZAF</td>\n",
       "      <td>South Africa</td>\n",
       "      <td>West Coast</td>\n",
       "      <td>South African Air Quality Information System</td>\n",
       "      <td>2 Residential-Medium/Upper income</td>\n",
       "    </tr>\n",
       "    <tr>\n",
       "      <th>32190</th>\n",
       "      <td>African Region</td>\n",
       "      <td>ZAF</td>\n",
       "      <td>South Africa</td>\n",
       "      <td>West Rand</td>\n",
       "      <td>South African Air Quality Information System</td>\n",
       "      <td>1 N/A</td>\n",
       "    </tr>\n",
       "  </tbody>\n",
       "</table>\n",
       "<p>32191 rows × 6 columns</p>\n",
       "</div>"
      ],
      "text/plain": [
       "                         WHO Region ISO3 WHO Country Name City or Locality   \n",
       "0      Eastern Mediterranean Region  AFG      Afghanistan            Kabul  \\\n",
       "1                   European Region  ALB          Albania           Durres   \n",
       "2                   European Region  ALB          Albania           Durres   \n",
       "3                   European Region  ALB          Albania          Elbasan   \n",
       "4                   European Region  ALB          Albania          Elbasan   \n",
       "...                             ...  ...              ...              ...   \n",
       "32186                African Region  ZAF     South Africa       West Coast   \n",
       "32187                African Region  ZAF     South Africa       West Coast   \n",
       "32188                African Region  ZAF     South Africa       West Coast   \n",
       "32189                African Region  ZAF     South Africa       West Coast   \n",
       "32190                African Region  ZAF     South Africa        West Rand   \n",
       "\n",
       "                                               Reference   \n",
       "0      U.S. Department of State, United States Enviro...  \\\n",
       "1       European Environment Agency (downloaded in 2021)   \n",
       "2       European Environment Agency (downloaded in 2021)   \n",
       "3       European Environment Agency (downloaded in 2021)   \n",
       "4       European Environment Agency (downloaded in 2021)   \n",
       "...                                                  ...   \n",
       "32186       South African Air Quality Information System   \n",
       "32187       South African Air Quality Information System   \n",
       "32188       South African Air Quality Information System   \n",
       "32189       South African Air Quality Information System   \n",
       "32190       South African Air Quality Information System   \n",
       "\n",
       "      Number and type of monitoring stations  \n",
       "0                                        NaN  \n",
       "1                                        NaN  \n",
       "2                                        NaN  \n",
       "3                                        NaN  \n",
       "4                                        NaN  \n",
       "...                                      ...  \n",
       "32186      3 Residential-Medium/Upper income  \n",
       "32187      2 Residential-Medium/Upper income  \n",
       "32188      2 Residential-Medium/Upper income  \n",
       "32189      2 Residential-Medium/Upper income  \n",
       "32190                                  1 N/A  \n",
       "\n",
       "[32191 rows x 6 columns]"
      ]
     },
     "execution_count": 5,
     "metadata": {},
     "output_type": "execute_result"
    }
   ],
   "source": [
    "df.select_dtypes(include=['object'])"
   ]
  },
  {
   "cell_type": "code",
   "execution_count": 6,
   "id": "4555c0a8",
   "metadata": {},
   "outputs": [
    {
     "data": {
      "text/html": [
       "<div>\n",
       "<style scoped>\n",
       "    .dataframe tbody tr th:only-of-type {\n",
       "        vertical-align: middle;\n",
       "    }\n",
       "\n",
       "    .dataframe tbody tr th {\n",
       "        vertical-align: top;\n",
       "    }\n",
       "\n",
       "    .dataframe thead th {\n",
       "        text-align: right;\n",
       "    }\n",
       "</style>\n",
       "<table border=\"1\" class=\"dataframe\">\n",
       "  <thead>\n",
       "    <tr style=\"text-align: right;\">\n",
       "      <th></th>\n",
       "      <th>WHO Region</th>\n",
       "      <th>ISO3</th>\n",
       "      <th>WHO Country Name</th>\n",
       "      <th>City or Locality</th>\n",
       "      <th>Reference</th>\n",
       "      <th>Number and type of monitoring stations</th>\n",
       "    </tr>\n",
       "  </thead>\n",
       "  <tbody>\n",
       "    <tr>\n",
       "      <th>missing_percentage</th>\n",
       "      <td>0.003106</td>\n",
       "      <td>0.0</td>\n",
       "      <td>0.0</td>\n",
       "      <td>0.0</td>\n",
       "      <td>0.015532</td>\n",
       "      <td>72.793638</td>\n",
       "    </tr>\n",
       "    <tr>\n",
       "      <th>num_values</th>\n",
       "      <td>6</td>\n",
       "      <td>118</td>\n",
       "      <td>118</td>\n",
       "      <td>6874</td>\n",
       "      <td>253</td>\n",
       "      <td>634</td>\n",
       "    </tr>\n",
       "    <tr>\n",
       "      <th>value_percentages</th>\n",
       "      <td>{'European Region': 63.0, 'Western Pacific Reg...</td>\n",
       "      <td>{'CHN': 12.3, 'ITA': 9.7, 'DEU': 8.1, 'ESP': 7...</td>\n",
       "      <td>{'China': 12.3, 'Italy': 9.7, 'Germany': 8.1, ...</td>\n",
       "      <td>{'Saxon': 0.1, 'Avully': 0.1, 'Basel': 0.1, 'M...</td>\n",
       "      <td>{'European Environment Agency (downloaded in 2...</td>\n",
       "      <td>{'1 NA': 10.6, '2 NA': 7.0, '2 urban': 5.6, '1...</td>\n",
       "    </tr>\n",
       "  </tbody>\n",
       "</table>\n",
       "</div>"
      ],
      "text/plain": [
       "                                                           WHO Region   \n",
       "missing_percentage                                           0.003106  \\\n",
       "num_values                                                          6   \n",
       "value_percentages   {'European Region': 63.0, 'Western Pacific Reg...   \n",
       "\n",
       "                                                                 ISO3   \n",
       "missing_percentage                                                0.0  \\\n",
       "num_values                                                        118   \n",
       "value_percentages   {'CHN': 12.3, 'ITA': 9.7, 'DEU': 8.1, 'ESP': 7...   \n",
       "\n",
       "                                                     WHO Country Name   \n",
       "missing_percentage                                                0.0  \\\n",
       "num_values                                                        118   \n",
       "value_percentages   {'China': 12.3, 'Italy': 9.7, 'Germany': 8.1, ...   \n",
       "\n",
       "                                                     City or Locality   \n",
       "missing_percentage                                                0.0  \\\n",
       "num_values                                                       6874   \n",
       "value_percentages   {'Saxon': 0.1, 'Avully': 0.1, 'Basel': 0.1, 'M...   \n",
       "\n",
       "                                                            Reference   \n",
       "missing_percentage                                           0.015532  \\\n",
       "num_values                                                        253   \n",
       "value_percentages   {'European Environment Agency (downloaded in 2...   \n",
       "\n",
       "                               Number and type of monitoring stations  \n",
       "missing_percentage                                          72.793638  \n",
       "num_values                                                        634  \n",
       "value_percentages   {'1 NA': 10.6, '2 NA': 7.0, '2 urban': 5.6, '1...  "
      ]
     },
     "execution_count": 6,
     "metadata": {},
     "output_type": "execute_result"
    }
   ],
   "source": [
    "data = df.select_dtypes(include=['object'])\n",
    "value_percentages = data.apply(lambda x: (x.str.split(';').explode().dropna().value_counts(normalize = True)*100).round(1).to_dict())\n",
    "missing_percentage = data.apply(lambda x: ((1-x.value_counts().sum()/len(data)) * 100).round(6))\n",
    "num_values = data.apply(lambda x: len(pd.Series(x.unique()).str.split(';').explode().dropna().unique()))\n",
    "cate_col_info_df = pd.DataFrame({'missing_percentage':missing_percentage,\n",
    "                                'num_values':num_values,\n",
    "                                'value_percentages': value_percentages})\n",
    "cate_col_info_df = cate_col_info_df.T\n",
    "\n",
    "cate_col_info_df"
   ]
  },
  {
   "cell_type": "code",
   "execution_count": 7,
   "id": "cd39e05b",
   "metadata": {},
   "outputs": [],
   "source": [
    "df.dropna(subset=['WHO Region'],inplace=True)"
   ]
  },
  {
   "cell_type": "code",
   "execution_count": 8,
   "id": "f0e640d5",
   "metadata": {},
   "outputs": [
    {
     "data": {
      "text/html": [
       "<div>\n",
       "<style scoped>\n",
       "    .dataframe tbody tr th:only-of-type {\n",
       "        vertical-align: middle;\n",
       "    }\n",
       "\n",
       "    .dataframe tbody tr th {\n",
       "        vertical-align: top;\n",
       "    }\n",
       "\n",
       "    .dataframe thead th {\n",
       "        text-align: right;\n",
       "    }\n",
       "</style>\n",
       "<table border=\"1\" class=\"dataframe\">\n",
       "  <thead>\n",
       "    <tr style=\"text-align: right;\">\n",
       "      <th></th>\n",
       "      <th>WHO Region</th>\n",
       "      <th>ISO3</th>\n",
       "      <th>WHO Country Name</th>\n",
       "      <th>City or Locality</th>\n",
       "      <th>Measurement Year</th>\n",
       "      <th>PM2.5 (μg/m3)</th>\n",
       "      <th>PM10 (μg/m3)</th>\n",
       "      <th>NO2 (μg/m3)</th>\n",
       "      <th>PM25 temporal coverage (%)</th>\n",
       "      <th>PM10 temporal coverage (%)</th>\n",
       "      <th>NO2 temporal coverage (%)</th>\n",
       "      <th>Reference</th>\n",
       "      <th>Number and type of monitoring stations</th>\n",
       "      <th>Version of the database</th>\n",
       "    </tr>\n",
       "  </thead>\n",
       "  <tbody>\n",
       "    <tr>\n",
       "      <th>0</th>\n",
       "      <td>Eastern Mediterranean Region</td>\n",
       "      <td>AFG</td>\n",
       "      <td>Afghanistan</td>\n",
       "      <td>Kabul</td>\n",
       "      <td>2019</td>\n",
       "      <td>119.77</td>\n",
       "      <td>NaN</td>\n",
       "      <td>NaN</td>\n",
       "      <td>18.0</td>\n",
       "      <td>NaN</td>\n",
       "      <td>NaN</td>\n",
       "      <td>U.S. Department of State, United States Enviro...</td>\n",
       "      <td>NaN</td>\n",
       "      <td>2022</td>\n",
       "    </tr>\n",
       "    <tr>\n",
       "      <th>1</th>\n",
       "      <td>European Region</td>\n",
       "      <td>ALB</td>\n",
       "      <td>Albania</td>\n",
       "      <td>Durres</td>\n",
       "      <td>2015</td>\n",
       "      <td>NaN</td>\n",
       "      <td>17.65</td>\n",
       "      <td>26.63</td>\n",
       "      <td>NaN</td>\n",
       "      <td>NaN</td>\n",
       "      <td>83.961187</td>\n",
       "      <td>European Environment Agency (downloaded in 2021)</td>\n",
       "      <td>NaN</td>\n",
       "      <td>2022</td>\n",
       "    </tr>\n",
       "    <tr>\n",
       "      <th>2</th>\n",
       "      <td>European Region</td>\n",
       "      <td>ALB</td>\n",
       "      <td>Albania</td>\n",
       "      <td>Durres</td>\n",
       "      <td>2016</td>\n",
       "      <td>14.32</td>\n",
       "      <td>24.56</td>\n",
       "      <td>24.78</td>\n",
       "      <td>NaN</td>\n",
       "      <td>NaN</td>\n",
       "      <td>87.932605</td>\n",
       "      <td>European Environment Agency (downloaded in 2021)</td>\n",
       "      <td>NaN</td>\n",
       "      <td>2022</td>\n",
       "    </tr>\n",
       "    <tr>\n",
       "      <th>3</th>\n",
       "      <td>European Region</td>\n",
       "      <td>ALB</td>\n",
       "      <td>Albania</td>\n",
       "      <td>Elbasan</td>\n",
       "      <td>2015</td>\n",
       "      <td>NaN</td>\n",
       "      <td>NaN</td>\n",
       "      <td>23.96</td>\n",
       "      <td>NaN</td>\n",
       "      <td>NaN</td>\n",
       "      <td>97.853881</td>\n",
       "      <td>European Environment Agency (downloaded in 2021)</td>\n",
       "      <td>NaN</td>\n",
       "      <td>2022</td>\n",
       "    </tr>\n",
       "    <tr>\n",
       "      <th>4</th>\n",
       "      <td>European Region</td>\n",
       "      <td>ALB</td>\n",
       "      <td>Albania</td>\n",
       "      <td>Elbasan</td>\n",
       "      <td>2016</td>\n",
       "      <td>NaN</td>\n",
       "      <td>NaN</td>\n",
       "      <td>26.26</td>\n",
       "      <td>NaN</td>\n",
       "      <td>NaN</td>\n",
       "      <td>96.049636</td>\n",
       "      <td>European Environment Agency (downloaded in 2021)</td>\n",
       "      <td>NaN</td>\n",
       "      <td>2022</td>\n",
       "    </tr>\n",
       "  </tbody>\n",
       "</table>\n",
       "</div>"
      ],
      "text/plain": [
       "                     WHO Region ISO3 WHO Country Name City or Locality   \n",
       "0  Eastern Mediterranean Region  AFG      Afghanistan            Kabul  \\\n",
       "1               European Region  ALB          Albania           Durres   \n",
       "2               European Region  ALB          Albania           Durres   \n",
       "3               European Region  ALB          Albania          Elbasan   \n",
       "4               European Region  ALB          Albania          Elbasan   \n",
       "\n",
       "   Measurement Year  PM2.5 (μg/m3)  PM10 (μg/m3)  NO2 (μg/m3)   \n",
       "0              2019         119.77           NaN          NaN  \\\n",
       "1              2015            NaN         17.65        26.63   \n",
       "2              2016          14.32         24.56        24.78   \n",
       "3              2015            NaN           NaN        23.96   \n",
       "4              2016            NaN           NaN        26.26   \n",
       "\n",
       "   PM25 temporal coverage (%)  PM10 temporal coverage (%)   \n",
       "0                        18.0                         NaN  \\\n",
       "1                         NaN                         NaN   \n",
       "2                         NaN                         NaN   \n",
       "3                         NaN                         NaN   \n",
       "4                         NaN                         NaN   \n",
       "\n",
       "   NO2 temporal coverage (%)   \n",
       "0                        NaN  \\\n",
       "1                  83.961187   \n",
       "2                  87.932605   \n",
       "3                  97.853881   \n",
       "4                  96.049636   \n",
       "\n",
       "                                           Reference   \n",
       "0  U.S. Department of State, United States Enviro...  \\\n",
       "1   European Environment Agency (downloaded in 2021)   \n",
       "2   European Environment Agency (downloaded in 2021)   \n",
       "3   European Environment Agency (downloaded in 2021)   \n",
       "4   European Environment Agency (downloaded in 2021)   \n",
       "\n",
       "  Number and type of monitoring stations  Version of the database  \n",
       "0                                    NaN                     2022  \n",
       "1                                    NaN                     2022  \n",
       "2                                    NaN                     2022  \n",
       "3                                    NaN                     2022  \n",
       "4                                    NaN                     2022  "
      ]
     },
     "execution_count": 8,
     "metadata": {},
     "output_type": "execute_result"
    }
   ],
   "source": [
    "df.drop(columns = 'Status', inplace = True)\n",
    "df.head()"
   ]
  },
  {
   "cell_type": "code",
   "execution_count": 9,
   "id": "55096e06",
   "metadata": {},
   "outputs": [
    {
     "data": {
      "text/plain": [
       "Index(['WHO Region', 'ISO3', 'WHO Country Name', 'City or Locality',\n",
       "       'Measurement Year', 'PM2.5 (μg/m3)', 'PM10 (μg/m3)', 'NO2 (μg/m3)',\n",
       "       'PM25 temporal coverage (%)', 'PM10 temporal coverage (%)',\n",
       "       'NO2 temporal coverage (%)', 'Reference',\n",
       "       'Number and type of monitoring stations', 'Version of the database'],\n",
       "      dtype='object')"
      ]
     },
     "execution_count": 9,
     "metadata": {},
     "output_type": "execute_result"
    }
   ],
   "source": [
    "df.columns"
   ]
  },
  {
   "cell_type": "markdown",
   "id": "fa070923",
   "metadata": {},
   "source": [
    "# Visualization"
   ]
  },
  {
   "cell_type": "code",
   "execution_count": 10,
   "id": "7c880139",
   "metadata": {},
   "outputs": [],
   "source": [
    "df1 = df[['PM2.5 (μg/m3)', 'PM10 (μg/m3)', 'NO2 (μg/m3)','WHO Region','WHO Country Name', 'City or Locality','Measurement Year']]"
   ]
  },
  {
   "cell_type": "code",
   "execution_count": 11,
   "id": "c93fdcd4",
   "metadata": {},
   "outputs": [
    {
     "data": {
      "text/html": [
       "<div>\n",
       "<style scoped>\n",
       "    .dataframe tbody tr th:only-of-type {\n",
       "        vertical-align: middle;\n",
       "    }\n",
       "\n",
       "    .dataframe tbody tr th {\n",
       "        vertical-align: top;\n",
       "    }\n",
       "\n",
       "    .dataframe thead th {\n",
       "        text-align: right;\n",
       "    }\n",
       "</style>\n",
       "<table border=\"1\" class=\"dataframe\">\n",
       "  <thead>\n",
       "    <tr style=\"text-align: right;\">\n",
       "      <th></th>\n",
       "      <th>PM2.5 (μg/m3)</th>\n",
       "      <th>PM10 (μg/m3)</th>\n",
       "      <th>NO2 (μg/m3)</th>\n",
       "      <th>WHO Region</th>\n",
       "      <th>WHO Country Name</th>\n",
       "      <th>City or Locality</th>\n",
       "      <th>Measurement Year</th>\n",
       "    </tr>\n",
       "  </thead>\n",
       "  <tbody>\n",
       "    <tr>\n",
       "      <th>0</th>\n",
       "      <td>119.77</td>\n",
       "      <td>NaN</td>\n",
       "      <td>NaN</td>\n",
       "      <td>Eastern Mediterranean Region</td>\n",
       "      <td>Afghanistan</td>\n",
       "      <td>Kabul</td>\n",
       "      <td>2019</td>\n",
       "    </tr>\n",
       "    <tr>\n",
       "      <th>1</th>\n",
       "      <td>NaN</td>\n",
       "      <td>17.65</td>\n",
       "      <td>26.63</td>\n",
       "      <td>European Region</td>\n",
       "      <td>Albania</td>\n",
       "      <td>Durres</td>\n",
       "      <td>2015</td>\n",
       "    </tr>\n",
       "    <tr>\n",
       "      <th>2</th>\n",
       "      <td>14.32</td>\n",
       "      <td>24.56</td>\n",
       "      <td>24.78</td>\n",
       "      <td>European Region</td>\n",
       "      <td>Albania</td>\n",
       "      <td>Durres</td>\n",
       "      <td>2016</td>\n",
       "    </tr>\n",
       "    <tr>\n",
       "      <th>3</th>\n",
       "      <td>NaN</td>\n",
       "      <td>NaN</td>\n",
       "      <td>23.96</td>\n",
       "      <td>European Region</td>\n",
       "      <td>Albania</td>\n",
       "      <td>Elbasan</td>\n",
       "      <td>2015</td>\n",
       "    </tr>\n",
       "    <tr>\n",
       "      <th>4</th>\n",
       "      <td>NaN</td>\n",
       "      <td>NaN</td>\n",
       "      <td>26.26</td>\n",
       "      <td>European Region</td>\n",
       "      <td>Albania</td>\n",
       "      <td>Elbasan</td>\n",
       "      <td>2016</td>\n",
       "    </tr>\n",
       "    <tr>\n",
       "      <th>...</th>\n",
       "      <td>...</td>\n",
       "      <td>...</td>\n",
       "      <td>...</td>\n",
       "      <td>...</td>\n",
       "      <td>...</td>\n",
       "      <td>...</td>\n",
       "      <td>...</td>\n",
       "    </tr>\n",
       "    <tr>\n",
       "      <th>32186</th>\n",
       "      <td>7.47</td>\n",
       "      <td>24.64</td>\n",
       "      <td>7.64</td>\n",
       "      <td>African Region</td>\n",
       "      <td>South Africa</td>\n",
       "      <td>West Coast</td>\n",
       "      <td>2015</td>\n",
       "    </tr>\n",
       "    <tr>\n",
       "      <th>32187</th>\n",
       "      <td>8.42</td>\n",
       "      <td>33.28</td>\n",
       "      <td>7.27</td>\n",
       "      <td>African Region</td>\n",
       "      <td>South Africa</td>\n",
       "      <td>West Coast</td>\n",
       "      <td>2016</td>\n",
       "    </tr>\n",
       "    <tr>\n",
       "      <th>32188</th>\n",
       "      <td>6.83</td>\n",
       "      <td>20.49</td>\n",
       "      <td>8.72</td>\n",
       "      <td>African Region</td>\n",
       "      <td>South Africa</td>\n",
       "      <td>West Coast</td>\n",
       "      <td>2017</td>\n",
       "    </tr>\n",
       "    <tr>\n",
       "      <th>32189</th>\n",
       "      <td>6.10</td>\n",
       "      <td>17.99</td>\n",
       "      <td>7.15</td>\n",
       "      <td>African Region</td>\n",
       "      <td>South Africa</td>\n",
       "      <td>West Coast</td>\n",
       "      <td>2018</td>\n",
       "    </tr>\n",
       "    <tr>\n",
       "      <th>32190</th>\n",
       "      <td>NaN</td>\n",
       "      <td>NaN</td>\n",
       "      <td>17.85</td>\n",
       "      <td>African Region</td>\n",
       "      <td>South Africa</td>\n",
       "      <td>West Rand</td>\n",
       "      <td>2016</td>\n",
       "    </tr>\n",
       "  </tbody>\n",
       "</table>\n",
       "<p>32190 rows × 7 columns</p>\n",
       "</div>"
      ],
      "text/plain": [
       "       PM2.5 (μg/m3)  PM10 (μg/m3)  NO2 (μg/m3)                    WHO Region   \n",
       "0             119.77           NaN          NaN  Eastern Mediterranean Region  \\\n",
       "1                NaN         17.65        26.63               European Region   \n",
       "2              14.32         24.56        24.78               European Region   \n",
       "3                NaN           NaN        23.96               European Region   \n",
       "4                NaN           NaN        26.26               European Region   \n",
       "...              ...           ...          ...                           ...   \n",
       "32186           7.47         24.64         7.64                African Region   \n",
       "32187           8.42         33.28         7.27                African Region   \n",
       "32188           6.83         20.49         8.72                African Region   \n",
       "32189           6.10         17.99         7.15                African Region   \n",
       "32190            NaN           NaN        17.85                African Region   \n",
       "\n",
       "      WHO Country Name City or Locality  Measurement Year  \n",
       "0          Afghanistan            Kabul              2019  \n",
       "1              Albania           Durres              2015  \n",
       "2              Albania           Durres              2016  \n",
       "3              Albania          Elbasan              2015  \n",
       "4              Albania          Elbasan              2016  \n",
       "...                ...              ...               ...  \n",
       "32186     South Africa       West Coast              2015  \n",
       "32187     South Africa       West Coast              2016  \n",
       "32188     South Africa       West Coast              2017  \n",
       "32189     South Africa       West Coast              2018  \n",
       "32190     South Africa        West Rand              2016  \n",
       "\n",
       "[32190 rows x 7 columns]"
      ]
     },
     "execution_count": 11,
     "metadata": {},
     "output_type": "execute_result"
    }
   ],
   "source": [
    "df1"
   ]
  },
  {
   "cell_type": "code",
   "execution_count": 12,
   "id": "f5d2c11c",
   "metadata": {},
   "outputs": [],
   "source": [
    "df1 = df1.fillna(0)"
   ]
  },
  {
   "cell_type": "code",
   "execution_count": 13,
   "id": "728f2894",
   "metadata": {},
   "outputs": [],
   "source": [
    "df1 = df1.groupby(['WHO Region','WHO Country Name','Measurement Year']).sum()[['PM2.5 (μg/m3)', 'PM10 (μg/m3)', 'NO2 (μg/m3)']].reset_index()"
   ]
  },
  {
   "cell_type": "code",
   "execution_count": 14,
   "id": "2a6d8ea4",
   "metadata": {},
   "outputs": [
    {
     "data": {
      "text/html": [
       "<div>\n",
       "<style scoped>\n",
       "    .dataframe tbody tr th:only-of-type {\n",
       "        vertical-align: middle;\n",
       "    }\n",
       "\n",
       "    .dataframe tbody tr th {\n",
       "        vertical-align: top;\n",
       "    }\n",
       "\n",
       "    .dataframe thead th {\n",
       "        text-align: right;\n",
       "    }\n",
       "</style>\n",
       "<table border=\"1\" class=\"dataframe\">\n",
       "  <thead>\n",
       "    <tr style=\"text-align: right;\">\n",
       "      <th></th>\n",
       "      <th>WHO Region</th>\n",
       "      <th>WHO Country Name</th>\n",
       "      <th>Measurement Year</th>\n",
       "      <th>PM2.5 (μg/m3)</th>\n",
       "      <th>PM10 (μg/m3)</th>\n",
       "      <th>NO2 (μg/m3)</th>\n",
       "    </tr>\n",
       "  </thead>\n",
       "  <tbody>\n",
       "    <tr>\n",
       "      <th>0</th>\n",
       "      <td>African Region</td>\n",
       "      <td>Algeria</td>\n",
       "      <td>2019</td>\n",
       "      <td>21.53</td>\n",
       "      <td>0.0</td>\n",
       "      <td>0.0</td>\n",
       "    </tr>\n",
       "    <tr>\n",
       "      <th>1</th>\n",
       "      <td>African Region</td>\n",
       "      <td>Cameroon</td>\n",
       "      <td>2012</td>\n",
       "      <td>248.00</td>\n",
       "      <td>311.0</td>\n",
       "      <td>0.0</td>\n",
       "    </tr>\n",
       "    <tr>\n",
       "      <th>2</th>\n",
       "      <td>African Region</td>\n",
       "      <td>Ethiopia</td>\n",
       "      <td>2016</td>\n",
       "      <td>28.30</td>\n",
       "      <td>0.0</td>\n",
       "      <td>0.0</td>\n",
       "    </tr>\n",
       "    <tr>\n",
       "      <th>3</th>\n",
       "      <td>African Region</td>\n",
       "      <td>Ethiopia</td>\n",
       "      <td>2017</td>\n",
       "      <td>27.24</td>\n",
       "      <td>0.0</td>\n",
       "      <td>0.0</td>\n",
       "    </tr>\n",
       "    <tr>\n",
       "      <th>4</th>\n",
       "      <td>African Region</td>\n",
       "      <td>Ethiopia</td>\n",
       "      <td>2018</td>\n",
       "      <td>28.79</td>\n",
       "      <td>0.0</td>\n",
       "      <td>0.0</td>\n",
       "    </tr>\n",
       "    <tr>\n",
       "      <th>...</th>\n",
       "      <td>...</td>\n",
       "      <td>...</td>\n",
       "      <td>...</td>\n",
       "      <td>...</td>\n",
       "      <td>...</td>\n",
       "      <td>...</td>\n",
       "    </tr>\n",
       "    <tr>\n",
       "      <th>712</th>\n",
       "      <td>Western Pacific Region</td>\n",
       "      <td>Viet Nam</td>\n",
       "      <td>2015</td>\n",
       "      <td>81.76</td>\n",
       "      <td>144.9</td>\n",
       "      <td>0.0</td>\n",
       "    </tr>\n",
       "    <tr>\n",
       "      <th>713</th>\n",
       "      <td>Western Pacific Region</td>\n",
       "      <td>Viet Nam</td>\n",
       "      <td>2016</td>\n",
       "      <td>140.76</td>\n",
       "      <td>0.0</td>\n",
       "      <td>0.0</td>\n",
       "    </tr>\n",
       "    <tr>\n",
       "      <th>714</th>\n",
       "      <td>Western Pacific Region</td>\n",
       "      <td>Viet Nam</td>\n",
       "      <td>2017</td>\n",
       "      <td>81.91</td>\n",
       "      <td>0.0</td>\n",
       "      <td>0.0</td>\n",
       "    </tr>\n",
       "    <tr>\n",
       "      <th>715</th>\n",
       "      <td>Western Pacific Region</td>\n",
       "      <td>Viet Nam</td>\n",
       "      <td>2018</td>\n",
       "      <td>66.76</td>\n",
       "      <td>0.0</td>\n",
       "      <td>0.0</td>\n",
       "    </tr>\n",
       "    <tr>\n",
       "      <th>716</th>\n",
       "      <td>Western Pacific Region</td>\n",
       "      <td>Viet Nam</td>\n",
       "      <td>2019</td>\n",
       "      <td>78.71</td>\n",
       "      <td>0.0</td>\n",
       "      <td>0.0</td>\n",
       "    </tr>\n",
       "  </tbody>\n",
       "</table>\n",
       "<p>717 rows × 6 columns</p>\n",
       "</div>"
      ],
      "text/plain": [
       "                 WHO Region WHO Country Name  Measurement Year  PM2.5 (μg/m3)   \n",
       "0            African Region          Algeria              2019          21.53  \\\n",
       "1            African Region         Cameroon              2012         248.00   \n",
       "2            African Region         Ethiopia              2016          28.30   \n",
       "3            African Region         Ethiopia              2017          27.24   \n",
       "4            African Region         Ethiopia              2018          28.79   \n",
       "..                      ...              ...               ...            ...   \n",
       "712  Western Pacific Region         Viet Nam              2015          81.76   \n",
       "713  Western Pacific Region         Viet Nam              2016         140.76   \n",
       "714  Western Pacific Region         Viet Nam              2017          81.91   \n",
       "715  Western Pacific Region         Viet Nam              2018          66.76   \n",
       "716  Western Pacific Region         Viet Nam              2019          78.71   \n",
       "\n",
       "     PM10 (μg/m3)  NO2 (μg/m3)  \n",
       "0             0.0          0.0  \n",
       "1           311.0          0.0  \n",
       "2             0.0          0.0  \n",
       "3             0.0          0.0  \n",
       "4             0.0          0.0  \n",
       "..            ...          ...  \n",
       "712         144.9          0.0  \n",
       "713           0.0          0.0  \n",
       "714           0.0          0.0  \n",
       "715           0.0          0.0  \n",
       "716           0.0          0.0  \n",
       "\n",
       "[717 rows x 6 columns]"
      ]
     },
     "execution_count": 14,
     "metadata": {},
     "output_type": "execute_result"
    }
   ],
   "source": [
    "df1"
   ]
  },
  {
   "cell_type": "code",
   "execution_count": 15,
   "id": "d04dfa88",
   "metadata": {},
   "outputs": [],
   "source": [
    "df1.to_csv('haha.csv')"
   ]
  },
  {
   "cell_type": "code",
   "execution_count": 31,
   "id": "62f7a7d7",
   "metadata": {},
   "outputs": [
    {
     "data": {
      "text/html": [
       "\n",
       "        <iframe\n",
       "            width=\"800\"\n",
       "            height=\"600\"\n",
       "            src=\"http://127.0.0.1:8050/\"\n",
       "            frameborder=\"0\"\n",
       "            allowfullscreen\n",
       "            \n",
       "        ></iframe>\n",
       "        "
      ],
      "text/plain": [
       "<IPython.lib.display.IFrame at 0x7fef1d0b58e0>"
      ]
     },
     "execution_count": 31,
     "metadata": {},
     "output_type": "execute_result"
    }
   ],
   "source": [
    "from IPython.display import IFrame\n",
    "\n",
    "IFrame('http://127.0.0.1:8050/', width=800, height=600)"
   ]
  },
  {
   "cell_type": "code",
   "execution_count": 17,
   "id": "363c4a32",
   "metadata": {},
   "outputs": [],
   "source": [
    "df2 = df[['PM2.5 (μg/m3)', 'PM10 (μg/m3)', 'NO2 (μg/m3)','WHO Region','WHO Country Name', 'City or Locality']]"
   ]
  },
  {
   "cell_type": "code",
   "execution_count": 18,
   "id": "b4e8ba24",
   "metadata": {},
   "outputs": [],
   "source": [
    "df2 = df2.fillna(0)"
   ]
  },
  {
   "cell_type": "code",
   "execution_count": 19,
   "id": "80aaa671",
   "metadata": {},
   "outputs": [],
   "source": [
    "df2 = df2.groupby(['WHO Region','WHO Country Name']).sum()[['PM2.5 (μg/m3)', 'PM10 (μg/m3)', 'NO2 (μg/m3)']].reset_index()"
   ]
  },
  {
   "cell_type": "code",
   "execution_count": 20,
   "id": "1e0ee2aa",
   "metadata": {},
   "outputs": [],
   "source": [
    "from dash import Dash, dcc, html\n",
    "import plotly.express as px"
   ]
  },
  {
   "cell_type": "code",
   "execution_count": 54,
   "id": "ebc71bc9",
   "metadata": {},
   "outputs": [
    {
     "data": {
      "application/vnd.plotly.v1+json": {
       "config": {
        "plotlyServerURL": "https://plot.ly"
       },
       "data": [
        {
         "hovertemplate": "<b>%{hovertext}</b><br><br>WHO Region=African Region<br>PM2.5 (μg/m3)=%{x}<br>PM10 (μg/m3)=%{y}<br>NO2 (μg/m3)=%{marker.size}<extra></extra>",
         "hovertext": [
          "Algeria",
          "Cameroon",
          "Ethiopia",
          "Ghana",
          "Kenya",
          "Madagascar",
          "Mauritius",
          "Nigeria",
          "Senegal",
          "South Africa",
          "Uganda",
          "United Republic of Tanzania"
         ],
         "legendgroup": "African Region",
         "marker": {
          "color": "#636efa",
          "size": [
           0,
           0,
           0,
           0,
           0,
           0,
           14.95,
           0,
           239.11,
           2617.81,
           0,
           0
          ],
          "sizemode": "area",
          "sizeref": 18.585861111111114,
          "symbol": "circle"
         },
         "mode": "markers",
         "name": "African Region",
         "orientation": "v",
         "showlegend": true,
         "type": "scatter",
         "x": [
          21.53,
          248,
          104.81,
          55,
          16.7,
          187,
          0,
          27.43,
          179.28,
          2266.87,
          277.2,
          23.32
         ],
         "xaxis": "x",
         "y": [
          0,
          311,
          0,
          701.5,
          37.3,
          336,
          339.44,
          0,
          948.62,
          5425.7,
          170.4,
          35.1
         ],
         "yaxis": "y"
        },
        {
         "hovertemplate": "<b>%{hovertext}</b><br><br>WHO Region=Eastern Mediterranean Region<br>PM2.5 (μg/m3)=%{x}<br>PM10 (μg/m3)=%{y}<br>NO2 (μg/m3)=%{marker.size}<extra></extra>",
         "hovertext": [
          "Afghanistan",
          "Bahrain",
          "Egypt",
          "Iran (Islamic Republic of)",
          "Iraq",
          "Jordan",
          "Kuwait",
          "Lebanon",
          "Morocco",
          "Pakistan",
          "Qatar",
          "Saudi Arabia",
          "Tunisia",
          "United Arab Emirates"
         ],
         "legendgroup": "Eastern Mediterranean Region",
         "marker": {
          "color": "#EF553B",
          "size": [
           0,
           103.25,
           0,
           2847.2,
           535.27,
           199.86,
           1426.9,
           106,
           163.39000000000001,
           72.8,
           176,
           0,
           0,
           1180.8799999999999
          ],
          "sizemode": "area",
          "sizeref": 18.585861111111114,
          "symbol": "circle"
         },
         "mode": "markers",
         "name": "Eastern Mediterranean Region",
         "orientation": "v",
         "showlegend": true,
         "type": "scatter",
         "x": [
          119.77,
          485.15,
          0,
          4411.25,
          130.01999999999998,
          45.83,
          1446.27,
          172.3,
          0,
          746.14,
          314,
          314.12,
          0,
          227.13
         ],
         "xaxis": "x",
         "y": [
          0,
          5818,
          1362,
          8872.87,
          1293.17,
          1295.71,
          7232.88,
          316.3,
          914.88,
          1334.17,
          1214,
          744.7,
          315,
          4225.89
         ],
         "yaxis": "y"
        },
        {
         "hovertemplate": "<b>%{hovertext}</b><br><br>WHO Region=European Region<br>PM2.5 (μg/m3)=%{x}<br>PM10 (μg/m3)=%{y}<br>NO2 (μg/m3)=%{marker.size}<extra></extra>",
         "hovertext": [
          "Albania",
          "Andorra",
          "Austria",
          "Belgium",
          "Bosnia and Herzegovina",
          "Bulgaria",
          "Croatia",
          "Cyprus",
          "Czechia",
          "Denmark",
          "Estonia",
          "Finland",
          "France",
          "Georgia",
          "Germany",
          "Greece",
          "Hungary",
          "Iceland",
          "Ireland",
          "Israel",
          "Italy",
          "Kazakhstan",
          "Kyrgyzstan",
          "Latvia",
          "Lithuania",
          "Luxembourg",
          "Malta",
          "Monaco",
          "Montenegro",
          "Netherlands",
          "North Macedonia",
          "Norway",
          "Poland",
          "Portugal",
          "Romania",
          "Russian Federation",
          "Serbia",
          "Slovakia",
          "Slovenia",
          "Spain",
          "Sweden",
          "Switzerland",
          "Tajikistan",
          "Turkey",
          "Turkmenistan",
          "Ukraine",
          "United Kingdom",
          "Uzbekistan"
         ],
         "legendgroup": "European Region",
         "marker": {
          "color": "#00cc96",
          "size": [
           162.6,
           199.19,
           16767.61,
           10010.19,
           666.93,
           2428.73,
           1118.38,
           302.89,
           6475.93,
           889.52,
           379.41,
           2098.54,
           35303.44,
           0,
           59622.11,
           2852.15,
           2637.34,
           300.05,
           822.1,
           0,
           66909.1,
           0,
           0,
           567.93,
           1308.19,
           839,
           489,
           134.85,
           435.94,
           8496.95,
           452.6,
           3682.58,
           14235.59,
           4672.9,
           7296.0199999999995,
           0,
           1510.39,
           1957.24,
           1437.57,
           36864.43,
           4536.56,
           22056.23,
           0,
           7701.62,
           0,
           0,
           17132.34,
           0
          ],
          "sizemode": "area",
          "sizeref": 18.585861111111114,
          "symbol": "circle"
         },
         "mode": "markers",
         "name": "European Region",
         "orientation": "v",
         "showlegend": true,
         "type": "scatter",
         "x": [
          96.86,
          0,
          3056.6,
          4011.12,
          606.85,
          1088.41,
          867.21,
          595.28,
          6196.28,
          363.57,
          324.98,
          657.25,
          8092.04,
          73.5,
          13440.93,
          614.78,
          455.98,
          173.23,
          418.29,
          1654.26,
          23272.34,
          54.019999999999996,
          33.15,
          508.3,
          542.75,
          275.22,
          400.45,
          0,
          0,
          2983.72,
          128.16,
          1037.07,
          12717.45,
          769.97,
          1240.24,
          14,
          22.67,
          2414.09,
          418.67,
          6314.3,
          684.35,
          2671.09,
          71.52,
          2260.28,
          22.08,
          46.18,
          4516.11,
          85.05000000000001
         ],
         "xaxis": "x",
         "y": [
          204.6,
          179.91,
          14525.68,
          7808.79,
          1181.81,
          8045.09,
          1765.73,
          880.32,
          16339.16,
          694.57,
          508.92,
          2675.21,
          32422.99,
          169.49,
          37829.52,
          3067.27,
          3726,
          392.72,
          1101.1,
          4391.91,
          64430.84,
          0,
          0,
          859.49,
          2337.51,
          573.86,
          873.48,
          73.74000000000001,
          1186.65,
          7995.79,
          2104.43,
          2921.04,
          42475.39,
          5792.42,
          8899.53,
          47.730000000000004,
          1155.78,
          3837.09,
          2641.34,
          34127.66,
          4173.27,
          14982.7,
          0,
          29272.82,
          0,
          69.03,
          5882.68,
          0
         ],
         "yaxis": "y"
        },
        {
         "hovertemplate": "<b>%{hovertext}</b><br><br>WHO Region=Region of the Americas<br>PM2.5 (μg/m3)=%{x}<br>PM10 (μg/m3)=%{y}<br>NO2 (μg/m3)=%{marker.size}<extra></extra>",
         "hovertext": [
          "Argentina",
          "Bahamas",
          "Bolivia (Plurinational State of)",
          "Brazil",
          "Canada",
          "Chile",
          "Colombia",
          "Costa Rica",
          "Cuba",
          "Ecuador",
          "El Salvador",
          "Guatemala",
          "Honduras",
          "Jamaica",
          "Mexico",
          "Panama",
          "Paraguay",
          "Peru",
          "Trinidad and Tobago",
          "United States of America",
          "Uruguay",
          "Venezuela (Bolivarian Republic of)"
         ],
         "legendgroup": "Region of the Americas",
         "marker": {
          "color": "#ab63fa",
          "size": [
           69.77000000000001,
           0,
           0,
           6796.74,
           7392.36,
           742.77,
           515.71,
           40.71,
           0,
           355.26,
           0,
           137.42000000000002,
           0,
           0,
           3052.58,
           0,
           0,
           909.1899999999999,
           67.2,
           13673.69,
           0,
           0
          ],
          "sizemode": "area",
          "sizeref": 18.585861111111114,
          "symbol": "circle"
         },
         "mode": "markers",
         "name": "Region of the Americas",
         "orientation": "v",
         "showlegend": true,
         "type": "scatter",
         "x": [
          20.369999999999997,
          12.49,
          0,
          1216.47,
          6084.18,
          4920.55,
          976.79,
          112.4,
          34.8,
          184.57,
          277.25,
          90.05000000000001,
          36,
          0,
          2763.16,
          14,
          18.4,
          1399.34,
          74.8,
          5854.93,
          20,
          35
         ],
         "xaxis": "x",
         "y": [
          130.05,
          13.95,
          141.52,
          15284.53,
          1979.42,
          10515.22,
          3242.14,
          324.75,
          0,
          916.04,
          0,
          265.25,
          173,
          386.41,
          9331.08,
          31.1,
          0,
          5621.08,
          209.95,
          20810.72,
          44.83,
          94
         ],
         "yaxis": "y"
        },
        {
         "hovertemplate": "<b>%{hovertext}</b><br><br>WHO Region=South East Asia Region<br>PM2.5 (μg/m3)=%{x}<br>PM10 (μg/m3)=%{y}<br>NO2 (μg/m3)=%{marker.size}<extra></extra>",
         "hovertext": [
          "Bangladesh",
          "Bhutan",
          "India",
          "Indonesia",
          "Maldives",
          "Myanmar",
          "Nepal",
          "Sri Lanka",
          "Thailand"
         ],
         "legendgroup": "South East Asia Region",
         "marker": {
          "color": "#FFA15A",
          "size": [
           1253.4,
           0,
           46809.75,
           0,
           0,
           27.259999999999998,
           0,
           0,
           750.56
          ],
          "sizemode": "area",
          "sizeref": 18.585861111111114,
          "symbol": "circle"
         },
         "mode": "markers",
         "name": "South East Asia Region",
         "orientation": "v",
         "showlegend": true,
         "type": "scatter",
         "x": [
          4507.62,
          0,
          17027.26,
          429.89,
          0,
          18.08,
          804.53,
          86.63,
          817.1800000000001
         ],
         "xaxis": "x",
         "y": [
          7944.98,
          1805,
          117694.45,
          0,
          20,
          1265.5,
          788.69,
          128,
          4628.5
         ],
         "yaxis": "y"
        },
        {
         "hovertemplate": "<b>%{hovertext}</b><br><br>WHO Region=Western Pacific Region<br>PM2.5 (μg/m3)=%{x}<br>PM10 (μg/m3)=%{y}<br>NO2 (μg/m3)=%{marker.size}<extra></extra>",
         "hovertext": [
          "Australia",
          "China",
          "Fiji",
          "Japan",
          "Lao People's Democratic Republic",
          "Malaysia",
          "Mongolia",
          "New Zealand",
          "Philippines",
          "Republic of Korea",
          "Singapore",
          "Viet Nam"
         ],
         "legendgroup": "Western Pacific Region",
         "marker": {
          "color": "#19d3f3",
          "size": [
           644.96,
           10408.71,
           0,
           698.07,
           0,
           215.53,
           232,
           129.71,
           0,
           7100.76,
           264,
           0
          ],
          "sizemode": "area",
          "sizeref": 18.585861111111114,
          "symbol": "circle"
         },
         "mode": "markers",
         "name": "Western Pacific Region",
         "orientation": "v",
         "showlegend": true,
         "type": "scatter",
         "x": [
          1430.89,
          170827.47,
          15.129999999999999,
          846.21,
          25.77,
          371.46999999999997,
          886.39,
          416.23,
          1129,
          2374,
          186,
          449.90000000000003
         ],
         "xaxis": "x",
         "y": [
          3744.57,
          3122.43,
          0,
          0,
          0,
          653.45,
          1692.2,
          2527.81,
          2014.83,
          8434,
          59,
          600.4
         ],
         "yaxis": "y"
        }
       ],
       "layout": {
        "legend": {
         "itemsizing": "constant",
         "title": {
          "text": "WHO Region"
         },
         "tracegroupgap": 0
        },
        "margin": {
         "t": 60
        },
        "template": {
         "data": {
          "bar": [
           {
            "error_x": {
             "color": "#2a3f5f"
            },
            "error_y": {
             "color": "#2a3f5f"
            },
            "marker": {
             "line": {
              "color": "#E5ECF6",
              "width": 0.5
             },
             "pattern": {
              "fillmode": "overlay",
              "size": 10,
              "solidity": 0.2
             }
            },
            "type": "bar"
           }
          ],
          "barpolar": [
           {
            "marker": {
             "line": {
              "color": "#E5ECF6",
              "width": 0.5
             },
             "pattern": {
              "fillmode": "overlay",
              "size": 10,
              "solidity": 0.2
             }
            },
            "type": "barpolar"
           }
          ],
          "carpet": [
           {
            "aaxis": {
             "endlinecolor": "#2a3f5f",
             "gridcolor": "white",
             "linecolor": "white",
             "minorgridcolor": "white",
             "startlinecolor": "#2a3f5f"
            },
            "baxis": {
             "endlinecolor": "#2a3f5f",
             "gridcolor": "white",
             "linecolor": "white",
             "minorgridcolor": "white",
             "startlinecolor": "#2a3f5f"
            },
            "type": "carpet"
           }
          ],
          "choropleth": [
           {
            "colorbar": {
             "outlinewidth": 0,
             "ticks": ""
            },
            "type": "choropleth"
           }
          ],
          "contour": [
           {
            "colorbar": {
             "outlinewidth": 0,
             "ticks": ""
            },
            "colorscale": [
             [
              0,
              "#0d0887"
             ],
             [
              0.1111111111111111,
              "#46039f"
             ],
             [
              0.2222222222222222,
              "#7201a8"
             ],
             [
              0.3333333333333333,
              "#9c179e"
             ],
             [
              0.4444444444444444,
              "#bd3786"
             ],
             [
              0.5555555555555556,
              "#d8576b"
             ],
             [
              0.6666666666666666,
              "#ed7953"
             ],
             [
              0.7777777777777778,
              "#fb9f3a"
             ],
             [
              0.8888888888888888,
              "#fdca26"
             ],
             [
              1,
              "#f0f921"
             ]
            ],
            "type": "contour"
           }
          ],
          "contourcarpet": [
           {
            "colorbar": {
             "outlinewidth": 0,
             "ticks": ""
            },
            "type": "contourcarpet"
           }
          ],
          "heatmap": [
           {
            "colorbar": {
             "outlinewidth": 0,
             "ticks": ""
            },
            "colorscale": [
             [
              0,
              "#0d0887"
             ],
             [
              0.1111111111111111,
              "#46039f"
             ],
             [
              0.2222222222222222,
              "#7201a8"
             ],
             [
              0.3333333333333333,
              "#9c179e"
             ],
             [
              0.4444444444444444,
              "#bd3786"
             ],
             [
              0.5555555555555556,
              "#d8576b"
             ],
             [
              0.6666666666666666,
              "#ed7953"
             ],
             [
              0.7777777777777778,
              "#fb9f3a"
             ],
             [
              0.8888888888888888,
              "#fdca26"
             ],
             [
              1,
              "#f0f921"
             ]
            ],
            "type": "heatmap"
           }
          ],
          "heatmapgl": [
           {
            "colorbar": {
             "outlinewidth": 0,
             "ticks": ""
            },
            "colorscale": [
             [
              0,
              "#0d0887"
             ],
             [
              0.1111111111111111,
              "#46039f"
             ],
             [
              0.2222222222222222,
              "#7201a8"
             ],
             [
              0.3333333333333333,
              "#9c179e"
             ],
             [
              0.4444444444444444,
              "#bd3786"
             ],
             [
              0.5555555555555556,
              "#d8576b"
             ],
             [
              0.6666666666666666,
              "#ed7953"
             ],
             [
              0.7777777777777778,
              "#fb9f3a"
             ],
             [
              0.8888888888888888,
              "#fdca26"
             ],
             [
              1,
              "#f0f921"
             ]
            ],
            "type": "heatmapgl"
           }
          ],
          "histogram": [
           {
            "marker": {
             "pattern": {
              "fillmode": "overlay",
              "size": 10,
              "solidity": 0.2
             }
            },
            "type": "histogram"
           }
          ],
          "histogram2d": [
           {
            "colorbar": {
             "outlinewidth": 0,
             "ticks": ""
            },
            "colorscale": [
             [
              0,
              "#0d0887"
             ],
             [
              0.1111111111111111,
              "#46039f"
             ],
             [
              0.2222222222222222,
              "#7201a8"
             ],
             [
              0.3333333333333333,
              "#9c179e"
             ],
             [
              0.4444444444444444,
              "#bd3786"
             ],
             [
              0.5555555555555556,
              "#d8576b"
             ],
             [
              0.6666666666666666,
              "#ed7953"
             ],
             [
              0.7777777777777778,
              "#fb9f3a"
             ],
             [
              0.8888888888888888,
              "#fdca26"
             ],
             [
              1,
              "#f0f921"
             ]
            ],
            "type": "histogram2d"
           }
          ],
          "histogram2dcontour": [
           {
            "colorbar": {
             "outlinewidth": 0,
             "ticks": ""
            },
            "colorscale": [
             [
              0,
              "#0d0887"
             ],
             [
              0.1111111111111111,
              "#46039f"
             ],
             [
              0.2222222222222222,
              "#7201a8"
             ],
             [
              0.3333333333333333,
              "#9c179e"
             ],
             [
              0.4444444444444444,
              "#bd3786"
             ],
             [
              0.5555555555555556,
              "#d8576b"
             ],
             [
              0.6666666666666666,
              "#ed7953"
             ],
             [
              0.7777777777777778,
              "#fb9f3a"
             ],
             [
              0.8888888888888888,
              "#fdca26"
             ],
             [
              1,
              "#f0f921"
             ]
            ],
            "type": "histogram2dcontour"
           }
          ],
          "mesh3d": [
           {
            "colorbar": {
             "outlinewidth": 0,
             "ticks": ""
            },
            "type": "mesh3d"
           }
          ],
          "parcoords": [
           {
            "line": {
             "colorbar": {
              "outlinewidth": 0,
              "ticks": ""
             }
            },
            "type": "parcoords"
           }
          ],
          "pie": [
           {
            "automargin": true,
            "type": "pie"
           }
          ],
          "scatter": [
           {
            "fillpattern": {
             "fillmode": "overlay",
             "size": 10,
             "solidity": 0.2
            },
            "type": "scatter"
           }
          ],
          "scatter3d": [
           {
            "line": {
             "colorbar": {
              "outlinewidth": 0,
              "ticks": ""
             }
            },
            "marker": {
             "colorbar": {
              "outlinewidth": 0,
              "ticks": ""
             }
            },
            "type": "scatter3d"
           }
          ],
          "scattercarpet": [
           {
            "marker": {
             "colorbar": {
              "outlinewidth": 0,
              "ticks": ""
             }
            },
            "type": "scattercarpet"
           }
          ],
          "scattergeo": [
           {
            "marker": {
             "colorbar": {
              "outlinewidth": 0,
              "ticks": ""
             }
            },
            "type": "scattergeo"
           }
          ],
          "scattergl": [
           {
            "marker": {
             "colorbar": {
              "outlinewidth": 0,
              "ticks": ""
             }
            },
            "type": "scattergl"
           }
          ],
          "scattermapbox": [
           {
            "marker": {
             "colorbar": {
              "outlinewidth": 0,
              "ticks": ""
             }
            },
            "type": "scattermapbox"
           }
          ],
          "scatterpolar": [
           {
            "marker": {
             "colorbar": {
              "outlinewidth": 0,
              "ticks": ""
             }
            },
            "type": "scatterpolar"
           }
          ],
          "scatterpolargl": [
           {
            "marker": {
             "colorbar": {
              "outlinewidth": 0,
              "ticks": ""
             }
            },
            "type": "scatterpolargl"
           }
          ],
          "scatterternary": [
           {
            "marker": {
             "colorbar": {
              "outlinewidth": 0,
              "ticks": ""
             }
            },
            "type": "scatterternary"
           }
          ],
          "surface": [
           {
            "colorbar": {
             "outlinewidth": 0,
             "ticks": ""
            },
            "colorscale": [
             [
              0,
              "#0d0887"
             ],
             [
              0.1111111111111111,
              "#46039f"
             ],
             [
              0.2222222222222222,
              "#7201a8"
             ],
             [
              0.3333333333333333,
              "#9c179e"
             ],
             [
              0.4444444444444444,
              "#bd3786"
             ],
             [
              0.5555555555555556,
              "#d8576b"
             ],
             [
              0.6666666666666666,
              "#ed7953"
             ],
             [
              0.7777777777777778,
              "#fb9f3a"
             ],
             [
              0.8888888888888888,
              "#fdca26"
             ],
             [
              1,
              "#f0f921"
             ]
            ],
            "type": "surface"
           }
          ],
          "table": [
           {
            "cells": {
             "fill": {
              "color": "#EBF0F8"
             },
             "line": {
              "color": "white"
             }
            },
            "header": {
             "fill": {
              "color": "#C8D4E3"
             },
             "line": {
              "color": "white"
             }
            },
            "type": "table"
           }
          ]
         },
         "layout": {
          "annotationdefaults": {
           "arrowcolor": "#2a3f5f",
           "arrowhead": 0,
           "arrowwidth": 1
          },
          "autotypenumbers": "strict",
          "coloraxis": {
           "colorbar": {
            "outlinewidth": 0,
            "ticks": ""
           }
          },
          "colorscale": {
           "diverging": [
            [
             0,
             "#8e0152"
            ],
            [
             0.1,
             "#c51b7d"
            ],
            [
             0.2,
             "#de77ae"
            ],
            [
             0.3,
             "#f1b6da"
            ],
            [
             0.4,
             "#fde0ef"
            ],
            [
             0.5,
             "#f7f7f7"
            ],
            [
             0.6,
             "#e6f5d0"
            ],
            [
             0.7,
             "#b8e186"
            ],
            [
             0.8,
             "#7fbc41"
            ],
            [
             0.9,
             "#4d9221"
            ],
            [
             1,
             "#276419"
            ]
           ],
           "sequential": [
            [
             0,
             "#0d0887"
            ],
            [
             0.1111111111111111,
             "#46039f"
            ],
            [
             0.2222222222222222,
             "#7201a8"
            ],
            [
             0.3333333333333333,
             "#9c179e"
            ],
            [
             0.4444444444444444,
             "#bd3786"
            ],
            [
             0.5555555555555556,
             "#d8576b"
            ],
            [
             0.6666666666666666,
             "#ed7953"
            ],
            [
             0.7777777777777778,
             "#fb9f3a"
            ],
            [
             0.8888888888888888,
             "#fdca26"
            ],
            [
             1,
             "#f0f921"
            ]
           ],
           "sequentialminus": [
            [
             0,
             "#0d0887"
            ],
            [
             0.1111111111111111,
             "#46039f"
            ],
            [
             0.2222222222222222,
             "#7201a8"
            ],
            [
             0.3333333333333333,
             "#9c179e"
            ],
            [
             0.4444444444444444,
             "#bd3786"
            ],
            [
             0.5555555555555556,
             "#d8576b"
            ],
            [
             0.6666666666666666,
             "#ed7953"
            ],
            [
             0.7777777777777778,
             "#fb9f3a"
            ],
            [
             0.8888888888888888,
             "#fdca26"
            ],
            [
             1,
             "#f0f921"
            ]
           ]
          },
          "colorway": [
           "#636efa",
           "#EF553B",
           "#00cc96",
           "#ab63fa",
           "#FFA15A",
           "#19d3f3",
           "#FF6692",
           "#B6E880",
           "#FF97FF",
           "#FECB52"
          ],
          "font": {
           "color": "#2a3f5f"
          },
          "geo": {
           "bgcolor": "white",
           "lakecolor": "white",
           "landcolor": "#E5ECF6",
           "showlakes": true,
           "showland": true,
           "subunitcolor": "white"
          },
          "hoverlabel": {
           "align": "left"
          },
          "hovermode": "closest",
          "mapbox": {
           "style": "light"
          },
          "paper_bgcolor": "white",
          "plot_bgcolor": "#E5ECF6",
          "polar": {
           "angularaxis": {
            "gridcolor": "white",
            "linecolor": "white",
            "ticks": ""
           },
           "bgcolor": "#E5ECF6",
           "radialaxis": {
            "gridcolor": "white",
            "linecolor": "white",
            "ticks": ""
           }
          },
          "scene": {
           "xaxis": {
            "backgroundcolor": "#E5ECF6",
            "gridcolor": "white",
            "gridwidth": 2,
            "linecolor": "white",
            "showbackground": true,
            "ticks": "",
            "zerolinecolor": "white"
           },
           "yaxis": {
            "backgroundcolor": "#E5ECF6",
            "gridcolor": "white",
            "gridwidth": 2,
            "linecolor": "white",
            "showbackground": true,
            "ticks": "",
            "zerolinecolor": "white"
           },
           "zaxis": {
            "backgroundcolor": "#E5ECF6",
            "gridcolor": "white",
            "gridwidth": 2,
            "linecolor": "white",
            "showbackground": true,
            "ticks": "",
            "zerolinecolor": "white"
           }
          },
          "shapedefaults": {
           "line": {
            "color": "#2a3f5f"
           }
          },
          "ternary": {
           "aaxis": {
            "gridcolor": "white",
            "linecolor": "white",
            "ticks": ""
           },
           "baxis": {
            "gridcolor": "white",
            "linecolor": "white",
            "ticks": ""
           },
           "bgcolor": "#E5ECF6",
           "caxis": {
            "gridcolor": "white",
            "linecolor": "white",
            "ticks": ""
           }
          },
          "title": {
           "x": 0.05
          },
          "xaxis": {
           "automargin": true,
           "gridcolor": "white",
           "linecolor": "white",
           "ticks": "",
           "title": {
            "standoff": 15
           },
           "zerolinecolor": "white",
           "zerolinewidth": 2
          },
          "yaxis": {
           "automargin": true,
           "gridcolor": "white",
           "linecolor": "white",
           "ticks": "",
           "title": {
            "standoff": 15
           },
           "zerolinecolor": "white",
           "zerolinewidth": 2
          }
         }
        },
        "xaxis": {
         "anchor": "y",
         "domain": [
          0,
          1
         ],
         "title": {
          "text": "PM2.5 (μg/m3)"
         },
         "type": "log"
        },
        "yaxis": {
         "anchor": "x",
         "domain": [
          0,
          1
         ],
         "title": {
          "text": "PM10 (μg/m3)"
         }
        }
       }
      },
      "text/html": [
       "<div>                            <div id=\"23ba044d-f694-4bc1-bb59-9519b9f41a1e\" class=\"plotly-graph-div\" style=\"height:525px; width:100%;\"></div>            <script type=\"text/javascript\">                require([\"plotly\"], function(Plotly) {                    window.PLOTLYENV=window.PLOTLYENV || {};                                    if (document.getElementById(\"23ba044d-f694-4bc1-bb59-9519b9f41a1e\")) {                    Plotly.newPlot(                        \"23ba044d-f694-4bc1-bb59-9519b9f41a1e\",                        [{\"hovertemplate\":\"<b>%{hovertext}</b><br><br>WHO Region=African Region<br>PM2.5 (\\u03bcg/m3)=%{x}<br>PM10 (\\u03bcg/m3)=%{y}<br>NO2 (\\u03bcg/m3)=%{marker.size}<extra></extra>\",\"hovertext\":[\"Algeria\",\"Cameroon\",\"Ethiopia\",\"Ghana\",\"Kenya\",\"Madagascar\",\"Mauritius\",\"Nigeria\",\"Senegal\",\"South Africa\",\"Uganda\",\"United Republic of Tanzania\"],\"legendgroup\":\"African Region\",\"marker\":{\"color\":\"#636efa\",\"size\":[0.0,0.0,0.0,0.0,0.0,0.0,14.95,0.0,239.11,2617.81,0.0,0.0],\"sizemode\":\"area\",\"sizeref\":18.585861111111114,\"symbol\":\"circle\"},\"mode\":\"markers\",\"name\":\"African Region\",\"orientation\":\"v\",\"showlegend\":true,\"x\":[21.53,248.0,104.81,55.0,16.7,187.0,0.0,27.43,179.28,2266.87,277.2,23.32],\"xaxis\":\"x\",\"y\":[0.0,311.0,0.0,701.5,37.3,336.0,339.44,0.0,948.62,5425.7,170.4,35.1],\"yaxis\":\"y\",\"type\":\"scatter\"},{\"hovertemplate\":\"<b>%{hovertext}</b><br><br>WHO Region=Eastern Mediterranean Region<br>PM2.5 (\\u03bcg/m3)=%{x}<br>PM10 (\\u03bcg/m3)=%{y}<br>NO2 (\\u03bcg/m3)=%{marker.size}<extra></extra>\",\"hovertext\":[\"Afghanistan\",\"Bahrain\",\"Egypt\",\"Iran (Islamic Republic of)\",\"Iraq\",\"Jordan\",\"Kuwait\",\"Lebanon\",\"Morocco\",\"Pakistan\",\"Qatar\",\"Saudi Arabia\",\"Tunisia\",\"United Arab Emirates\"],\"legendgroup\":\"Eastern Mediterranean Region\",\"marker\":{\"color\":\"#EF553B\",\"size\":[0.0,103.25,0.0,2847.2,535.27,199.86,1426.9,106.0,163.39000000000001,72.8,176.0,0.0,0.0,1180.8799999999999],\"sizemode\":\"area\",\"sizeref\":18.585861111111114,\"symbol\":\"circle\"},\"mode\":\"markers\",\"name\":\"Eastern Mediterranean Region\",\"orientation\":\"v\",\"showlegend\":true,\"x\":[119.77,485.15,0.0,4411.25,130.01999999999998,45.83,1446.27,172.3,0.0,746.14,314.0,314.12,0.0,227.13],\"xaxis\":\"x\",\"y\":[0.0,5818.0,1362.0,8872.87,1293.17,1295.71,7232.88,316.3,914.88,1334.17,1214.0,744.7,315.0,4225.89],\"yaxis\":\"y\",\"type\":\"scatter\"},{\"hovertemplate\":\"<b>%{hovertext}</b><br><br>WHO Region=European Region<br>PM2.5 (\\u03bcg/m3)=%{x}<br>PM10 (\\u03bcg/m3)=%{y}<br>NO2 (\\u03bcg/m3)=%{marker.size}<extra></extra>\",\"hovertext\":[\"Albania\",\"Andorra\",\"Austria\",\"Belgium\",\"Bosnia and Herzegovina\",\"Bulgaria\",\"Croatia\",\"Cyprus\",\"Czechia\",\"Denmark\",\"Estonia\",\"Finland\",\"France\",\"Georgia\",\"Germany\",\"Greece\",\"Hungary\",\"Iceland\",\"Ireland\",\"Israel\",\"Italy\",\"Kazakhstan\",\"Kyrgyzstan\",\"Latvia\",\"Lithuania\",\"Luxembourg\",\"Malta\",\"Monaco\",\"Montenegro\",\"Netherlands\",\"North Macedonia\",\"Norway\",\"Poland\",\"Portugal\",\"Romania\",\"Russian Federation\",\"Serbia\",\"Slovakia\",\"Slovenia\",\"Spain\",\"Sweden\",\"Switzerland\",\"Tajikistan\",\"Turkey\",\"Turkmenistan\",\"Ukraine\",\"United Kingdom\",\"Uzbekistan\"],\"legendgroup\":\"European Region\",\"marker\":{\"color\":\"#00cc96\",\"size\":[162.6,199.19,16767.61,10010.19,666.93,2428.73,1118.38,302.89,6475.93,889.52,379.41,2098.54,35303.44,0.0,59622.11,2852.15,2637.34,300.05,822.1,0.0,66909.1,0.0,0.0,567.93,1308.19,839.0,489.0,134.85,435.94,8496.95,452.6,3682.58,14235.59,4672.9,7296.0199999999995,0.0,1510.39,1957.24,1437.57,36864.43,4536.56,22056.23,0.0,7701.62,0.0,0.0,17132.34,0.0],\"sizemode\":\"area\",\"sizeref\":18.585861111111114,\"symbol\":\"circle\"},\"mode\":\"markers\",\"name\":\"European Region\",\"orientation\":\"v\",\"showlegend\":true,\"x\":[96.86,0.0,3056.6,4011.12,606.85,1088.41,867.21,595.28,6196.28,363.57,324.98,657.25,8092.04,73.5,13440.93,614.78,455.98,173.23,418.29,1654.26,23272.34,54.019999999999996,33.15,508.3,542.75,275.22,400.45,0.0,0.0,2983.72,128.16,1037.07,12717.45,769.97,1240.24,14.0,22.67,2414.09,418.67,6314.3,684.35,2671.09,71.52,2260.28,22.08,46.18,4516.11,85.05000000000001],\"xaxis\":\"x\",\"y\":[204.6,179.91,14525.68,7808.79,1181.81,8045.09,1765.73,880.32,16339.16,694.57,508.92,2675.21,32422.99,169.49,37829.52,3067.27,3726.0,392.72,1101.1,4391.91,64430.84,0.0,0.0,859.49,2337.51,573.86,873.48,73.74000000000001,1186.65,7995.79,2104.43,2921.04,42475.39,5792.42,8899.53,47.730000000000004,1155.78,3837.09,2641.34,34127.66,4173.27,14982.7,0.0,29272.82,0.0,69.03,5882.68,0.0],\"yaxis\":\"y\",\"type\":\"scatter\"},{\"hovertemplate\":\"<b>%{hovertext}</b><br><br>WHO Region=Region of the Americas<br>PM2.5 (\\u03bcg/m3)=%{x}<br>PM10 (\\u03bcg/m3)=%{y}<br>NO2 (\\u03bcg/m3)=%{marker.size}<extra></extra>\",\"hovertext\":[\"Argentina\",\"Bahamas\",\"Bolivia (Plurinational State of)\",\"Brazil\",\"Canada\",\"Chile\",\"Colombia\",\"Costa Rica\",\"Cuba\",\"Ecuador\",\"El Salvador\",\"Guatemala\",\"Honduras\",\"Jamaica\",\"Mexico\",\"Panama\",\"Paraguay\",\"Peru\",\"Trinidad and Tobago\",\"United States of America\",\"Uruguay\",\"Venezuela (Bolivarian Republic of)\"],\"legendgroup\":\"Region of the Americas\",\"marker\":{\"color\":\"#ab63fa\",\"size\":[69.77000000000001,0.0,0.0,6796.74,7392.36,742.77,515.71,40.71,0.0,355.26,0.0,137.42000000000002,0.0,0.0,3052.58,0.0,0.0,909.1899999999999,67.2,13673.69,0.0,0.0],\"sizemode\":\"area\",\"sizeref\":18.585861111111114,\"symbol\":\"circle\"},\"mode\":\"markers\",\"name\":\"Region of the Americas\",\"orientation\":\"v\",\"showlegend\":true,\"x\":[20.369999999999997,12.49,0.0,1216.47,6084.18,4920.55,976.79,112.4,34.8,184.57,277.25,90.05000000000001,36.0,0.0,2763.16,14.0,18.4,1399.34,74.8,5854.93,20.0,35.0],\"xaxis\":\"x\",\"y\":[130.05,13.95,141.52,15284.53,1979.42,10515.22,3242.14,324.75,0.0,916.04,0.0,265.25,173.0,386.41,9331.08,31.1,0.0,5621.08,209.95,20810.72,44.83,94.0],\"yaxis\":\"y\",\"type\":\"scatter\"},{\"hovertemplate\":\"<b>%{hovertext}</b><br><br>WHO Region=South East Asia Region<br>PM2.5 (\\u03bcg/m3)=%{x}<br>PM10 (\\u03bcg/m3)=%{y}<br>NO2 (\\u03bcg/m3)=%{marker.size}<extra></extra>\",\"hovertext\":[\"Bangladesh\",\"Bhutan\",\"India\",\"Indonesia\",\"Maldives\",\"Myanmar\",\"Nepal\",\"Sri Lanka\",\"Thailand\"],\"legendgroup\":\"South East Asia Region\",\"marker\":{\"color\":\"#FFA15A\",\"size\":[1253.4,0.0,46809.75,0.0,0.0,27.259999999999998,0.0,0.0,750.56],\"sizemode\":\"area\",\"sizeref\":18.585861111111114,\"symbol\":\"circle\"},\"mode\":\"markers\",\"name\":\"South East Asia Region\",\"orientation\":\"v\",\"showlegend\":true,\"x\":[4507.62,0.0,17027.26,429.89,0.0,18.08,804.53,86.63,817.1800000000001],\"xaxis\":\"x\",\"y\":[7944.98,1805.0,117694.45,0.0,20.0,1265.5,788.69,128.0,4628.5],\"yaxis\":\"y\",\"type\":\"scatter\"},{\"hovertemplate\":\"<b>%{hovertext}</b><br><br>WHO Region=Western Pacific Region<br>PM2.5 (\\u03bcg/m3)=%{x}<br>PM10 (\\u03bcg/m3)=%{y}<br>NO2 (\\u03bcg/m3)=%{marker.size}<extra></extra>\",\"hovertext\":[\"Australia\",\"China\",\"Fiji\",\"Japan\",\"Lao People's Democratic Republic\",\"Malaysia\",\"Mongolia\",\"New Zealand\",\"Philippines\",\"Republic of Korea\",\"Singapore\",\"Viet Nam\"],\"legendgroup\":\"Western Pacific Region\",\"marker\":{\"color\":\"#19d3f3\",\"size\":[644.96,10408.71,0.0,698.07,0.0,215.53,232.0,129.71,0.0,7100.76,264.0,0.0],\"sizemode\":\"area\",\"sizeref\":18.585861111111114,\"symbol\":\"circle\"},\"mode\":\"markers\",\"name\":\"Western Pacific Region\",\"orientation\":\"v\",\"showlegend\":true,\"x\":[1430.89,170827.47,15.129999999999999,846.21,25.77,371.46999999999997,886.39,416.23,1129.0,2374.0,186.0,449.90000000000003],\"xaxis\":\"x\",\"y\":[3744.57,3122.43,0.0,0.0,0.0,653.45,1692.2,2527.81,2014.83,8434.0,59.0,600.4],\"yaxis\":\"y\",\"type\":\"scatter\"}],                        {\"template\":{\"data\":{\"histogram2dcontour\":[{\"type\":\"histogram2dcontour\",\"colorbar\":{\"outlinewidth\":0,\"ticks\":\"\"},\"colorscale\":[[0.0,\"#0d0887\"],[0.1111111111111111,\"#46039f\"],[0.2222222222222222,\"#7201a8\"],[0.3333333333333333,\"#9c179e\"],[0.4444444444444444,\"#bd3786\"],[0.5555555555555556,\"#d8576b\"],[0.6666666666666666,\"#ed7953\"],[0.7777777777777778,\"#fb9f3a\"],[0.8888888888888888,\"#fdca26\"],[1.0,\"#f0f921\"]]}],\"choropleth\":[{\"type\":\"choropleth\",\"colorbar\":{\"outlinewidth\":0,\"ticks\":\"\"}}],\"histogram2d\":[{\"type\":\"histogram2d\",\"colorbar\":{\"outlinewidth\":0,\"ticks\":\"\"},\"colorscale\":[[0.0,\"#0d0887\"],[0.1111111111111111,\"#46039f\"],[0.2222222222222222,\"#7201a8\"],[0.3333333333333333,\"#9c179e\"],[0.4444444444444444,\"#bd3786\"],[0.5555555555555556,\"#d8576b\"],[0.6666666666666666,\"#ed7953\"],[0.7777777777777778,\"#fb9f3a\"],[0.8888888888888888,\"#fdca26\"],[1.0,\"#f0f921\"]]}],\"heatmap\":[{\"type\":\"heatmap\",\"colorbar\":{\"outlinewidth\":0,\"ticks\":\"\"},\"colorscale\":[[0.0,\"#0d0887\"],[0.1111111111111111,\"#46039f\"],[0.2222222222222222,\"#7201a8\"],[0.3333333333333333,\"#9c179e\"],[0.4444444444444444,\"#bd3786\"],[0.5555555555555556,\"#d8576b\"],[0.6666666666666666,\"#ed7953\"],[0.7777777777777778,\"#fb9f3a\"],[0.8888888888888888,\"#fdca26\"],[1.0,\"#f0f921\"]]}],\"heatmapgl\":[{\"type\":\"heatmapgl\",\"colorbar\":{\"outlinewidth\":0,\"ticks\":\"\"},\"colorscale\":[[0.0,\"#0d0887\"],[0.1111111111111111,\"#46039f\"],[0.2222222222222222,\"#7201a8\"],[0.3333333333333333,\"#9c179e\"],[0.4444444444444444,\"#bd3786\"],[0.5555555555555556,\"#d8576b\"],[0.6666666666666666,\"#ed7953\"],[0.7777777777777778,\"#fb9f3a\"],[0.8888888888888888,\"#fdca26\"],[1.0,\"#f0f921\"]]}],\"contourcarpet\":[{\"type\":\"contourcarpet\",\"colorbar\":{\"outlinewidth\":0,\"ticks\":\"\"}}],\"contour\":[{\"type\":\"contour\",\"colorbar\":{\"outlinewidth\":0,\"ticks\":\"\"},\"colorscale\":[[0.0,\"#0d0887\"],[0.1111111111111111,\"#46039f\"],[0.2222222222222222,\"#7201a8\"],[0.3333333333333333,\"#9c179e\"],[0.4444444444444444,\"#bd3786\"],[0.5555555555555556,\"#d8576b\"],[0.6666666666666666,\"#ed7953\"],[0.7777777777777778,\"#fb9f3a\"],[0.8888888888888888,\"#fdca26\"],[1.0,\"#f0f921\"]]}],\"surface\":[{\"type\":\"surface\",\"colorbar\":{\"outlinewidth\":0,\"ticks\":\"\"},\"colorscale\":[[0.0,\"#0d0887\"],[0.1111111111111111,\"#46039f\"],[0.2222222222222222,\"#7201a8\"],[0.3333333333333333,\"#9c179e\"],[0.4444444444444444,\"#bd3786\"],[0.5555555555555556,\"#d8576b\"],[0.6666666666666666,\"#ed7953\"],[0.7777777777777778,\"#fb9f3a\"],[0.8888888888888888,\"#fdca26\"],[1.0,\"#f0f921\"]]}],\"mesh3d\":[{\"type\":\"mesh3d\",\"colorbar\":{\"outlinewidth\":0,\"ticks\":\"\"}}],\"scatter\":[{\"fillpattern\":{\"fillmode\":\"overlay\",\"size\":10,\"solidity\":0.2},\"type\":\"scatter\"}],\"parcoords\":[{\"type\":\"parcoords\",\"line\":{\"colorbar\":{\"outlinewidth\":0,\"ticks\":\"\"}}}],\"scatterpolargl\":[{\"type\":\"scatterpolargl\",\"marker\":{\"colorbar\":{\"outlinewidth\":0,\"ticks\":\"\"}}}],\"bar\":[{\"error_x\":{\"color\":\"#2a3f5f\"},\"error_y\":{\"color\":\"#2a3f5f\"},\"marker\":{\"line\":{\"color\":\"#E5ECF6\",\"width\":0.5},\"pattern\":{\"fillmode\":\"overlay\",\"size\":10,\"solidity\":0.2}},\"type\":\"bar\"}],\"scattergeo\":[{\"type\":\"scattergeo\",\"marker\":{\"colorbar\":{\"outlinewidth\":0,\"ticks\":\"\"}}}],\"scatterpolar\":[{\"type\":\"scatterpolar\",\"marker\":{\"colorbar\":{\"outlinewidth\":0,\"ticks\":\"\"}}}],\"histogram\":[{\"marker\":{\"pattern\":{\"fillmode\":\"overlay\",\"size\":10,\"solidity\":0.2}},\"type\":\"histogram\"}],\"scattergl\":[{\"type\":\"scattergl\",\"marker\":{\"colorbar\":{\"outlinewidth\":0,\"ticks\":\"\"}}}],\"scatter3d\":[{\"type\":\"scatter3d\",\"line\":{\"colorbar\":{\"outlinewidth\":0,\"ticks\":\"\"}},\"marker\":{\"colorbar\":{\"outlinewidth\":0,\"ticks\":\"\"}}}],\"scattermapbox\":[{\"type\":\"scattermapbox\",\"marker\":{\"colorbar\":{\"outlinewidth\":0,\"ticks\":\"\"}}}],\"scatterternary\":[{\"type\":\"scatterternary\",\"marker\":{\"colorbar\":{\"outlinewidth\":0,\"ticks\":\"\"}}}],\"scattercarpet\":[{\"type\":\"scattercarpet\",\"marker\":{\"colorbar\":{\"outlinewidth\":0,\"ticks\":\"\"}}}],\"carpet\":[{\"aaxis\":{\"endlinecolor\":\"#2a3f5f\",\"gridcolor\":\"white\",\"linecolor\":\"white\",\"minorgridcolor\":\"white\",\"startlinecolor\":\"#2a3f5f\"},\"baxis\":{\"endlinecolor\":\"#2a3f5f\",\"gridcolor\":\"white\",\"linecolor\":\"white\",\"minorgridcolor\":\"white\",\"startlinecolor\":\"#2a3f5f\"},\"type\":\"carpet\"}],\"table\":[{\"cells\":{\"fill\":{\"color\":\"#EBF0F8\"},\"line\":{\"color\":\"white\"}},\"header\":{\"fill\":{\"color\":\"#C8D4E3\"},\"line\":{\"color\":\"white\"}},\"type\":\"table\"}],\"barpolar\":[{\"marker\":{\"line\":{\"color\":\"#E5ECF6\",\"width\":0.5},\"pattern\":{\"fillmode\":\"overlay\",\"size\":10,\"solidity\":0.2}},\"type\":\"barpolar\"}],\"pie\":[{\"automargin\":true,\"type\":\"pie\"}]},\"layout\":{\"autotypenumbers\":\"strict\",\"colorway\":[\"#636efa\",\"#EF553B\",\"#00cc96\",\"#ab63fa\",\"#FFA15A\",\"#19d3f3\",\"#FF6692\",\"#B6E880\",\"#FF97FF\",\"#FECB52\"],\"font\":{\"color\":\"#2a3f5f\"},\"hovermode\":\"closest\",\"hoverlabel\":{\"align\":\"left\"},\"paper_bgcolor\":\"white\",\"plot_bgcolor\":\"#E5ECF6\",\"polar\":{\"bgcolor\":\"#E5ECF6\",\"angularaxis\":{\"gridcolor\":\"white\",\"linecolor\":\"white\",\"ticks\":\"\"},\"radialaxis\":{\"gridcolor\":\"white\",\"linecolor\":\"white\",\"ticks\":\"\"}},\"ternary\":{\"bgcolor\":\"#E5ECF6\",\"aaxis\":{\"gridcolor\":\"white\",\"linecolor\":\"white\",\"ticks\":\"\"},\"baxis\":{\"gridcolor\":\"white\",\"linecolor\":\"white\",\"ticks\":\"\"},\"caxis\":{\"gridcolor\":\"white\",\"linecolor\":\"white\",\"ticks\":\"\"}},\"coloraxis\":{\"colorbar\":{\"outlinewidth\":0,\"ticks\":\"\"}},\"colorscale\":{\"sequential\":[[0.0,\"#0d0887\"],[0.1111111111111111,\"#46039f\"],[0.2222222222222222,\"#7201a8\"],[0.3333333333333333,\"#9c179e\"],[0.4444444444444444,\"#bd3786\"],[0.5555555555555556,\"#d8576b\"],[0.6666666666666666,\"#ed7953\"],[0.7777777777777778,\"#fb9f3a\"],[0.8888888888888888,\"#fdca26\"],[1.0,\"#f0f921\"]],\"sequentialminus\":[[0.0,\"#0d0887\"],[0.1111111111111111,\"#46039f\"],[0.2222222222222222,\"#7201a8\"],[0.3333333333333333,\"#9c179e\"],[0.4444444444444444,\"#bd3786\"],[0.5555555555555556,\"#d8576b\"],[0.6666666666666666,\"#ed7953\"],[0.7777777777777778,\"#fb9f3a\"],[0.8888888888888888,\"#fdca26\"],[1.0,\"#f0f921\"]],\"diverging\":[[0,\"#8e0152\"],[0.1,\"#c51b7d\"],[0.2,\"#de77ae\"],[0.3,\"#f1b6da\"],[0.4,\"#fde0ef\"],[0.5,\"#f7f7f7\"],[0.6,\"#e6f5d0\"],[0.7,\"#b8e186\"],[0.8,\"#7fbc41\"],[0.9,\"#4d9221\"],[1,\"#276419\"]]},\"xaxis\":{\"gridcolor\":\"white\",\"linecolor\":\"white\",\"ticks\":\"\",\"title\":{\"standoff\":15},\"zerolinecolor\":\"white\",\"automargin\":true,\"zerolinewidth\":2},\"yaxis\":{\"gridcolor\":\"white\",\"linecolor\":\"white\",\"ticks\":\"\",\"title\":{\"standoff\":15},\"zerolinecolor\":\"white\",\"automargin\":true,\"zerolinewidth\":2},\"scene\":{\"xaxis\":{\"backgroundcolor\":\"#E5ECF6\",\"gridcolor\":\"white\",\"linecolor\":\"white\",\"showbackground\":true,\"ticks\":\"\",\"zerolinecolor\":\"white\",\"gridwidth\":2},\"yaxis\":{\"backgroundcolor\":\"#E5ECF6\",\"gridcolor\":\"white\",\"linecolor\":\"white\",\"showbackground\":true,\"ticks\":\"\",\"zerolinecolor\":\"white\",\"gridwidth\":2},\"zaxis\":{\"backgroundcolor\":\"#E5ECF6\",\"gridcolor\":\"white\",\"linecolor\":\"white\",\"showbackground\":true,\"ticks\":\"\",\"zerolinecolor\":\"white\",\"gridwidth\":2}},\"shapedefaults\":{\"line\":{\"color\":\"#2a3f5f\"}},\"annotationdefaults\":{\"arrowcolor\":\"#2a3f5f\",\"arrowhead\":0,\"arrowwidth\":1},\"geo\":{\"bgcolor\":\"white\",\"landcolor\":\"#E5ECF6\",\"subunitcolor\":\"white\",\"showland\":true,\"showlakes\":true,\"lakecolor\":\"white\"},\"title\":{\"x\":0.05},\"mapbox\":{\"style\":\"light\"}}},\"xaxis\":{\"anchor\":\"y\",\"domain\":[0.0,1.0],\"title\":{\"text\":\"PM2.5 (\\u03bcg/m3)\"},\"type\":\"log\"},\"yaxis\":{\"anchor\":\"x\",\"domain\":[0.0,1.0],\"title\":{\"text\":\"PM10 (\\u03bcg/m3)\"}},\"legend\":{\"title\":{\"text\":\"WHO Region\"},\"tracegroupgap\":0,\"itemsizing\":\"constant\"},\"margin\":{\"t\":60}},                        {\"responsive\": true}                    ).then(function(){\n",
       "                            \n",
       "var gd = document.getElementById('23ba044d-f694-4bc1-bb59-9519b9f41a1e');\n",
       "var x = new MutationObserver(function (mutations, observer) {{\n",
       "        var display = window.getComputedStyle(gd).display;\n",
       "        if (!display || display === 'none') {{\n",
       "            console.log([gd, 'removed!']);\n",
       "            Plotly.purge(gd);\n",
       "            observer.disconnect();\n",
       "        }}\n",
       "}});\n",
       "\n",
       "// Listen for the removal of the full notebook cells\n",
       "var notebookContainer = gd.closest('#notebook-container');\n",
       "if (notebookContainer) {{\n",
       "    x.observe(notebookContainer, {childList: true});\n",
       "}}\n",
       "\n",
       "// Listen for the clearing of the current output cell\n",
       "var outputEl = gd.closest('.output');\n",
       "if (outputEl) {{\n",
       "    x.observe(outputEl, {childList: true});\n",
       "}}\n",
       "\n",
       "                        })                };                });            </script>        </div>"
      ]
     },
     "metadata": {},
     "output_type": "display_data"
    }
   ],
   "source": [
    "fig = px.scatter(df2, x=\"PM2.5 (μg/m3)\", y=\"PM10 (μg/m3)\",\n",
    "                 size=\"NO2 (μg/m3)\", color=\"WHO Region\", hover_name=\"WHO Country Name\",\\\n",
    "                 log_x=True, size_max=60)\n",
    "fig.write_html('plot0.html')\n",
    "fig.show()"
   ]
  },
  {
   "cell_type": "code",
   "execution_count": 37,
   "id": "80fc0405",
   "metadata": {},
   "outputs": [
    {
     "data": {
      "application/vnd.plotly.v1+json": {
       "config": {
        "plotlyServerURL": "https://plot.ly"
       },
       "data": [
        {
         "hovertemplate": "<b>%{hovertext}</b><br><br>WHO Region=African Region<br>PM2.5 (μg/m3)=%{x}<br>PM10 (μg/m3)=%{y}<br>NO2 (μg/m3)=%{marker.size}<extra></extra>",
         "hovertext": [
          "Algeria",
          "Cameroon",
          "Ethiopia",
          "Ghana",
          "Kenya",
          "Madagascar",
          "Mauritius",
          "Nigeria",
          "Senegal",
          "South Africa",
          "Uganda",
          "United Republic of Tanzania"
         ],
         "legendgroup": "African Region",
         "marker": {
          "color": "#636efa",
          "size": [
           0,
           0,
           0,
           0,
           0,
           0,
           14.95,
           0,
           239.11,
           2617.81,
           0,
           0
          ],
          "sizemode": "area",
          "sizeref": 18.585861111111114,
          "symbol": "circle"
         },
         "mode": "markers",
         "name": "African Region",
         "orientation": "v",
         "showlegend": true,
         "type": "scatter",
         "x": [
          21.53,
          248,
          104.81,
          55,
          16.7,
          187,
          0,
          27.43,
          179.28,
          2266.87,
          277.2,
          23.32
         ],
         "xaxis": "x",
         "y": [
          0,
          311,
          0,
          701.5,
          37.3,
          336,
          339.44,
          0,
          948.62,
          5425.7,
          170.4,
          35.1
         ],
         "yaxis": "y"
        },
        {
         "hovertemplate": "<b>%{hovertext}</b><br><br>WHO Region=Eastern Mediterranean Region<br>PM2.5 (μg/m3)=%{x}<br>PM10 (μg/m3)=%{y}<br>NO2 (μg/m3)=%{marker.size}<extra></extra>",
         "hovertext": [
          "Afghanistan",
          "Bahrain",
          "Egypt",
          "Iran (Islamic Republic of)",
          "Iraq",
          "Jordan",
          "Kuwait",
          "Lebanon",
          "Morocco",
          "Pakistan",
          "Qatar",
          "Saudi Arabia",
          "Tunisia",
          "United Arab Emirates"
         ],
         "legendgroup": "Eastern Mediterranean Region",
         "marker": {
          "color": "#EF553B",
          "size": [
           0,
           103.25,
           0,
           2847.2,
           535.27,
           199.86,
           1426.9,
           106,
           163.39000000000001,
           72.8,
           176,
           0,
           0,
           1180.8799999999999
          ],
          "sizemode": "area",
          "sizeref": 18.585861111111114,
          "symbol": "circle"
         },
         "mode": "markers",
         "name": "Eastern Mediterranean Region",
         "orientation": "v",
         "showlegend": true,
         "type": "scatter",
         "x": [
          119.77,
          485.15,
          0,
          4411.25,
          130.01999999999998,
          45.83,
          1446.27,
          172.3,
          0,
          746.14,
          314,
          314.12,
          0,
          227.13
         ],
         "xaxis": "x2",
         "y": [
          0,
          5818,
          1362,
          8872.87,
          1293.17,
          1295.71,
          7232.88,
          316.3,
          914.88,
          1334.17,
          1214,
          744.7,
          315,
          4225.89
         ],
         "yaxis": "y2"
        },
        {
         "hovertemplate": "<b>%{hovertext}</b><br><br>WHO Region=European Region<br>PM2.5 (μg/m3)=%{x}<br>PM10 (μg/m3)=%{y}<br>NO2 (μg/m3)=%{marker.size}<extra></extra>",
         "hovertext": [
          "Albania",
          "Andorra",
          "Austria",
          "Belgium",
          "Bosnia and Herzegovina",
          "Bulgaria",
          "Croatia",
          "Cyprus",
          "Czechia",
          "Denmark",
          "Estonia",
          "Finland",
          "France",
          "Georgia",
          "Germany",
          "Greece",
          "Hungary",
          "Iceland",
          "Ireland",
          "Israel",
          "Italy",
          "Kazakhstan",
          "Kyrgyzstan",
          "Latvia",
          "Lithuania",
          "Luxembourg",
          "Malta",
          "Monaco",
          "Montenegro",
          "Netherlands",
          "North Macedonia",
          "Norway",
          "Poland",
          "Portugal",
          "Romania",
          "Russian Federation",
          "Serbia",
          "Slovakia",
          "Slovenia",
          "Spain",
          "Sweden",
          "Switzerland",
          "Tajikistan",
          "Turkey",
          "Turkmenistan",
          "Ukraine",
          "United Kingdom",
          "Uzbekistan"
         ],
         "legendgroup": "European Region",
         "marker": {
          "color": "#00cc96",
          "size": [
           162.6,
           199.19,
           16767.61,
           10010.19,
           666.93,
           2428.73,
           1118.38,
           302.89,
           6475.93,
           889.52,
           379.41,
           2098.54,
           35303.44,
           0,
           59622.11,
           2852.15,
           2637.34,
           300.05,
           822.1,
           0,
           66909.1,
           0,
           0,
           567.93,
           1308.19,
           839,
           489,
           134.85,
           435.94,
           8496.95,
           452.6,
           3682.58,
           14235.59,
           4672.9,
           7296.0199999999995,
           0,
           1510.39,
           1957.24,
           1437.57,
           36864.43,
           4536.56,
           22056.23,
           0,
           7701.62,
           0,
           0,
           17132.34,
           0
          ],
          "sizemode": "area",
          "sizeref": 18.585861111111114,
          "symbol": "circle"
         },
         "mode": "markers",
         "name": "European Region",
         "orientation": "v",
         "showlegend": true,
         "type": "scatter",
         "x": [
          96.86,
          0,
          3056.6,
          4011.12,
          606.85,
          1088.41,
          867.21,
          595.28,
          6196.28,
          363.57,
          324.98,
          657.25,
          8092.04,
          73.5,
          13440.93,
          614.78,
          455.98,
          173.23,
          418.29,
          1654.26,
          23272.34,
          54.019999999999996,
          33.15,
          508.3,
          542.75,
          275.22,
          400.45,
          0,
          0,
          2983.72,
          128.16,
          1037.07,
          12717.45,
          769.97,
          1240.24,
          14,
          22.67,
          2414.09,
          418.67,
          6314.3,
          684.35,
          2671.09,
          71.52,
          2260.28,
          22.08,
          46.18,
          4516.11,
          85.05000000000001
         ],
         "xaxis": "x3",
         "y": [
          204.6,
          179.91,
          14525.68,
          7808.79,
          1181.81,
          8045.09,
          1765.73,
          880.32,
          16339.16,
          694.57,
          508.92,
          2675.21,
          32422.99,
          169.49,
          37829.52,
          3067.27,
          3726,
          392.72,
          1101.1,
          4391.91,
          64430.84,
          0,
          0,
          859.49,
          2337.51,
          573.86,
          873.48,
          73.74000000000001,
          1186.65,
          7995.79,
          2104.43,
          2921.04,
          42475.39,
          5792.42,
          8899.53,
          47.730000000000004,
          1155.78,
          3837.09,
          2641.34,
          34127.66,
          4173.27,
          14982.7,
          0,
          29272.82,
          0,
          69.03,
          5882.68,
          0
         ],
         "yaxis": "y3"
        },
        {
         "hovertemplate": "<b>%{hovertext}</b><br><br>WHO Region=Region of the Americas<br>PM2.5 (μg/m3)=%{x}<br>PM10 (μg/m3)=%{y}<br>NO2 (μg/m3)=%{marker.size}<extra></extra>",
         "hovertext": [
          "Argentina",
          "Bahamas",
          "Bolivia (Plurinational State of)",
          "Brazil",
          "Canada",
          "Chile",
          "Colombia",
          "Costa Rica",
          "Cuba",
          "Ecuador",
          "El Salvador",
          "Guatemala",
          "Honduras",
          "Jamaica",
          "Mexico",
          "Panama",
          "Paraguay",
          "Peru",
          "Trinidad and Tobago",
          "United States of America",
          "Uruguay",
          "Venezuela (Bolivarian Republic of)"
         ],
         "legendgroup": "Region of the Americas",
         "marker": {
          "color": "#ab63fa",
          "size": [
           69.77000000000001,
           0,
           0,
           6796.74,
           7392.36,
           742.77,
           515.71,
           40.71,
           0,
           355.26,
           0,
           137.42000000000002,
           0,
           0,
           3052.58,
           0,
           0,
           909.1899999999999,
           67.2,
           13673.69,
           0,
           0
          ],
          "sizemode": "area",
          "sizeref": 18.585861111111114,
          "symbol": "circle"
         },
         "mode": "markers",
         "name": "Region of the Americas",
         "orientation": "v",
         "showlegend": true,
         "type": "scatter",
         "x": [
          20.369999999999997,
          12.49,
          0,
          1216.47,
          6084.18,
          4920.55,
          976.79,
          112.4,
          34.8,
          184.57,
          277.25,
          90.05000000000001,
          36,
          0,
          2763.16,
          14,
          18.4,
          1399.34,
          74.8,
          5854.93,
          20,
          35
         ],
         "xaxis": "x4",
         "y": [
          130.05,
          13.95,
          141.52,
          15284.53,
          1979.42,
          10515.22,
          3242.14,
          324.75,
          0,
          916.04,
          0,
          265.25,
          173,
          386.41,
          9331.08,
          31.1,
          0,
          5621.08,
          209.95,
          20810.72,
          44.83,
          94
         ],
         "yaxis": "y4"
        },
        {
         "hovertemplate": "<b>%{hovertext}</b><br><br>WHO Region=South East Asia Region<br>PM2.5 (μg/m3)=%{x}<br>PM10 (μg/m3)=%{y}<br>NO2 (μg/m3)=%{marker.size}<extra></extra>",
         "hovertext": [
          "Bangladesh",
          "Bhutan",
          "India",
          "Indonesia",
          "Maldives",
          "Myanmar",
          "Nepal",
          "Sri Lanka",
          "Thailand"
         ],
         "legendgroup": "South East Asia Region",
         "marker": {
          "color": "#FFA15A",
          "size": [
           1253.4,
           0,
           46809.75,
           0,
           0,
           27.259999999999998,
           0,
           0,
           750.56
          ],
          "sizemode": "area",
          "sizeref": 18.585861111111114,
          "symbol": "circle"
         },
         "mode": "markers",
         "name": "South East Asia Region",
         "orientation": "v",
         "showlegend": true,
         "type": "scatter",
         "x": [
          4507.62,
          0,
          17027.26,
          429.89,
          0,
          18.08,
          804.53,
          86.63,
          817.1800000000001
         ],
         "xaxis": "x5",
         "y": [
          7944.98,
          1805,
          117694.45,
          0,
          20,
          1265.5,
          788.69,
          128,
          4628.5
         ],
         "yaxis": "y5"
        },
        {
         "hovertemplate": "<b>%{hovertext}</b><br><br>WHO Region=Western Pacific Region<br>PM2.5 (μg/m3)=%{x}<br>PM10 (μg/m3)=%{y}<br>NO2 (μg/m3)=%{marker.size}<extra></extra>",
         "hovertext": [
          "Australia",
          "China",
          "Fiji",
          "Japan",
          "Lao People's Democratic Republic",
          "Malaysia",
          "Mongolia",
          "New Zealand",
          "Philippines",
          "Republic of Korea",
          "Singapore",
          "Viet Nam"
         ],
         "legendgroup": "Western Pacific Region",
         "marker": {
          "color": "#19d3f3",
          "size": [
           644.96,
           10408.71,
           0,
           698.07,
           0,
           215.53,
           232,
           129.71,
           0,
           7100.76,
           264,
           0
          ],
          "sizemode": "area",
          "sizeref": 18.585861111111114,
          "symbol": "circle"
         },
         "mode": "markers",
         "name": "Western Pacific Region",
         "orientation": "v",
         "showlegend": true,
         "type": "scatter",
         "x": [
          1430.89,
          170827.47,
          15.129999999999999,
          846.21,
          25.77,
          371.46999999999997,
          886.39,
          416.23,
          1129,
          2374,
          186,
          449.90000000000003
         ],
         "xaxis": "x6",
         "y": [
          3744.57,
          3122.43,
          0,
          0,
          0,
          653.45,
          1692.2,
          2527.81,
          2014.83,
          8434,
          59,
          600.4
         ],
         "yaxis": "y6"
        }
       ],
       "layout": {
        "annotations": [
         {
          "font": {},
          "showarrow": false,
          "text": "WHO Region=African Region",
          "x": 0.075,
          "xanchor": "center",
          "xref": "paper",
          "y": 1,
          "yanchor": "bottom",
          "yref": "paper"
         },
         {
          "font": {},
          "showarrow": false,
          "text": "WHO Region=Eastern Mediterranean Region",
          "x": 0.24499999999999997,
          "xanchor": "center",
          "xref": "paper",
          "y": 1,
          "yanchor": "bottom",
          "yref": "paper"
         },
         {
          "font": {},
          "showarrow": false,
          "text": "WHO Region=European Region",
          "x": 0.415,
          "xanchor": "center",
          "xref": "paper",
          "y": 1,
          "yanchor": "bottom",
          "yref": "paper"
         },
         {
          "font": {},
          "showarrow": false,
          "text": "WHO Region=Region of the Americas",
          "x": 0.585,
          "xanchor": "center",
          "xref": "paper",
          "y": 1,
          "yanchor": "bottom",
          "yref": "paper"
         },
         {
          "font": {},
          "showarrow": false,
          "text": "WHO Region=South East Asia Region",
          "x": 0.7549999999999999,
          "xanchor": "center",
          "xref": "paper",
          "y": 1,
          "yanchor": "bottom",
          "yref": "paper"
         },
         {
          "font": {},
          "showarrow": false,
          "text": "WHO Region=Western Pacific Region",
          "x": 0.925,
          "xanchor": "center",
          "xref": "paper",
          "y": 1,
          "yanchor": "bottom",
          "yref": "paper"
         }
        ],
        "legend": {
         "itemsizing": "constant",
         "title": {
          "text": "WHO Region"
         },
         "tracegroupgap": 0
        },
        "margin": {
         "t": 60
        },
        "template": {
         "data": {
          "bar": [
           {
            "error_x": {
             "color": "#2a3f5f"
            },
            "error_y": {
             "color": "#2a3f5f"
            },
            "marker": {
             "line": {
              "color": "#E5ECF6",
              "width": 0.5
             },
             "pattern": {
              "fillmode": "overlay",
              "size": 10,
              "solidity": 0.2
             }
            },
            "type": "bar"
           }
          ],
          "barpolar": [
           {
            "marker": {
             "line": {
              "color": "#E5ECF6",
              "width": 0.5
             },
             "pattern": {
              "fillmode": "overlay",
              "size": 10,
              "solidity": 0.2
             }
            },
            "type": "barpolar"
           }
          ],
          "carpet": [
           {
            "aaxis": {
             "endlinecolor": "#2a3f5f",
             "gridcolor": "white",
             "linecolor": "white",
             "minorgridcolor": "white",
             "startlinecolor": "#2a3f5f"
            },
            "baxis": {
             "endlinecolor": "#2a3f5f",
             "gridcolor": "white",
             "linecolor": "white",
             "minorgridcolor": "white",
             "startlinecolor": "#2a3f5f"
            },
            "type": "carpet"
           }
          ],
          "choropleth": [
           {
            "colorbar": {
             "outlinewidth": 0,
             "ticks": ""
            },
            "type": "choropleth"
           }
          ],
          "contour": [
           {
            "colorbar": {
             "outlinewidth": 0,
             "ticks": ""
            },
            "colorscale": [
             [
              0,
              "#0d0887"
             ],
             [
              0.1111111111111111,
              "#46039f"
             ],
             [
              0.2222222222222222,
              "#7201a8"
             ],
             [
              0.3333333333333333,
              "#9c179e"
             ],
             [
              0.4444444444444444,
              "#bd3786"
             ],
             [
              0.5555555555555556,
              "#d8576b"
             ],
             [
              0.6666666666666666,
              "#ed7953"
             ],
             [
              0.7777777777777778,
              "#fb9f3a"
             ],
             [
              0.8888888888888888,
              "#fdca26"
             ],
             [
              1,
              "#f0f921"
             ]
            ],
            "type": "contour"
           }
          ],
          "contourcarpet": [
           {
            "colorbar": {
             "outlinewidth": 0,
             "ticks": ""
            },
            "type": "contourcarpet"
           }
          ],
          "heatmap": [
           {
            "colorbar": {
             "outlinewidth": 0,
             "ticks": ""
            },
            "colorscale": [
             [
              0,
              "#0d0887"
             ],
             [
              0.1111111111111111,
              "#46039f"
             ],
             [
              0.2222222222222222,
              "#7201a8"
             ],
             [
              0.3333333333333333,
              "#9c179e"
             ],
             [
              0.4444444444444444,
              "#bd3786"
             ],
             [
              0.5555555555555556,
              "#d8576b"
             ],
             [
              0.6666666666666666,
              "#ed7953"
             ],
             [
              0.7777777777777778,
              "#fb9f3a"
             ],
             [
              0.8888888888888888,
              "#fdca26"
             ],
             [
              1,
              "#f0f921"
             ]
            ],
            "type": "heatmap"
           }
          ],
          "heatmapgl": [
           {
            "colorbar": {
             "outlinewidth": 0,
             "ticks": ""
            },
            "colorscale": [
             [
              0,
              "#0d0887"
             ],
             [
              0.1111111111111111,
              "#46039f"
             ],
             [
              0.2222222222222222,
              "#7201a8"
             ],
             [
              0.3333333333333333,
              "#9c179e"
             ],
             [
              0.4444444444444444,
              "#bd3786"
             ],
             [
              0.5555555555555556,
              "#d8576b"
             ],
             [
              0.6666666666666666,
              "#ed7953"
             ],
             [
              0.7777777777777778,
              "#fb9f3a"
             ],
             [
              0.8888888888888888,
              "#fdca26"
             ],
             [
              1,
              "#f0f921"
             ]
            ],
            "type": "heatmapgl"
           }
          ],
          "histogram": [
           {
            "marker": {
             "pattern": {
              "fillmode": "overlay",
              "size": 10,
              "solidity": 0.2
             }
            },
            "type": "histogram"
           }
          ],
          "histogram2d": [
           {
            "colorbar": {
             "outlinewidth": 0,
             "ticks": ""
            },
            "colorscale": [
             [
              0,
              "#0d0887"
             ],
             [
              0.1111111111111111,
              "#46039f"
             ],
             [
              0.2222222222222222,
              "#7201a8"
             ],
             [
              0.3333333333333333,
              "#9c179e"
             ],
             [
              0.4444444444444444,
              "#bd3786"
             ],
             [
              0.5555555555555556,
              "#d8576b"
             ],
             [
              0.6666666666666666,
              "#ed7953"
             ],
             [
              0.7777777777777778,
              "#fb9f3a"
             ],
             [
              0.8888888888888888,
              "#fdca26"
             ],
             [
              1,
              "#f0f921"
             ]
            ],
            "type": "histogram2d"
           }
          ],
          "histogram2dcontour": [
           {
            "colorbar": {
             "outlinewidth": 0,
             "ticks": ""
            },
            "colorscale": [
             [
              0,
              "#0d0887"
             ],
             [
              0.1111111111111111,
              "#46039f"
             ],
             [
              0.2222222222222222,
              "#7201a8"
             ],
             [
              0.3333333333333333,
              "#9c179e"
             ],
             [
              0.4444444444444444,
              "#bd3786"
             ],
             [
              0.5555555555555556,
              "#d8576b"
             ],
             [
              0.6666666666666666,
              "#ed7953"
             ],
             [
              0.7777777777777778,
              "#fb9f3a"
             ],
             [
              0.8888888888888888,
              "#fdca26"
             ],
             [
              1,
              "#f0f921"
             ]
            ],
            "type": "histogram2dcontour"
           }
          ],
          "mesh3d": [
           {
            "colorbar": {
             "outlinewidth": 0,
             "ticks": ""
            },
            "type": "mesh3d"
           }
          ],
          "parcoords": [
           {
            "line": {
             "colorbar": {
              "outlinewidth": 0,
              "ticks": ""
             }
            },
            "type": "parcoords"
           }
          ],
          "pie": [
           {
            "automargin": true,
            "type": "pie"
           }
          ],
          "scatter": [
           {
            "fillpattern": {
             "fillmode": "overlay",
             "size": 10,
             "solidity": 0.2
            },
            "type": "scatter"
           }
          ],
          "scatter3d": [
           {
            "line": {
             "colorbar": {
              "outlinewidth": 0,
              "ticks": ""
             }
            },
            "marker": {
             "colorbar": {
              "outlinewidth": 0,
              "ticks": ""
             }
            },
            "type": "scatter3d"
           }
          ],
          "scattercarpet": [
           {
            "marker": {
             "colorbar": {
              "outlinewidth": 0,
              "ticks": ""
             }
            },
            "type": "scattercarpet"
           }
          ],
          "scattergeo": [
           {
            "marker": {
             "colorbar": {
              "outlinewidth": 0,
              "ticks": ""
             }
            },
            "type": "scattergeo"
           }
          ],
          "scattergl": [
           {
            "marker": {
             "colorbar": {
              "outlinewidth": 0,
              "ticks": ""
             }
            },
            "type": "scattergl"
           }
          ],
          "scattermapbox": [
           {
            "marker": {
             "colorbar": {
              "outlinewidth": 0,
              "ticks": ""
             }
            },
            "type": "scattermapbox"
           }
          ],
          "scatterpolar": [
           {
            "marker": {
             "colorbar": {
              "outlinewidth": 0,
              "ticks": ""
             }
            },
            "type": "scatterpolar"
           }
          ],
          "scatterpolargl": [
           {
            "marker": {
             "colorbar": {
              "outlinewidth": 0,
              "ticks": ""
             }
            },
            "type": "scatterpolargl"
           }
          ],
          "scatterternary": [
           {
            "marker": {
             "colorbar": {
              "outlinewidth": 0,
              "ticks": ""
             }
            },
            "type": "scatterternary"
           }
          ],
          "surface": [
           {
            "colorbar": {
             "outlinewidth": 0,
             "ticks": ""
            },
            "colorscale": [
             [
              0,
              "#0d0887"
             ],
             [
              0.1111111111111111,
              "#46039f"
             ],
             [
              0.2222222222222222,
              "#7201a8"
             ],
             [
              0.3333333333333333,
              "#9c179e"
             ],
             [
              0.4444444444444444,
              "#bd3786"
             ],
             [
              0.5555555555555556,
              "#d8576b"
             ],
             [
              0.6666666666666666,
              "#ed7953"
             ],
             [
              0.7777777777777778,
              "#fb9f3a"
             ],
             [
              0.8888888888888888,
              "#fdca26"
             ],
             [
              1,
              "#f0f921"
             ]
            ],
            "type": "surface"
           }
          ],
          "table": [
           {
            "cells": {
             "fill": {
              "color": "#EBF0F8"
             },
             "line": {
              "color": "white"
             }
            },
            "header": {
             "fill": {
              "color": "#C8D4E3"
             },
             "line": {
              "color": "white"
             }
            },
            "type": "table"
           }
          ]
         },
         "layout": {
          "annotationdefaults": {
           "arrowcolor": "#2a3f5f",
           "arrowhead": 0,
           "arrowwidth": 1
          },
          "autotypenumbers": "strict",
          "coloraxis": {
           "colorbar": {
            "outlinewidth": 0,
            "ticks": ""
           }
          },
          "colorscale": {
           "diverging": [
            [
             0,
             "#8e0152"
            ],
            [
             0.1,
             "#c51b7d"
            ],
            [
             0.2,
             "#de77ae"
            ],
            [
             0.3,
             "#f1b6da"
            ],
            [
             0.4,
             "#fde0ef"
            ],
            [
             0.5,
             "#f7f7f7"
            ],
            [
             0.6,
             "#e6f5d0"
            ],
            [
             0.7,
             "#b8e186"
            ],
            [
             0.8,
             "#7fbc41"
            ],
            [
             0.9,
             "#4d9221"
            ],
            [
             1,
             "#276419"
            ]
           ],
           "sequential": [
            [
             0,
             "#0d0887"
            ],
            [
             0.1111111111111111,
             "#46039f"
            ],
            [
             0.2222222222222222,
             "#7201a8"
            ],
            [
             0.3333333333333333,
             "#9c179e"
            ],
            [
             0.4444444444444444,
             "#bd3786"
            ],
            [
             0.5555555555555556,
             "#d8576b"
            ],
            [
             0.6666666666666666,
             "#ed7953"
            ],
            [
             0.7777777777777778,
             "#fb9f3a"
            ],
            [
             0.8888888888888888,
             "#fdca26"
            ],
            [
             1,
             "#f0f921"
            ]
           ],
           "sequentialminus": [
            [
             0,
             "#0d0887"
            ],
            [
             0.1111111111111111,
             "#46039f"
            ],
            [
             0.2222222222222222,
             "#7201a8"
            ],
            [
             0.3333333333333333,
             "#9c179e"
            ],
            [
             0.4444444444444444,
             "#bd3786"
            ],
            [
             0.5555555555555556,
             "#d8576b"
            ],
            [
             0.6666666666666666,
             "#ed7953"
            ],
            [
             0.7777777777777778,
             "#fb9f3a"
            ],
            [
             0.8888888888888888,
             "#fdca26"
            ],
            [
             1,
             "#f0f921"
            ]
           ]
          },
          "colorway": [
           "#636efa",
           "#EF553B",
           "#00cc96",
           "#ab63fa",
           "#FFA15A",
           "#19d3f3",
           "#FF6692",
           "#B6E880",
           "#FF97FF",
           "#FECB52"
          ],
          "font": {
           "color": "#2a3f5f"
          },
          "geo": {
           "bgcolor": "white",
           "lakecolor": "white",
           "landcolor": "#E5ECF6",
           "showlakes": true,
           "showland": true,
           "subunitcolor": "white"
          },
          "hoverlabel": {
           "align": "left"
          },
          "hovermode": "closest",
          "mapbox": {
           "style": "light"
          },
          "paper_bgcolor": "white",
          "plot_bgcolor": "#E5ECF6",
          "polar": {
           "angularaxis": {
            "gridcolor": "white",
            "linecolor": "white",
            "ticks": ""
           },
           "bgcolor": "#E5ECF6",
           "radialaxis": {
            "gridcolor": "white",
            "linecolor": "white",
            "ticks": ""
           }
          },
          "scene": {
           "xaxis": {
            "backgroundcolor": "#E5ECF6",
            "gridcolor": "white",
            "gridwidth": 2,
            "linecolor": "white",
            "showbackground": true,
            "ticks": "",
            "zerolinecolor": "white"
           },
           "yaxis": {
            "backgroundcolor": "#E5ECF6",
            "gridcolor": "white",
            "gridwidth": 2,
            "linecolor": "white",
            "showbackground": true,
            "ticks": "",
            "zerolinecolor": "white"
           },
           "zaxis": {
            "backgroundcolor": "#E5ECF6",
            "gridcolor": "white",
            "gridwidth": 2,
            "linecolor": "white",
            "showbackground": true,
            "ticks": "",
            "zerolinecolor": "white"
           }
          },
          "shapedefaults": {
           "line": {
            "color": "#2a3f5f"
           }
          },
          "ternary": {
           "aaxis": {
            "gridcolor": "white",
            "linecolor": "white",
            "ticks": ""
           },
           "baxis": {
            "gridcolor": "white",
            "linecolor": "white",
            "ticks": ""
           },
           "bgcolor": "#E5ECF6",
           "caxis": {
            "gridcolor": "white",
            "linecolor": "white",
            "ticks": ""
           }
          },
          "title": {
           "x": 0.05
          },
          "xaxis": {
           "automargin": true,
           "gridcolor": "white",
           "linecolor": "white",
           "ticks": "",
           "title": {
            "standoff": 15
           },
           "zerolinecolor": "white",
           "zerolinewidth": 2
          },
          "yaxis": {
           "automargin": true,
           "gridcolor": "white",
           "linecolor": "white",
           "ticks": "",
           "title": {
            "standoff": 15
           },
           "zerolinecolor": "white",
           "zerolinewidth": 2
          }
         }
        },
        "xaxis": {
         "anchor": "y",
         "domain": [
          0,
          0.15
         ],
         "title": {
          "text": "PM2.5 (μg/m3)"
         },
         "type": "log"
        },
        "xaxis2": {
         "anchor": "y2",
         "domain": [
          0.16999999999999998,
          0.31999999999999995
         ],
         "matches": "x",
         "title": {
          "text": "PM2.5 (μg/m3)"
         },
         "type": "log"
        },
        "xaxis3": {
         "anchor": "y3",
         "domain": [
          0.33999999999999997,
          0.49
         ],
         "matches": "x",
         "title": {
          "text": "PM2.5 (μg/m3)"
         },
         "type": "log"
        },
        "xaxis4": {
         "anchor": "y4",
         "domain": [
          0.51,
          0.66
         ],
         "matches": "x",
         "title": {
          "text": "PM2.5 (μg/m3)"
         },
         "type": "log"
        },
        "xaxis5": {
         "anchor": "y5",
         "domain": [
          0.6799999999999999,
          0.83
         ],
         "matches": "x",
         "title": {
          "text": "PM2.5 (μg/m3)"
         },
         "type": "log"
        },
        "xaxis6": {
         "anchor": "y6",
         "domain": [
          0.85,
          1
         ],
         "matches": "x",
         "title": {
          "text": "PM2.5 (μg/m3)"
         },
         "type": "log"
        },
        "yaxis": {
         "anchor": "x",
         "domain": [
          0,
          1
         ],
         "title": {
          "text": "PM10 (μg/m3)"
         }
        },
        "yaxis2": {
         "anchor": "x2",
         "domain": [
          0,
          1
         ],
         "matches": "y",
         "showticklabels": false
        },
        "yaxis3": {
         "anchor": "x3",
         "domain": [
          0,
          1
         ],
         "matches": "y",
         "showticklabels": false
        },
        "yaxis4": {
         "anchor": "x4",
         "domain": [
          0,
          1
         ],
         "matches": "y",
         "showticklabels": false
        },
        "yaxis5": {
         "anchor": "x5",
         "domain": [
          0,
          1
         ],
         "matches": "y",
         "showticklabels": false
        },
        "yaxis6": {
         "anchor": "x6",
         "domain": [
          0,
          1
         ],
         "matches": "y",
         "showticklabels": false
        }
       }
      },
      "text/html": [
       "<div>                            <div id=\"eb005456-1304-4a64-aa5e-15916905b9aa\" class=\"plotly-graph-div\" style=\"height:525px; width:100%;\"></div>            <script type=\"text/javascript\">                require([\"plotly\"], function(Plotly) {                    window.PLOTLYENV=window.PLOTLYENV || {};                                    if (document.getElementById(\"eb005456-1304-4a64-aa5e-15916905b9aa\")) {                    Plotly.newPlot(                        \"eb005456-1304-4a64-aa5e-15916905b9aa\",                        [{\"hovertemplate\":\"<b>%{hovertext}</b><br><br>WHO Region=African Region<br>PM2.5 (\\u03bcg/m3)=%{x}<br>PM10 (\\u03bcg/m3)=%{y}<br>NO2 (\\u03bcg/m3)=%{marker.size}<extra></extra>\",\"hovertext\":[\"Algeria\",\"Cameroon\",\"Ethiopia\",\"Ghana\",\"Kenya\",\"Madagascar\",\"Mauritius\",\"Nigeria\",\"Senegal\",\"South Africa\",\"Uganda\",\"United Republic of Tanzania\"],\"legendgroup\":\"African Region\",\"marker\":{\"color\":\"#636efa\",\"size\":[0.0,0.0,0.0,0.0,0.0,0.0,14.95,0.0,239.11,2617.81,0.0,0.0],\"sizemode\":\"area\",\"sizeref\":18.585861111111114,\"symbol\":\"circle\"},\"mode\":\"markers\",\"name\":\"African Region\",\"orientation\":\"v\",\"showlegend\":true,\"x\":[21.53,248.0,104.81,55.0,16.7,187.0,0.0,27.43,179.28,2266.87,277.2,23.32],\"xaxis\":\"x\",\"y\":[0.0,311.0,0.0,701.5,37.3,336.0,339.44,0.0,948.62,5425.7,170.4,35.1],\"yaxis\":\"y\",\"type\":\"scatter\"},{\"hovertemplate\":\"<b>%{hovertext}</b><br><br>WHO Region=Eastern Mediterranean Region<br>PM2.5 (\\u03bcg/m3)=%{x}<br>PM10 (\\u03bcg/m3)=%{y}<br>NO2 (\\u03bcg/m3)=%{marker.size}<extra></extra>\",\"hovertext\":[\"Afghanistan\",\"Bahrain\",\"Egypt\",\"Iran (Islamic Republic of)\",\"Iraq\",\"Jordan\",\"Kuwait\",\"Lebanon\",\"Morocco\",\"Pakistan\",\"Qatar\",\"Saudi Arabia\",\"Tunisia\",\"United Arab Emirates\"],\"legendgroup\":\"Eastern Mediterranean Region\",\"marker\":{\"color\":\"#EF553B\",\"size\":[0.0,103.25,0.0,2847.2,535.27,199.86,1426.9,106.0,163.39000000000001,72.8,176.0,0.0,0.0,1180.8799999999999],\"sizemode\":\"area\",\"sizeref\":18.585861111111114,\"symbol\":\"circle\"},\"mode\":\"markers\",\"name\":\"Eastern Mediterranean Region\",\"orientation\":\"v\",\"showlegend\":true,\"x\":[119.77,485.15,0.0,4411.25,130.01999999999998,45.83,1446.27,172.3,0.0,746.14,314.0,314.12,0.0,227.13],\"xaxis\":\"x2\",\"y\":[0.0,5818.0,1362.0,8872.87,1293.17,1295.71,7232.88,316.3,914.88,1334.17,1214.0,744.7,315.0,4225.89],\"yaxis\":\"y2\",\"type\":\"scatter\"},{\"hovertemplate\":\"<b>%{hovertext}</b><br><br>WHO Region=European Region<br>PM2.5 (\\u03bcg/m3)=%{x}<br>PM10 (\\u03bcg/m3)=%{y}<br>NO2 (\\u03bcg/m3)=%{marker.size}<extra></extra>\",\"hovertext\":[\"Albania\",\"Andorra\",\"Austria\",\"Belgium\",\"Bosnia and Herzegovina\",\"Bulgaria\",\"Croatia\",\"Cyprus\",\"Czechia\",\"Denmark\",\"Estonia\",\"Finland\",\"France\",\"Georgia\",\"Germany\",\"Greece\",\"Hungary\",\"Iceland\",\"Ireland\",\"Israel\",\"Italy\",\"Kazakhstan\",\"Kyrgyzstan\",\"Latvia\",\"Lithuania\",\"Luxembourg\",\"Malta\",\"Monaco\",\"Montenegro\",\"Netherlands\",\"North Macedonia\",\"Norway\",\"Poland\",\"Portugal\",\"Romania\",\"Russian Federation\",\"Serbia\",\"Slovakia\",\"Slovenia\",\"Spain\",\"Sweden\",\"Switzerland\",\"Tajikistan\",\"Turkey\",\"Turkmenistan\",\"Ukraine\",\"United Kingdom\",\"Uzbekistan\"],\"legendgroup\":\"European Region\",\"marker\":{\"color\":\"#00cc96\",\"size\":[162.6,199.19,16767.61,10010.19,666.93,2428.73,1118.38,302.89,6475.93,889.52,379.41,2098.54,35303.44,0.0,59622.11,2852.15,2637.34,300.05,822.1,0.0,66909.1,0.0,0.0,567.93,1308.19,839.0,489.0,134.85,435.94,8496.95,452.6,3682.58,14235.59,4672.9,7296.0199999999995,0.0,1510.39,1957.24,1437.57,36864.43,4536.56,22056.23,0.0,7701.62,0.0,0.0,17132.34,0.0],\"sizemode\":\"area\",\"sizeref\":18.585861111111114,\"symbol\":\"circle\"},\"mode\":\"markers\",\"name\":\"European Region\",\"orientation\":\"v\",\"showlegend\":true,\"x\":[96.86,0.0,3056.6,4011.12,606.85,1088.41,867.21,595.28,6196.28,363.57,324.98,657.25,8092.04,73.5,13440.93,614.78,455.98,173.23,418.29,1654.26,23272.34,54.019999999999996,33.15,508.3,542.75,275.22,400.45,0.0,0.0,2983.72,128.16,1037.07,12717.45,769.97,1240.24,14.0,22.67,2414.09,418.67,6314.3,684.35,2671.09,71.52,2260.28,22.08,46.18,4516.11,85.05000000000001],\"xaxis\":\"x3\",\"y\":[204.6,179.91,14525.68,7808.79,1181.81,8045.09,1765.73,880.32,16339.16,694.57,508.92,2675.21,32422.99,169.49,37829.52,3067.27,3726.0,392.72,1101.1,4391.91,64430.84,0.0,0.0,859.49,2337.51,573.86,873.48,73.74000000000001,1186.65,7995.79,2104.43,2921.04,42475.39,5792.42,8899.53,47.730000000000004,1155.78,3837.09,2641.34,34127.66,4173.27,14982.7,0.0,29272.82,0.0,69.03,5882.68,0.0],\"yaxis\":\"y3\",\"type\":\"scatter\"},{\"hovertemplate\":\"<b>%{hovertext}</b><br><br>WHO Region=Region of the Americas<br>PM2.5 (\\u03bcg/m3)=%{x}<br>PM10 (\\u03bcg/m3)=%{y}<br>NO2 (\\u03bcg/m3)=%{marker.size}<extra></extra>\",\"hovertext\":[\"Argentina\",\"Bahamas\",\"Bolivia (Plurinational State of)\",\"Brazil\",\"Canada\",\"Chile\",\"Colombia\",\"Costa Rica\",\"Cuba\",\"Ecuador\",\"El Salvador\",\"Guatemala\",\"Honduras\",\"Jamaica\",\"Mexico\",\"Panama\",\"Paraguay\",\"Peru\",\"Trinidad and Tobago\",\"United States of America\",\"Uruguay\",\"Venezuela (Bolivarian Republic of)\"],\"legendgroup\":\"Region of the Americas\",\"marker\":{\"color\":\"#ab63fa\",\"size\":[69.77000000000001,0.0,0.0,6796.74,7392.36,742.77,515.71,40.71,0.0,355.26,0.0,137.42000000000002,0.0,0.0,3052.58,0.0,0.0,909.1899999999999,67.2,13673.69,0.0,0.0],\"sizemode\":\"area\",\"sizeref\":18.585861111111114,\"symbol\":\"circle\"},\"mode\":\"markers\",\"name\":\"Region of the Americas\",\"orientation\":\"v\",\"showlegend\":true,\"x\":[20.369999999999997,12.49,0.0,1216.47,6084.18,4920.55,976.79,112.4,34.8,184.57,277.25,90.05000000000001,36.0,0.0,2763.16,14.0,18.4,1399.34,74.8,5854.93,20.0,35.0],\"xaxis\":\"x4\",\"y\":[130.05,13.95,141.52,15284.53,1979.42,10515.22,3242.14,324.75,0.0,916.04,0.0,265.25,173.0,386.41,9331.08,31.1,0.0,5621.08,209.95,20810.72,44.83,94.0],\"yaxis\":\"y4\",\"type\":\"scatter\"},{\"hovertemplate\":\"<b>%{hovertext}</b><br><br>WHO Region=South East Asia Region<br>PM2.5 (\\u03bcg/m3)=%{x}<br>PM10 (\\u03bcg/m3)=%{y}<br>NO2 (\\u03bcg/m3)=%{marker.size}<extra></extra>\",\"hovertext\":[\"Bangladesh\",\"Bhutan\",\"India\",\"Indonesia\",\"Maldives\",\"Myanmar\",\"Nepal\",\"Sri Lanka\",\"Thailand\"],\"legendgroup\":\"South East Asia Region\",\"marker\":{\"color\":\"#FFA15A\",\"size\":[1253.4,0.0,46809.75,0.0,0.0,27.259999999999998,0.0,0.0,750.56],\"sizemode\":\"area\",\"sizeref\":18.585861111111114,\"symbol\":\"circle\"},\"mode\":\"markers\",\"name\":\"South East Asia Region\",\"orientation\":\"v\",\"showlegend\":true,\"x\":[4507.62,0.0,17027.26,429.89,0.0,18.08,804.53,86.63,817.1800000000001],\"xaxis\":\"x5\",\"y\":[7944.98,1805.0,117694.45,0.0,20.0,1265.5,788.69,128.0,4628.5],\"yaxis\":\"y5\",\"type\":\"scatter\"},{\"hovertemplate\":\"<b>%{hovertext}</b><br><br>WHO Region=Western Pacific Region<br>PM2.5 (\\u03bcg/m3)=%{x}<br>PM10 (\\u03bcg/m3)=%{y}<br>NO2 (\\u03bcg/m3)=%{marker.size}<extra></extra>\",\"hovertext\":[\"Australia\",\"China\",\"Fiji\",\"Japan\",\"Lao People's Democratic Republic\",\"Malaysia\",\"Mongolia\",\"New Zealand\",\"Philippines\",\"Republic of Korea\",\"Singapore\",\"Viet Nam\"],\"legendgroup\":\"Western Pacific Region\",\"marker\":{\"color\":\"#19d3f3\",\"size\":[644.96,10408.71,0.0,698.07,0.0,215.53,232.0,129.71,0.0,7100.76,264.0,0.0],\"sizemode\":\"area\",\"sizeref\":18.585861111111114,\"symbol\":\"circle\"},\"mode\":\"markers\",\"name\":\"Western Pacific Region\",\"orientation\":\"v\",\"showlegend\":true,\"x\":[1430.89,170827.47,15.129999999999999,846.21,25.77,371.46999999999997,886.39,416.23,1129.0,2374.0,186.0,449.90000000000003],\"xaxis\":\"x6\",\"y\":[3744.57,3122.43,0.0,0.0,0.0,653.45,1692.2,2527.81,2014.83,8434.0,59.0,600.4],\"yaxis\":\"y6\",\"type\":\"scatter\"}],                        {\"template\":{\"data\":{\"histogram2dcontour\":[{\"type\":\"histogram2dcontour\",\"colorbar\":{\"outlinewidth\":0,\"ticks\":\"\"},\"colorscale\":[[0.0,\"#0d0887\"],[0.1111111111111111,\"#46039f\"],[0.2222222222222222,\"#7201a8\"],[0.3333333333333333,\"#9c179e\"],[0.4444444444444444,\"#bd3786\"],[0.5555555555555556,\"#d8576b\"],[0.6666666666666666,\"#ed7953\"],[0.7777777777777778,\"#fb9f3a\"],[0.8888888888888888,\"#fdca26\"],[1.0,\"#f0f921\"]]}],\"choropleth\":[{\"type\":\"choropleth\",\"colorbar\":{\"outlinewidth\":0,\"ticks\":\"\"}}],\"histogram2d\":[{\"type\":\"histogram2d\",\"colorbar\":{\"outlinewidth\":0,\"ticks\":\"\"},\"colorscale\":[[0.0,\"#0d0887\"],[0.1111111111111111,\"#46039f\"],[0.2222222222222222,\"#7201a8\"],[0.3333333333333333,\"#9c179e\"],[0.4444444444444444,\"#bd3786\"],[0.5555555555555556,\"#d8576b\"],[0.6666666666666666,\"#ed7953\"],[0.7777777777777778,\"#fb9f3a\"],[0.8888888888888888,\"#fdca26\"],[1.0,\"#f0f921\"]]}],\"heatmap\":[{\"type\":\"heatmap\",\"colorbar\":{\"outlinewidth\":0,\"ticks\":\"\"},\"colorscale\":[[0.0,\"#0d0887\"],[0.1111111111111111,\"#46039f\"],[0.2222222222222222,\"#7201a8\"],[0.3333333333333333,\"#9c179e\"],[0.4444444444444444,\"#bd3786\"],[0.5555555555555556,\"#d8576b\"],[0.6666666666666666,\"#ed7953\"],[0.7777777777777778,\"#fb9f3a\"],[0.8888888888888888,\"#fdca26\"],[1.0,\"#f0f921\"]]}],\"heatmapgl\":[{\"type\":\"heatmapgl\",\"colorbar\":{\"outlinewidth\":0,\"ticks\":\"\"},\"colorscale\":[[0.0,\"#0d0887\"],[0.1111111111111111,\"#46039f\"],[0.2222222222222222,\"#7201a8\"],[0.3333333333333333,\"#9c179e\"],[0.4444444444444444,\"#bd3786\"],[0.5555555555555556,\"#d8576b\"],[0.6666666666666666,\"#ed7953\"],[0.7777777777777778,\"#fb9f3a\"],[0.8888888888888888,\"#fdca26\"],[1.0,\"#f0f921\"]]}],\"contourcarpet\":[{\"type\":\"contourcarpet\",\"colorbar\":{\"outlinewidth\":0,\"ticks\":\"\"}}],\"contour\":[{\"type\":\"contour\",\"colorbar\":{\"outlinewidth\":0,\"ticks\":\"\"},\"colorscale\":[[0.0,\"#0d0887\"],[0.1111111111111111,\"#46039f\"],[0.2222222222222222,\"#7201a8\"],[0.3333333333333333,\"#9c179e\"],[0.4444444444444444,\"#bd3786\"],[0.5555555555555556,\"#d8576b\"],[0.6666666666666666,\"#ed7953\"],[0.7777777777777778,\"#fb9f3a\"],[0.8888888888888888,\"#fdca26\"],[1.0,\"#f0f921\"]]}],\"surface\":[{\"type\":\"surface\",\"colorbar\":{\"outlinewidth\":0,\"ticks\":\"\"},\"colorscale\":[[0.0,\"#0d0887\"],[0.1111111111111111,\"#46039f\"],[0.2222222222222222,\"#7201a8\"],[0.3333333333333333,\"#9c179e\"],[0.4444444444444444,\"#bd3786\"],[0.5555555555555556,\"#d8576b\"],[0.6666666666666666,\"#ed7953\"],[0.7777777777777778,\"#fb9f3a\"],[0.8888888888888888,\"#fdca26\"],[1.0,\"#f0f921\"]]}],\"mesh3d\":[{\"type\":\"mesh3d\",\"colorbar\":{\"outlinewidth\":0,\"ticks\":\"\"}}],\"scatter\":[{\"fillpattern\":{\"fillmode\":\"overlay\",\"size\":10,\"solidity\":0.2},\"type\":\"scatter\"}],\"parcoords\":[{\"type\":\"parcoords\",\"line\":{\"colorbar\":{\"outlinewidth\":0,\"ticks\":\"\"}}}],\"scatterpolargl\":[{\"type\":\"scatterpolargl\",\"marker\":{\"colorbar\":{\"outlinewidth\":0,\"ticks\":\"\"}}}],\"bar\":[{\"error_x\":{\"color\":\"#2a3f5f\"},\"error_y\":{\"color\":\"#2a3f5f\"},\"marker\":{\"line\":{\"color\":\"#E5ECF6\",\"width\":0.5},\"pattern\":{\"fillmode\":\"overlay\",\"size\":10,\"solidity\":0.2}},\"type\":\"bar\"}],\"scattergeo\":[{\"type\":\"scattergeo\",\"marker\":{\"colorbar\":{\"outlinewidth\":0,\"ticks\":\"\"}}}],\"scatterpolar\":[{\"type\":\"scatterpolar\",\"marker\":{\"colorbar\":{\"outlinewidth\":0,\"ticks\":\"\"}}}],\"histogram\":[{\"marker\":{\"pattern\":{\"fillmode\":\"overlay\",\"size\":10,\"solidity\":0.2}},\"type\":\"histogram\"}],\"scattergl\":[{\"type\":\"scattergl\",\"marker\":{\"colorbar\":{\"outlinewidth\":0,\"ticks\":\"\"}}}],\"scatter3d\":[{\"type\":\"scatter3d\",\"line\":{\"colorbar\":{\"outlinewidth\":0,\"ticks\":\"\"}},\"marker\":{\"colorbar\":{\"outlinewidth\":0,\"ticks\":\"\"}}}],\"scattermapbox\":[{\"type\":\"scattermapbox\",\"marker\":{\"colorbar\":{\"outlinewidth\":0,\"ticks\":\"\"}}}],\"scatterternary\":[{\"type\":\"scatterternary\",\"marker\":{\"colorbar\":{\"outlinewidth\":0,\"ticks\":\"\"}}}],\"scattercarpet\":[{\"type\":\"scattercarpet\",\"marker\":{\"colorbar\":{\"outlinewidth\":0,\"ticks\":\"\"}}}],\"carpet\":[{\"aaxis\":{\"endlinecolor\":\"#2a3f5f\",\"gridcolor\":\"white\",\"linecolor\":\"white\",\"minorgridcolor\":\"white\",\"startlinecolor\":\"#2a3f5f\"},\"baxis\":{\"endlinecolor\":\"#2a3f5f\",\"gridcolor\":\"white\",\"linecolor\":\"white\",\"minorgridcolor\":\"white\",\"startlinecolor\":\"#2a3f5f\"},\"type\":\"carpet\"}],\"table\":[{\"cells\":{\"fill\":{\"color\":\"#EBF0F8\"},\"line\":{\"color\":\"white\"}},\"header\":{\"fill\":{\"color\":\"#C8D4E3\"},\"line\":{\"color\":\"white\"}},\"type\":\"table\"}],\"barpolar\":[{\"marker\":{\"line\":{\"color\":\"#E5ECF6\",\"width\":0.5},\"pattern\":{\"fillmode\":\"overlay\",\"size\":10,\"solidity\":0.2}},\"type\":\"barpolar\"}],\"pie\":[{\"automargin\":true,\"type\":\"pie\"}]},\"layout\":{\"autotypenumbers\":\"strict\",\"colorway\":[\"#636efa\",\"#EF553B\",\"#00cc96\",\"#ab63fa\",\"#FFA15A\",\"#19d3f3\",\"#FF6692\",\"#B6E880\",\"#FF97FF\",\"#FECB52\"],\"font\":{\"color\":\"#2a3f5f\"},\"hovermode\":\"closest\",\"hoverlabel\":{\"align\":\"left\"},\"paper_bgcolor\":\"white\",\"plot_bgcolor\":\"#E5ECF6\",\"polar\":{\"bgcolor\":\"#E5ECF6\",\"angularaxis\":{\"gridcolor\":\"white\",\"linecolor\":\"white\",\"ticks\":\"\"},\"radialaxis\":{\"gridcolor\":\"white\",\"linecolor\":\"white\",\"ticks\":\"\"}},\"ternary\":{\"bgcolor\":\"#E5ECF6\",\"aaxis\":{\"gridcolor\":\"white\",\"linecolor\":\"white\",\"ticks\":\"\"},\"baxis\":{\"gridcolor\":\"white\",\"linecolor\":\"white\",\"ticks\":\"\"},\"caxis\":{\"gridcolor\":\"white\",\"linecolor\":\"white\",\"ticks\":\"\"}},\"coloraxis\":{\"colorbar\":{\"outlinewidth\":0,\"ticks\":\"\"}},\"colorscale\":{\"sequential\":[[0.0,\"#0d0887\"],[0.1111111111111111,\"#46039f\"],[0.2222222222222222,\"#7201a8\"],[0.3333333333333333,\"#9c179e\"],[0.4444444444444444,\"#bd3786\"],[0.5555555555555556,\"#d8576b\"],[0.6666666666666666,\"#ed7953\"],[0.7777777777777778,\"#fb9f3a\"],[0.8888888888888888,\"#fdca26\"],[1.0,\"#f0f921\"]],\"sequentialminus\":[[0.0,\"#0d0887\"],[0.1111111111111111,\"#46039f\"],[0.2222222222222222,\"#7201a8\"],[0.3333333333333333,\"#9c179e\"],[0.4444444444444444,\"#bd3786\"],[0.5555555555555556,\"#d8576b\"],[0.6666666666666666,\"#ed7953\"],[0.7777777777777778,\"#fb9f3a\"],[0.8888888888888888,\"#fdca26\"],[1.0,\"#f0f921\"]],\"diverging\":[[0,\"#8e0152\"],[0.1,\"#c51b7d\"],[0.2,\"#de77ae\"],[0.3,\"#f1b6da\"],[0.4,\"#fde0ef\"],[0.5,\"#f7f7f7\"],[0.6,\"#e6f5d0\"],[0.7,\"#b8e186\"],[0.8,\"#7fbc41\"],[0.9,\"#4d9221\"],[1,\"#276419\"]]},\"xaxis\":{\"gridcolor\":\"white\",\"linecolor\":\"white\",\"ticks\":\"\",\"title\":{\"standoff\":15},\"zerolinecolor\":\"white\",\"automargin\":true,\"zerolinewidth\":2},\"yaxis\":{\"gridcolor\":\"white\",\"linecolor\":\"white\",\"ticks\":\"\",\"title\":{\"standoff\":15},\"zerolinecolor\":\"white\",\"automargin\":true,\"zerolinewidth\":2},\"scene\":{\"xaxis\":{\"backgroundcolor\":\"#E5ECF6\",\"gridcolor\":\"white\",\"linecolor\":\"white\",\"showbackground\":true,\"ticks\":\"\",\"zerolinecolor\":\"white\",\"gridwidth\":2},\"yaxis\":{\"backgroundcolor\":\"#E5ECF6\",\"gridcolor\":\"white\",\"linecolor\":\"white\",\"showbackground\":true,\"ticks\":\"\",\"zerolinecolor\":\"white\",\"gridwidth\":2},\"zaxis\":{\"backgroundcolor\":\"#E5ECF6\",\"gridcolor\":\"white\",\"linecolor\":\"white\",\"showbackground\":true,\"ticks\":\"\",\"zerolinecolor\":\"white\",\"gridwidth\":2}},\"shapedefaults\":{\"line\":{\"color\":\"#2a3f5f\"}},\"annotationdefaults\":{\"arrowcolor\":\"#2a3f5f\",\"arrowhead\":0,\"arrowwidth\":1},\"geo\":{\"bgcolor\":\"white\",\"landcolor\":\"#E5ECF6\",\"subunitcolor\":\"white\",\"showland\":true,\"showlakes\":true,\"lakecolor\":\"white\"},\"title\":{\"x\":0.05},\"mapbox\":{\"style\":\"light\"}}},\"xaxis\":{\"anchor\":\"y\",\"domain\":[0.0,0.15],\"title\":{\"text\":\"PM2.5 (\\u03bcg/m3)\"},\"type\":\"log\"},\"yaxis\":{\"anchor\":\"x\",\"domain\":[0.0,1.0],\"title\":{\"text\":\"PM10 (\\u03bcg/m3)\"}},\"xaxis2\":{\"anchor\":\"y2\",\"domain\":[0.16999999999999998,0.31999999999999995],\"matches\":\"x\",\"title\":{\"text\":\"PM2.5 (\\u03bcg/m3)\"},\"type\":\"log\"},\"yaxis2\":{\"anchor\":\"x2\",\"domain\":[0.0,1.0],\"matches\":\"y\",\"showticklabels\":false},\"xaxis3\":{\"anchor\":\"y3\",\"domain\":[0.33999999999999997,0.49],\"matches\":\"x\",\"title\":{\"text\":\"PM2.5 (\\u03bcg/m3)\"},\"type\":\"log\"},\"yaxis3\":{\"anchor\":\"x3\",\"domain\":[0.0,1.0],\"matches\":\"y\",\"showticklabels\":false},\"xaxis4\":{\"anchor\":\"y4\",\"domain\":[0.51,0.66],\"matches\":\"x\",\"title\":{\"text\":\"PM2.5 (\\u03bcg/m3)\"},\"type\":\"log\"},\"yaxis4\":{\"anchor\":\"x4\",\"domain\":[0.0,1.0],\"matches\":\"y\",\"showticklabels\":false},\"xaxis5\":{\"anchor\":\"y5\",\"domain\":[0.6799999999999999,0.83],\"matches\":\"x\",\"title\":{\"text\":\"PM2.5 (\\u03bcg/m3)\"},\"type\":\"log\"},\"yaxis5\":{\"anchor\":\"x5\",\"domain\":[0.0,1.0],\"matches\":\"y\",\"showticklabels\":false},\"xaxis6\":{\"anchor\":\"y6\",\"domain\":[0.85,1.0],\"matches\":\"x\",\"title\":{\"text\":\"PM2.5 (\\u03bcg/m3)\"},\"type\":\"log\"},\"yaxis6\":{\"anchor\":\"x6\",\"domain\":[0.0,1.0],\"matches\":\"y\",\"showticklabels\":false},\"annotations\":[{\"font\":{},\"showarrow\":false,\"text\":\"WHO Region=African Region\",\"x\":0.075,\"xanchor\":\"center\",\"xref\":\"paper\",\"y\":1.0,\"yanchor\":\"bottom\",\"yref\":\"paper\"},{\"font\":{},\"showarrow\":false,\"text\":\"WHO Region=Eastern Mediterranean Region\",\"x\":0.24499999999999997,\"xanchor\":\"center\",\"xref\":\"paper\",\"y\":1.0,\"yanchor\":\"bottom\",\"yref\":\"paper\"},{\"font\":{},\"showarrow\":false,\"text\":\"WHO Region=European Region\",\"x\":0.415,\"xanchor\":\"center\",\"xref\":\"paper\",\"y\":1.0,\"yanchor\":\"bottom\",\"yref\":\"paper\"},{\"font\":{},\"showarrow\":false,\"text\":\"WHO Region=Region of the Americas\",\"x\":0.585,\"xanchor\":\"center\",\"xref\":\"paper\",\"y\":1.0,\"yanchor\":\"bottom\",\"yref\":\"paper\"},{\"font\":{},\"showarrow\":false,\"text\":\"WHO Region=South East Asia Region\",\"x\":0.7549999999999999,\"xanchor\":\"center\",\"xref\":\"paper\",\"y\":1.0,\"yanchor\":\"bottom\",\"yref\":\"paper\"},{\"font\":{},\"showarrow\":false,\"text\":\"WHO Region=Western Pacific Region\",\"x\":0.925,\"xanchor\":\"center\",\"xref\":\"paper\",\"y\":1.0,\"yanchor\":\"bottom\",\"yref\":\"paper\"}],\"legend\":{\"title\":{\"text\":\"WHO Region\"},\"tracegroupgap\":0,\"itemsizing\":\"constant\"},\"margin\":{\"t\":60}},                        {\"responsive\": true}                    ).then(function(){\n",
       "                            \n",
       "var gd = document.getElementById('eb005456-1304-4a64-aa5e-15916905b9aa');\n",
       "var x = new MutationObserver(function (mutations, observer) {{\n",
       "        var display = window.getComputedStyle(gd).display;\n",
       "        if (!display || display === 'none') {{\n",
       "            console.log([gd, 'removed!']);\n",
       "            Plotly.purge(gd);\n",
       "            observer.disconnect();\n",
       "        }}\n",
       "}});\n",
       "\n",
       "// Listen for the removal of the full notebook cells\n",
       "var notebookContainer = gd.closest('#notebook-container');\n",
       "if (notebookContainer) {{\n",
       "    x.observe(notebookContainer, {childList: true});\n",
       "}}\n",
       "\n",
       "// Listen for the clearing of the current output cell\n",
       "var outputEl = gd.closest('.output');\n",
       "if (outputEl) {{\n",
       "    x.observe(outputEl, {childList: true});\n",
       "}}\n",
       "\n",
       "                        })                };                });            </script>        </div>"
      ]
     },
     "metadata": {},
     "output_type": "display_data"
    }
   ],
   "source": [
    "fig = px.scatter(df2, x=\"PM2.5 (μg/m3)\", y=\"PM10 (μg/m3)\",\n",
    "                 size=\"NO2 (μg/m3)\", color=\"WHO Region\", hover_name=\"WHO Country Name\",\\\n",
    "                 facet_col = 'WHO Region',\\\n",
    "                 log_x=True, size_max=60)\n",
    "fig.write_html('plot1.html')\n",
    "fig.show()"
   ]
  },
  {
   "cell_type": "code",
   "execution_count": 38,
   "id": "98e0262c",
   "metadata": {},
   "outputs": [],
   "source": [
    "df3 = df[['PM2.5 (μg/m3)', 'PM10 (μg/m3)', 'NO2 (μg/m3)','WHO Region','WHO Country Name', 'City or Locality','Measurement Year']]"
   ]
  },
  {
   "cell_type": "code",
   "execution_count": 39,
   "id": "e82ae605",
   "metadata": {},
   "outputs": [],
   "source": [
    "df3 = df3.fillna(0)"
   ]
  },
  {
   "cell_type": "code",
   "execution_count": 40,
   "id": "43668157",
   "metadata": {},
   "outputs": [],
   "source": [
    "df3 = df3.groupby(['WHO Region','WHO Country Name','City or Locality','Measurement Year']).sum()[['PM2.5 (μg/m3)', 'PM10 (μg/m3)', 'NO2 (μg/m3)']].reset_index()"
   ]
  },
  {
   "cell_type": "code",
   "execution_count": 41,
   "id": "cfedc85d",
   "metadata": {},
   "outputs": [
    {
     "data": {
      "text/html": [
       "<div>\n",
       "<style scoped>\n",
       "    .dataframe tbody tr th:only-of-type {\n",
       "        vertical-align: middle;\n",
       "    }\n",
       "\n",
       "    .dataframe tbody tr th {\n",
       "        vertical-align: top;\n",
       "    }\n",
       "\n",
       "    .dataframe thead th {\n",
       "        text-align: right;\n",
       "    }\n",
       "</style>\n",
       "<table border=\"1\" class=\"dataframe\">\n",
       "  <thead>\n",
       "    <tr style=\"text-align: right;\">\n",
       "      <th></th>\n",
       "      <th>WHO Region</th>\n",
       "      <th>WHO Country Name</th>\n",
       "      <th>City or Locality</th>\n",
       "      <th>Measurement Year</th>\n",
       "      <th>PM2.5 (μg/m3)</th>\n",
       "      <th>PM10 (μg/m3)</th>\n",
       "      <th>NO2 (μg/m3)</th>\n",
       "    </tr>\n",
       "  </thead>\n",
       "  <tbody>\n",
       "    <tr>\n",
       "      <th>0</th>\n",
       "      <td>African Region</td>\n",
       "      <td>Algeria</td>\n",
       "      <td>Algiers</td>\n",
       "      <td>2019</td>\n",
       "      <td>21.53</td>\n",
       "      <td>0.0</td>\n",
       "      <td>0.0</td>\n",
       "    </tr>\n",
       "    <tr>\n",
       "      <th>1</th>\n",
       "      <td>African Region</td>\n",
       "      <td>Cameroon</td>\n",
       "      <td>Bafoussam</td>\n",
       "      <td>2012</td>\n",
       "      <td>67.00</td>\n",
       "      <td>105.0</td>\n",
       "      <td>0.0</td>\n",
       "    </tr>\n",
       "    <tr>\n",
       "      <th>2</th>\n",
       "      <td>African Region</td>\n",
       "      <td>Cameroon</td>\n",
       "      <td>Bamenda</td>\n",
       "      <td>2012</td>\n",
       "      <td>132.00</td>\n",
       "      <td>141.0</td>\n",
       "      <td>0.0</td>\n",
       "    </tr>\n",
       "    <tr>\n",
       "      <th>3</th>\n",
       "      <td>African Region</td>\n",
       "      <td>Cameroon</td>\n",
       "      <td>Yaoude</td>\n",
       "      <td>2012</td>\n",
       "      <td>49.00</td>\n",
       "      <td>65.0</td>\n",
       "      <td>0.0</td>\n",
       "    </tr>\n",
       "    <tr>\n",
       "      <th>4</th>\n",
       "      <td>African Region</td>\n",
       "      <td>Ethiopia</td>\n",
       "      <td>Addis Ababa</td>\n",
       "      <td>2016</td>\n",
       "      <td>28.30</td>\n",
       "      <td>0.0</td>\n",
       "      <td>0.0</td>\n",
       "    </tr>\n",
       "    <tr>\n",
       "      <th>...</th>\n",
       "      <td>...</td>\n",
       "      <td>...</td>\n",
       "      <td>...</td>\n",
       "      <td>...</td>\n",
       "      <td>...</td>\n",
       "      <td>...</td>\n",
       "      <td>...</td>\n",
       "    </tr>\n",
       "    <tr>\n",
       "      <th>32028</th>\n",
       "      <td>Western Pacific Region</td>\n",
       "      <td>Viet Nam</td>\n",
       "      <td>Nha Trang</td>\n",
       "      <td>2013</td>\n",
       "      <td>0.00</td>\n",
       "      <td>30.0</td>\n",
       "      <td>0.0</td>\n",
       "    </tr>\n",
       "    <tr>\n",
       "      <th>32029</th>\n",
       "      <td>Western Pacific Region</td>\n",
       "      <td>Viet Nam</td>\n",
       "      <td>Nha Trang</td>\n",
       "      <td>2014</td>\n",
       "      <td>0.00</td>\n",
       "      <td>12.0</td>\n",
       "      <td>0.0</td>\n",
       "    </tr>\n",
       "    <tr>\n",
       "      <th>32030</th>\n",
       "      <td>Western Pacific Region</td>\n",
       "      <td>Viet Nam</td>\n",
       "      <td>Nha Trang</td>\n",
       "      <td>2015</td>\n",
       "      <td>0.00</td>\n",
       "      <td>14.0</td>\n",
       "      <td>0.0</td>\n",
       "    </tr>\n",
       "    <tr>\n",
       "      <th>32031</th>\n",
       "      <td>Western Pacific Region</td>\n",
       "      <td>Viet Nam</td>\n",
       "      <td>Viet Tri</td>\n",
       "      <td>2013</td>\n",
       "      <td>0.00</td>\n",
       "      <td>27.0</td>\n",
       "      <td>0.0</td>\n",
       "    </tr>\n",
       "    <tr>\n",
       "      <th>32032</th>\n",
       "      <td>Western Pacific Region</td>\n",
       "      <td>Viet Nam</td>\n",
       "      <td>Viet Tri</td>\n",
       "      <td>2014</td>\n",
       "      <td>0.00</td>\n",
       "      <td>22.0</td>\n",
       "      <td>0.0</td>\n",
       "    </tr>\n",
       "  </tbody>\n",
       "</table>\n",
       "<p>32033 rows × 7 columns</p>\n",
       "</div>"
      ],
      "text/plain": [
       "                   WHO Region WHO Country Name City or Locality   \n",
       "0              African Region          Algeria          Algiers  \\\n",
       "1              African Region         Cameroon        Bafoussam   \n",
       "2              African Region         Cameroon          Bamenda   \n",
       "3              African Region         Cameroon           Yaoude   \n",
       "4              African Region         Ethiopia      Addis Ababa   \n",
       "...                       ...              ...              ...   \n",
       "32028  Western Pacific Region         Viet Nam        Nha Trang   \n",
       "32029  Western Pacific Region         Viet Nam        Nha Trang   \n",
       "32030  Western Pacific Region         Viet Nam        Nha Trang   \n",
       "32031  Western Pacific Region         Viet Nam         Viet Tri   \n",
       "32032  Western Pacific Region         Viet Nam         Viet Tri   \n",
       "\n",
       "       Measurement Year  PM2.5 (μg/m3)  PM10 (μg/m3)  NO2 (μg/m3)  \n",
       "0                  2019          21.53           0.0          0.0  \n",
       "1                  2012          67.00         105.0          0.0  \n",
       "2                  2012         132.00         141.0          0.0  \n",
       "3                  2012          49.00          65.0          0.0  \n",
       "4                  2016          28.30           0.0          0.0  \n",
       "...                 ...            ...           ...          ...  \n",
       "32028              2013           0.00          30.0          0.0  \n",
       "32029              2014           0.00          12.0          0.0  \n",
       "32030              2015           0.00          14.0          0.0  \n",
       "32031              2013           0.00          27.0          0.0  \n",
       "32032              2014           0.00          22.0          0.0  \n",
       "\n",
       "[32033 rows x 7 columns]"
      ]
     },
     "execution_count": 41,
     "metadata": {},
     "output_type": "execute_result"
    }
   ],
   "source": [
    "df3"
   ]
  },
  {
   "cell_type": "code",
   "execution_count": 42,
   "id": "4c1d3abe",
   "metadata": {},
   "outputs": [],
   "source": [
    "df3.to_csv('geomap.csv')"
   ]
  },
  {
   "cell_type": "code",
   "execution_count": 44,
   "id": "deaec82b",
   "metadata": {},
   "outputs": [
    {
     "data": {
      "text/html": [
       "<div>\n",
       "<style scoped>\n",
       "    .dataframe tbody tr th:only-of-type {\n",
       "        vertical-align: middle;\n",
       "    }\n",
       "\n",
       "    .dataframe tbody tr th {\n",
       "        vertical-align: top;\n",
       "    }\n",
       "\n",
       "    .dataframe thead th {\n",
       "        text-align: right;\n",
       "    }\n",
       "</style>\n",
       "<table border=\"1\" class=\"dataframe\">\n",
       "  <thead>\n",
       "    <tr style=\"text-align: right;\">\n",
       "      <th></th>\n",
       "      <th>Measurement Year</th>\n",
       "      <th>PM2.5 (μg/m3)</th>\n",
       "      <th>PM10 (μg/m3)</th>\n",
       "      <th>NO2 (μg/m3)</th>\n",
       "    </tr>\n",
       "  </thead>\n",
       "  <tbody>\n",
       "    <tr>\n",
       "      <th>0</th>\n",
       "      <td>2000</td>\n",
       "      <td>0.00</td>\n",
       "      <td>487.50</td>\n",
       "      <td>0.00</td>\n",
       "    </tr>\n",
       "    <tr>\n",
       "      <th>1</th>\n",
       "      <td>2001</td>\n",
       "      <td>0.00</td>\n",
       "      <td>458.20</td>\n",
       "      <td>0.00</td>\n",
       "    </tr>\n",
       "    <tr>\n",
       "      <th>2</th>\n",
       "      <td>2002</td>\n",
       "      <td>0.00</td>\n",
       "      <td>350.20</td>\n",
       "      <td>0.00</td>\n",
       "    </tr>\n",
       "    <tr>\n",
       "      <th>3</th>\n",
       "      <td>2003</td>\n",
       "      <td>0.00</td>\n",
       "      <td>372.80</td>\n",
       "      <td>0.00</td>\n",
       "    </tr>\n",
       "    <tr>\n",
       "      <th>4</th>\n",
       "      <td>2004</td>\n",
       "      <td>0.00</td>\n",
       "      <td>271.60</td>\n",
       "      <td>0.00</td>\n",
       "    </tr>\n",
       "    <tr>\n",
       "      <th>5</th>\n",
       "      <td>2006</td>\n",
       "      <td>0.00</td>\n",
       "      <td>280.86</td>\n",
       "      <td>0.00</td>\n",
       "    </tr>\n",
       "    <tr>\n",
       "      <th>6</th>\n",
       "      <td>2007</td>\n",
       "      <td>0.00</td>\n",
       "      <td>491.20</td>\n",
       "      <td>0.00</td>\n",
       "    </tr>\n",
       "    <tr>\n",
       "      <th>7</th>\n",
       "      <td>2008</td>\n",
       "      <td>0.00</td>\n",
       "      <td>266.20</td>\n",
       "      <td>0.00</td>\n",
       "    </tr>\n",
       "    <tr>\n",
       "      <th>8</th>\n",
       "      <td>2009</td>\n",
       "      <td>0.00</td>\n",
       "      <td>281.40</td>\n",
       "      <td>0.00</td>\n",
       "    </tr>\n",
       "    <tr>\n",
       "      <th>9</th>\n",
       "      <td>2010</td>\n",
       "      <td>12827.04</td>\n",
       "      <td>64495.21</td>\n",
       "      <td>53001.81</td>\n",
       "    </tr>\n",
       "    <tr>\n",
       "      <th>10</th>\n",
       "      <td>2011</td>\n",
       "      <td>3311.39</td>\n",
       "      <td>14129.31</td>\n",
       "      <td>9831.23</td>\n",
       "    </tr>\n",
       "    <tr>\n",
       "      <th>11</th>\n",
       "      <td>2012</td>\n",
       "      <td>4186.98</td>\n",
       "      <td>19907.05</td>\n",
       "      <td>11724.43</td>\n",
       "    </tr>\n",
       "    <tr>\n",
       "      <th>12</th>\n",
       "      <td>2013</td>\n",
       "      <td>15679.36</td>\n",
       "      <td>53430.24</td>\n",
       "      <td>44033.93</td>\n",
       "    </tr>\n",
       "    <tr>\n",
       "      <th>13</th>\n",
       "      <td>2014</td>\n",
       "      <td>26462.04</td>\n",
       "      <td>57485.24</td>\n",
       "      <td>47342.91</td>\n",
       "    </tr>\n",
       "    <tr>\n",
       "      <th>14</th>\n",
       "      <td>2015</td>\n",
       "      <td>46578.98</td>\n",
       "      <td>67452.34</td>\n",
       "      <td>54833.50</td>\n",
       "    </tr>\n",
       "    <tr>\n",
       "      <th>15</th>\n",
       "      <td>2016</td>\n",
       "      <td>48887.20</td>\n",
       "      <td>86223.12</td>\n",
       "      <td>60764.91</td>\n",
       "    </tr>\n",
       "    <tr>\n",
       "      <th>16</th>\n",
       "      <td>2017</td>\n",
       "      <td>40308.43</td>\n",
       "      <td>87839.62</td>\n",
       "      <td>57188.95</td>\n",
       "    </tr>\n",
       "    <tr>\n",
       "      <th>17</th>\n",
       "      <td>2018</td>\n",
       "      <td>79198.55</td>\n",
       "      <td>94581.90</td>\n",
       "      <td>58854.04</td>\n",
       "    </tr>\n",
       "    <tr>\n",
       "      <th>18</th>\n",
       "      <td>2019</td>\n",
       "      <td>65040.38</td>\n",
       "      <td>90893.65</td>\n",
       "      <td>57085.79</td>\n",
       "    </tr>\n",
       "    <tr>\n",
       "      <th>19</th>\n",
       "      <td>2020</td>\n",
       "      <td>2051.61</td>\n",
       "      <td>3823.49</td>\n",
       "      <td>2815.14</td>\n",
       "    </tr>\n",
       "    <tr>\n",
       "      <th>20</th>\n",
       "      <td>2021</td>\n",
       "      <td>373.01</td>\n",
       "      <td>987.41</td>\n",
       "      <td>249.03</td>\n",
       "    </tr>\n",
       "  </tbody>\n",
       "</table>\n",
       "</div>"
      ],
      "text/plain": [
       "    Measurement Year  PM2.5 (μg/m3)  PM10 (μg/m3)  NO2 (μg/m3)\n",
       "0               2000           0.00        487.50         0.00\n",
       "1               2001           0.00        458.20         0.00\n",
       "2               2002           0.00        350.20         0.00\n",
       "3               2003           0.00        372.80         0.00\n",
       "4               2004           0.00        271.60         0.00\n",
       "5               2006           0.00        280.86         0.00\n",
       "6               2007           0.00        491.20         0.00\n",
       "7               2008           0.00        266.20         0.00\n",
       "8               2009           0.00        281.40         0.00\n",
       "9               2010       12827.04      64495.21     53001.81\n",
       "10              2011        3311.39      14129.31      9831.23\n",
       "11              2012        4186.98      19907.05     11724.43\n",
       "12              2013       15679.36      53430.24     44033.93\n",
       "13              2014       26462.04      57485.24     47342.91\n",
       "14              2015       46578.98      67452.34     54833.50\n",
       "15              2016       48887.20      86223.12     60764.91\n",
       "16              2017       40308.43      87839.62     57188.95\n",
       "17              2018       79198.55      94581.90     58854.04\n",
       "18              2019       65040.38      90893.65     57085.79\n",
       "19              2020        2051.61       3823.49      2815.14\n",
       "20              2021         373.01        987.41       249.03"
      ]
     },
     "execution_count": 44,
     "metadata": {},
     "output_type": "execute_result"
    }
   ],
   "source": [
    "df4 = df1.groupby(['Measurement Year']).sum()[['PM2.5 (μg/m3)', 'PM10 (μg/m3)', 'NO2 (μg/m3)']].reset_index()\n",
    "df4"
   ]
  },
  {
   "cell_type": "code",
   "execution_count": 47,
   "id": "9020986b",
   "metadata": {},
   "outputs": [],
   "source": [
    "df4 = df4.melt(id_vars=[\"Measurement Year\"], \n",
    "        var_name=\"Measurement\", \n",
    "        value_name=\"Value\")"
   ]
  },
  {
   "cell_type": "code",
   "execution_count": 52,
   "id": "4a90c388",
   "metadata": {},
   "outputs": [
    {
     "data": {
      "application/vnd.plotly.v1+json": {
       "config": {
        "plotlyServerURL": "https://plot.ly"
       },
       "data": [
        {
         "hovertemplate": "Measurement=PM2.5 (μg/m3)<br>Measurement Year=%{x}<br>Value=%{y}<extra></extra>",
         "legendgroup": "PM2.5 (μg/m3)",
         "line": {
          "color": "#636efa",
          "dash": "solid"
         },
         "marker": {
          "symbol": "circle"
         },
         "mode": "lines",
         "name": "PM2.5 (μg/m3)",
         "orientation": "v",
         "showlegend": true,
         "type": "scatter",
         "x": [
          2000,
          2001,
          2002,
          2003,
          2004,
          2006,
          2007,
          2008,
          2009,
          2010,
          2011,
          2012,
          2013,
          2014,
          2015,
          2016,
          2017,
          2018,
          2019,
          2020,
          2021
         ],
         "xaxis": "x",
         "y": [
          0,
          0,
          0,
          0,
          0,
          0,
          0,
          0,
          0,
          12827.04,
          3311.39,
          4186.98,
          15679.36,
          26462.04,
          46578.979999999996,
          48887.2,
          40308.43,
          79198.55,
          65040.38,
          2051.61,
          373.01
         ],
         "yaxis": "y"
        },
        {
         "hovertemplate": "Measurement=PM10 (μg/m3)<br>Measurement Year=%{x}<br>Value=%{y}<extra></extra>",
         "legendgroup": "PM10 (μg/m3)",
         "line": {
          "color": "#EF553B",
          "dash": "solid"
         },
         "marker": {
          "symbol": "circle"
         },
         "mode": "lines",
         "name": "PM10 (μg/m3)",
         "orientation": "v",
         "showlegend": true,
         "type": "scatter",
         "x": [
          2000,
          2001,
          2002,
          2003,
          2004,
          2006,
          2007,
          2008,
          2009,
          2010,
          2011,
          2012,
          2013,
          2014,
          2015,
          2016,
          2017,
          2018,
          2019,
          2020,
          2021
         ],
         "xaxis": "x",
         "y": [
          487.5,
          458.2,
          350.20000000000005,
          372.79999999999995,
          271.6,
          280.86,
          491.2,
          266.2,
          281.4,
          64495.21,
          14129.31,
          19907.05,
          53430.24,
          57485.24,
          67452.34,
          86223.12,
          87839.62,
          94581.9,
          90893.65,
          3823.4900000000002,
          987.41
         ],
         "yaxis": "y"
        },
        {
         "hovertemplate": "Measurement=NO2 (μg/m3)<br>Measurement Year=%{x}<br>Value=%{y}<extra></extra>",
         "legendgroup": "NO2 (μg/m3)",
         "line": {
          "color": "#00cc96",
          "dash": "solid"
         },
         "marker": {
          "symbol": "circle"
         },
         "mode": "lines",
         "name": "NO2 (μg/m3)",
         "orientation": "v",
         "showlegend": true,
         "type": "scatter",
         "x": [
          2000,
          2001,
          2002,
          2003,
          2004,
          2006,
          2007,
          2008,
          2009,
          2010,
          2011,
          2012,
          2013,
          2014,
          2015,
          2016,
          2017,
          2018,
          2019,
          2020,
          2021
         ],
         "xaxis": "x",
         "y": [
          0,
          0,
          0,
          0,
          0,
          0,
          0,
          0,
          0,
          53001.81,
          9831.23,
          11724.43,
          44033.93,
          47342.909999999996,
          54833.5,
          60764.91,
          57188.95,
          58854.04,
          57085.79,
          2815.14,
          249.03
         ],
         "yaxis": "y"
        }
       ],
       "layout": {
        "legend": {
         "title": {
          "text": "Measurement"
         },
         "tracegroupgap": 0
        },
        "template": {
         "data": {
          "bar": [
           {
            "error_x": {
             "color": "#2a3f5f"
            },
            "error_y": {
             "color": "#2a3f5f"
            },
            "marker": {
             "line": {
              "color": "#E5ECF6",
              "width": 0.5
             },
             "pattern": {
              "fillmode": "overlay",
              "size": 10,
              "solidity": 0.2
             }
            },
            "type": "bar"
           }
          ],
          "barpolar": [
           {
            "marker": {
             "line": {
              "color": "#E5ECF6",
              "width": 0.5
             },
             "pattern": {
              "fillmode": "overlay",
              "size": 10,
              "solidity": 0.2
             }
            },
            "type": "barpolar"
           }
          ],
          "carpet": [
           {
            "aaxis": {
             "endlinecolor": "#2a3f5f",
             "gridcolor": "white",
             "linecolor": "white",
             "minorgridcolor": "white",
             "startlinecolor": "#2a3f5f"
            },
            "baxis": {
             "endlinecolor": "#2a3f5f",
             "gridcolor": "white",
             "linecolor": "white",
             "minorgridcolor": "white",
             "startlinecolor": "#2a3f5f"
            },
            "type": "carpet"
           }
          ],
          "choropleth": [
           {
            "colorbar": {
             "outlinewidth": 0,
             "ticks": ""
            },
            "type": "choropleth"
           }
          ],
          "contour": [
           {
            "colorbar": {
             "outlinewidth": 0,
             "ticks": ""
            },
            "colorscale": [
             [
              0,
              "#0d0887"
             ],
             [
              0.1111111111111111,
              "#46039f"
             ],
             [
              0.2222222222222222,
              "#7201a8"
             ],
             [
              0.3333333333333333,
              "#9c179e"
             ],
             [
              0.4444444444444444,
              "#bd3786"
             ],
             [
              0.5555555555555556,
              "#d8576b"
             ],
             [
              0.6666666666666666,
              "#ed7953"
             ],
             [
              0.7777777777777778,
              "#fb9f3a"
             ],
             [
              0.8888888888888888,
              "#fdca26"
             ],
             [
              1,
              "#f0f921"
             ]
            ],
            "type": "contour"
           }
          ],
          "contourcarpet": [
           {
            "colorbar": {
             "outlinewidth": 0,
             "ticks": ""
            },
            "type": "contourcarpet"
           }
          ],
          "heatmap": [
           {
            "colorbar": {
             "outlinewidth": 0,
             "ticks": ""
            },
            "colorscale": [
             [
              0,
              "#0d0887"
             ],
             [
              0.1111111111111111,
              "#46039f"
             ],
             [
              0.2222222222222222,
              "#7201a8"
             ],
             [
              0.3333333333333333,
              "#9c179e"
             ],
             [
              0.4444444444444444,
              "#bd3786"
             ],
             [
              0.5555555555555556,
              "#d8576b"
             ],
             [
              0.6666666666666666,
              "#ed7953"
             ],
             [
              0.7777777777777778,
              "#fb9f3a"
             ],
             [
              0.8888888888888888,
              "#fdca26"
             ],
             [
              1,
              "#f0f921"
             ]
            ],
            "type": "heatmap"
           }
          ],
          "heatmapgl": [
           {
            "colorbar": {
             "outlinewidth": 0,
             "ticks": ""
            },
            "colorscale": [
             [
              0,
              "#0d0887"
             ],
             [
              0.1111111111111111,
              "#46039f"
             ],
             [
              0.2222222222222222,
              "#7201a8"
             ],
             [
              0.3333333333333333,
              "#9c179e"
             ],
             [
              0.4444444444444444,
              "#bd3786"
             ],
             [
              0.5555555555555556,
              "#d8576b"
             ],
             [
              0.6666666666666666,
              "#ed7953"
             ],
             [
              0.7777777777777778,
              "#fb9f3a"
             ],
             [
              0.8888888888888888,
              "#fdca26"
             ],
             [
              1,
              "#f0f921"
             ]
            ],
            "type": "heatmapgl"
           }
          ],
          "histogram": [
           {
            "marker": {
             "pattern": {
              "fillmode": "overlay",
              "size": 10,
              "solidity": 0.2
             }
            },
            "type": "histogram"
           }
          ],
          "histogram2d": [
           {
            "colorbar": {
             "outlinewidth": 0,
             "ticks": ""
            },
            "colorscale": [
             [
              0,
              "#0d0887"
             ],
             [
              0.1111111111111111,
              "#46039f"
             ],
             [
              0.2222222222222222,
              "#7201a8"
             ],
             [
              0.3333333333333333,
              "#9c179e"
             ],
             [
              0.4444444444444444,
              "#bd3786"
             ],
             [
              0.5555555555555556,
              "#d8576b"
             ],
             [
              0.6666666666666666,
              "#ed7953"
             ],
             [
              0.7777777777777778,
              "#fb9f3a"
             ],
             [
              0.8888888888888888,
              "#fdca26"
             ],
             [
              1,
              "#f0f921"
             ]
            ],
            "type": "histogram2d"
           }
          ],
          "histogram2dcontour": [
           {
            "colorbar": {
             "outlinewidth": 0,
             "ticks": ""
            },
            "colorscale": [
             [
              0,
              "#0d0887"
             ],
             [
              0.1111111111111111,
              "#46039f"
             ],
             [
              0.2222222222222222,
              "#7201a8"
             ],
             [
              0.3333333333333333,
              "#9c179e"
             ],
             [
              0.4444444444444444,
              "#bd3786"
             ],
             [
              0.5555555555555556,
              "#d8576b"
             ],
             [
              0.6666666666666666,
              "#ed7953"
             ],
             [
              0.7777777777777778,
              "#fb9f3a"
             ],
             [
              0.8888888888888888,
              "#fdca26"
             ],
             [
              1,
              "#f0f921"
             ]
            ],
            "type": "histogram2dcontour"
           }
          ],
          "mesh3d": [
           {
            "colorbar": {
             "outlinewidth": 0,
             "ticks": ""
            },
            "type": "mesh3d"
           }
          ],
          "parcoords": [
           {
            "line": {
             "colorbar": {
              "outlinewidth": 0,
              "ticks": ""
             }
            },
            "type": "parcoords"
           }
          ],
          "pie": [
           {
            "automargin": true,
            "type": "pie"
           }
          ],
          "scatter": [
           {
            "fillpattern": {
             "fillmode": "overlay",
             "size": 10,
             "solidity": 0.2
            },
            "type": "scatter"
           }
          ],
          "scatter3d": [
           {
            "line": {
             "colorbar": {
              "outlinewidth": 0,
              "ticks": ""
             }
            },
            "marker": {
             "colorbar": {
              "outlinewidth": 0,
              "ticks": ""
             }
            },
            "type": "scatter3d"
           }
          ],
          "scattercarpet": [
           {
            "marker": {
             "colorbar": {
              "outlinewidth": 0,
              "ticks": ""
             }
            },
            "type": "scattercarpet"
           }
          ],
          "scattergeo": [
           {
            "marker": {
             "colorbar": {
              "outlinewidth": 0,
              "ticks": ""
             }
            },
            "type": "scattergeo"
           }
          ],
          "scattergl": [
           {
            "marker": {
             "colorbar": {
              "outlinewidth": 0,
              "ticks": ""
             }
            },
            "type": "scattergl"
           }
          ],
          "scattermapbox": [
           {
            "marker": {
             "colorbar": {
              "outlinewidth": 0,
              "ticks": ""
             }
            },
            "type": "scattermapbox"
           }
          ],
          "scatterpolar": [
           {
            "marker": {
             "colorbar": {
              "outlinewidth": 0,
              "ticks": ""
             }
            },
            "type": "scatterpolar"
           }
          ],
          "scatterpolargl": [
           {
            "marker": {
             "colorbar": {
              "outlinewidth": 0,
              "ticks": ""
             }
            },
            "type": "scatterpolargl"
           }
          ],
          "scatterternary": [
           {
            "marker": {
             "colorbar": {
              "outlinewidth": 0,
              "ticks": ""
             }
            },
            "type": "scatterternary"
           }
          ],
          "surface": [
           {
            "colorbar": {
             "outlinewidth": 0,
             "ticks": ""
            },
            "colorscale": [
             [
              0,
              "#0d0887"
             ],
             [
              0.1111111111111111,
              "#46039f"
             ],
             [
              0.2222222222222222,
              "#7201a8"
             ],
             [
              0.3333333333333333,
              "#9c179e"
             ],
             [
              0.4444444444444444,
              "#bd3786"
             ],
             [
              0.5555555555555556,
              "#d8576b"
             ],
             [
              0.6666666666666666,
              "#ed7953"
             ],
             [
              0.7777777777777778,
              "#fb9f3a"
             ],
             [
              0.8888888888888888,
              "#fdca26"
             ],
             [
              1,
              "#f0f921"
             ]
            ],
            "type": "surface"
           }
          ],
          "table": [
           {
            "cells": {
             "fill": {
              "color": "#EBF0F8"
             },
             "line": {
              "color": "white"
             }
            },
            "header": {
             "fill": {
              "color": "#C8D4E3"
             },
             "line": {
              "color": "white"
             }
            },
            "type": "table"
           }
          ]
         },
         "layout": {
          "annotationdefaults": {
           "arrowcolor": "#2a3f5f",
           "arrowhead": 0,
           "arrowwidth": 1
          },
          "autotypenumbers": "strict",
          "coloraxis": {
           "colorbar": {
            "outlinewidth": 0,
            "ticks": ""
           }
          },
          "colorscale": {
           "diverging": [
            [
             0,
             "#8e0152"
            ],
            [
             0.1,
             "#c51b7d"
            ],
            [
             0.2,
             "#de77ae"
            ],
            [
             0.3,
             "#f1b6da"
            ],
            [
             0.4,
             "#fde0ef"
            ],
            [
             0.5,
             "#f7f7f7"
            ],
            [
             0.6,
             "#e6f5d0"
            ],
            [
             0.7,
             "#b8e186"
            ],
            [
             0.8,
             "#7fbc41"
            ],
            [
             0.9,
             "#4d9221"
            ],
            [
             1,
             "#276419"
            ]
           ],
           "sequential": [
            [
             0,
             "#0d0887"
            ],
            [
             0.1111111111111111,
             "#46039f"
            ],
            [
             0.2222222222222222,
             "#7201a8"
            ],
            [
             0.3333333333333333,
             "#9c179e"
            ],
            [
             0.4444444444444444,
             "#bd3786"
            ],
            [
             0.5555555555555556,
             "#d8576b"
            ],
            [
             0.6666666666666666,
             "#ed7953"
            ],
            [
             0.7777777777777778,
             "#fb9f3a"
            ],
            [
             0.8888888888888888,
             "#fdca26"
            ],
            [
             1,
             "#f0f921"
            ]
           ],
           "sequentialminus": [
            [
             0,
             "#0d0887"
            ],
            [
             0.1111111111111111,
             "#46039f"
            ],
            [
             0.2222222222222222,
             "#7201a8"
            ],
            [
             0.3333333333333333,
             "#9c179e"
            ],
            [
             0.4444444444444444,
             "#bd3786"
            ],
            [
             0.5555555555555556,
             "#d8576b"
            ],
            [
             0.6666666666666666,
             "#ed7953"
            ],
            [
             0.7777777777777778,
             "#fb9f3a"
            ],
            [
             0.8888888888888888,
             "#fdca26"
            ],
            [
             1,
             "#f0f921"
            ]
           ]
          },
          "colorway": [
           "#636efa",
           "#EF553B",
           "#00cc96",
           "#ab63fa",
           "#FFA15A",
           "#19d3f3",
           "#FF6692",
           "#B6E880",
           "#FF97FF",
           "#FECB52"
          ],
          "font": {
           "color": "#2a3f5f"
          },
          "geo": {
           "bgcolor": "white",
           "lakecolor": "white",
           "landcolor": "#E5ECF6",
           "showlakes": true,
           "showland": true,
           "subunitcolor": "white"
          },
          "hoverlabel": {
           "align": "left"
          },
          "hovermode": "closest",
          "mapbox": {
           "style": "light"
          },
          "paper_bgcolor": "white",
          "plot_bgcolor": "#E5ECF6",
          "polar": {
           "angularaxis": {
            "gridcolor": "white",
            "linecolor": "white",
            "ticks": ""
           },
           "bgcolor": "#E5ECF6",
           "radialaxis": {
            "gridcolor": "white",
            "linecolor": "white",
            "ticks": ""
           }
          },
          "scene": {
           "xaxis": {
            "backgroundcolor": "#E5ECF6",
            "gridcolor": "white",
            "gridwidth": 2,
            "linecolor": "white",
            "showbackground": true,
            "ticks": "",
            "zerolinecolor": "white"
           },
           "yaxis": {
            "backgroundcolor": "#E5ECF6",
            "gridcolor": "white",
            "gridwidth": 2,
            "linecolor": "white",
            "showbackground": true,
            "ticks": "",
            "zerolinecolor": "white"
           },
           "zaxis": {
            "backgroundcolor": "#E5ECF6",
            "gridcolor": "white",
            "gridwidth": 2,
            "linecolor": "white",
            "showbackground": true,
            "ticks": "",
            "zerolinecolor": "white"
           }
          },
          "shapedefaults": {
           "line": {
            "color": "#2a3f5f"
           }
          },
          "ternary": {
           "aaxis": {
            "gridcolor": "white",
            "linecolor": "white",
            "ticks": ""
           },
           "baxis": {
            "gridcolor": "white",
            "linecolor": "white",
            "ticks": ""
           },
           "bgcolor": "#E5ECF6",
           "caxis": {
            "gridcolor": "white",
            "linecolor": "white",
            "ticks": ""
           }
          },
          "title": {
           "x": 0.05
          },
          "xaxis": {
           "automargin": true,
           "gridcolor": "white",
           "linecolor": "white",
           "ticks": "",
           "title": {
            "standoff": 15
           },
           "zerolinecolor": "white",
           "zerolinewidth": 2
          },
          "yaxis": {
           "automargin": true,
           "gridcolor": "white",
           "linecolor": "white",
           "ticks": "",
           "title": {
            "standoff": 15
           },
           "zerolinecolor": "white",
           "zerolinewidth": 2
          }
         }
        },
        "title": {
         "text": "Air pollution from 2000 to 2021"
        },
        "xaxis": {
         "anchor": "y",
         "domain": [
          0,
          1
         ],
         "title": {
          "text": "Measurement Year"
         }
        },
        "yaxis": {
         "anchor": "x",
         "domain": [
          0,
          1
         ],
         "title": {
          "text": "Value"
         }
        }
       }
      },
      "text/html": [
       "<div>                            <div id=\"778c6318-5d64-41dd-8bcc-36b27185bf67\" class=\"plotly-graph-div\" style=\"height:525px; width:100%;\"></div>            <script type=\"text/javascript\">                require([\"plotly\"], function(Plotly) {                    window.PLOTLYENV=window.PLOTLYENV || {};                                    if (document.getElementById(\"778c6318-5d64-41dd-8bcc-36b27185bf67\")) {                    Plotly.newPlot(                        \"778c6318-5d64-41dd-8bcc-36b27185bf67\",                        [{\"hovertemplate\":\"Measurement=PM2.5 (\\u03bcg/m3)<br>Measurement Year=%{x}<br>Value=%{y}<extra></extra>\",\"legendgroup\":\"PM2.5 (\\u03bcg/m3)\",\"line\":{\"color\":\"#636efa\",\"dash\":\"solid\"},\"marker\":{\"symbol\":\"circle\"},\"mode\":\"lines\",\"name\":\"PM2.5 (\\u03bcg/m3)\",\"orientation\":\"v\",\"showlegend\":true,\"x\":[2000,2001,2002,2003,2004,2006,2007,2008,2009,2010,2011,2012,2013,2014,2015,2016,2017,2018,2019,2020,2021],\"xaxis\":\"x\",\"y\":[0.0,0.0,0.0,0.0,0.0,0.0,0.0,0.0,0.0,12827.04,3311.39,4186.98,15679.36,26462.04,46578.979999999996,48887.2,40308.43,79198.55,65040.38,2051.61,373.01],\"yaxis\":\"y\",\"type\":\"scatter\"},{\"hovertemplate\":\"Measurement=PM10 (\\u03bcg/m3)<br>Measurement Year=%{x}<br>Value=%{y}<extra></extra>\",\"legendgroup\":\"PM10 (\\u03bcg/m3)\",\"line\":{\"color\":\"#EF553B\",\"dash\":\"solid\"},\"marker\":{\"symbol\":\"circle\"},\"mode\":\"lines\",\"name\":\"PM10 (\\u03bcg/m3)\",\"orientation\":\"v\",\"showlegend\":true,\"x\":[2000,2001,2002,2003,2004,2006,2007,2008,2009,2010,2011,2012,2013,2014,2015,2016,2017,2018,2019,2020,2021],\"xaxis\":\"x\",\"y\":[487.5,458.2,350.20000000000005,372.79999999999995,271.6,280.86,491.2,266.2,281.4,64495.21,14129.31,19907.05,53430.24,57485.24,67452.34,86223.12,87839.62,94581.9,90893.65,3823.4900000000002,987.41],\"yaxis\":\"y\",\"type\":\"scatter\"},{\"hovertemplate\":\"Measurement=NO2 (\\u03bcg/m3)<br>Measurement Year=%{x}<br>Value=%{y}<extra></extra>\",\"legendgroup\":\"NO2 (\\u03bcg/m3)\",\"line\":{\"color\":\"#00cc96\",\"dash\":\"solid\"},\"marker\":{\"symbol\":\"circle\"},\"mode\":\"lines\",\"name\":\"NO2 (\\u03bcg/m3)\",\"orientation\":\"v\",\"showlegend\":true,\"x\":[2000,2001,2002,2003,2004,2006,2007,2008,2009,2010,2011,2012,2013,2014,2015,2016,2017,2018,2019,2020,2021],\"xaxis\":\"x\",\"y\":[0.0,0.0,0.0,0.0,0.0,0.0,0.0,0.0,0.0,53001.81,9831.23,11724.43,44033.93,47342.909999999996,54833.5,60764.91,57188.95,58854.04,57085.79,2815.14,249.03],\"yaxis\":\"y\",\"type\":\"scatter\"}],                        {\"template\":{\"data\":{\"histogram2dcontour\":[{\"type\":\"histogram2dcontour\",\"colorbar\":{\"outlinewidth\":0,\"ticks\":\"\"},\"colorscale\":[[0.0,\"#0d0887\"],[0.1111111111111111,\"#46039f\"],[0.2222222222222222,\"#7201a8\"],[0.3333333333333333,\"#9c179e\"],[0.4444444444444444,\"#bd3786\"],[0.5555555555555556,\"#d8576b\"],[0.6666666666666666,\"#ed7953\"],[0.7777777777777778,\"#fb9f3a\"],[0.8888888888888888,\"#fdca26\"],[1.0,\"#f0f921\"]]}],\"choropleth\":[{\"type\":\"choropleth\",\"colorbar\":{\"outlinewidth\":0,\"ticks\":\"\"}}],\"histogram2d\":[{\"type\":\"histogram2d\",\"colorbar\":{\"outlinewidth\":0,\"ticks\":\"\"},\"colorscale\":[[0.0,\"#0d0887\"],[0.1111111111111111,\"#46039f\"],[0.2222222222222222,\"#7201a8\"],[0.3333333333333333,\"#9c179e\"],[0.4444444444444444,\"#bd3786\"],[0.5555555555555556,\"#d8576b\"],[0.6666666666666666,\"#ed7953\"],[0.7777777777777778,\"#fb9f3a\"],[0.8888888888888888,\"#fdca26\"],[1.0,\"#f0f921\"]]}],\"heatmap\":[{\"type\":\"heatmap\",\"colorbar\":{\"outlinewidth\":0,\"ticks\":\"\"},\"colorscale\":[[0.0,\"#0d0887\"],[0.1111111111111111,\"#46039f\"],[0.2222222222222222,\"#7201a8\"],[0.3333333333333333,\"#9c179e\"],[0.4444444444444444,\"#bd3786\"],[0.5555555555555556,\"#d8576b\"],[0.6666666666666666,\"#ed7953\"],[0.7777777777777778,\"#fb9f3a\"],[0.8888888888888888,\"#fdca26\"],[1.0,\"#f0f921\"]]}],\"heatmapgl\":[{\"type\":\"heatmapgl\",\"colorbar\":{\"outlinewidth\":0,\"ticks\":\"\"},\"colorscale\":[[0.0,\"#0d0887\"],[0.1111111111111111,\"#46039f\"],[0.2222222222222222,\"#7201a8\"],[0.3333333333333333,\"#9c179e\"],[0.4444444444444444,\"#bd3786\"],[0.5555555555555556,\"#d8576b\"],[0.6666666666666666,\"#ed7953\"],[0.7777777777777778,\"#fb9f3a\"],[0.8888888888888888,\"#fdca26\"],[1.0,\"#f0f921\"]]}],\"contourcarpet\":[{\"type\":\"contourcarpet\",\"colorbar\":{\"outlinewidth\":0,\"ticks\":\"\"}}],\"contour\":[{\"type\":\"contour\",\"colorbar\":{\"outlinewidth\":0,\"ticks\":\"\"},\"colorscale\":[[0.0,\"#0d0887\"],[0.1111111111111111,\"#46039f\"],[0.2222222222222222,\"#7201a8\"],[0.3333333333333333,\"#9c179e\"],[0.4444444444444444,\"#bd3786\"],[0.5555555555555556,\"#d8576b\"],[0.6666666666666666,\"#ed7953\"],[0.7777777777777778,\"#fb9f3a\"],[0.8888888888888888,\"#fdca26\"],[1.0,\"#f0f921\"]]}],\"surface\":[{\"type\":\"surface\",\"colorbar\":{\"outlinewidth\":0,\"ticks\":\"\"},\"colorscale\":[[0.0,\"#0d0887\"],[0.1111111111111111,\"#46039f\"],[0.2222222222222222,\"#7201a8\"],[0.3333333333333333,\"#9c179e\"],[0.4444444444444444,\"#bd3786\"],[0.5555555555555556,\"#d8576b\"],[0.6666666666666666,\"#ed7953\"],[0.7777777777777778,\"#fb9f3a\"],[0.8888888888888888,\"#fdca26\"],[1.0,\"#f0f921\"]]}],\"mesh3d\":[{\"type\":\"mesh3d\",\"colorbar\":{\"outlinewidth\":0,\"ticks\":\"\"}}],\"scatter\":[{\"fillpattern\":{\"fillmode\":\"overlay\",\"size\":10,\"solidity\":0.2},\"type\":\"scatter\"}],\"parcoords\":[{\"type\":\"parcoords\",\"line\":{\"colorbar\":{\"outlinewidth\":0,\"ticks\":\"\"}}}],\"scatterpolargl\":[{\"type\":\"scatterpolargl\",\"marker\":{\"colorbar\":{\"outlinewidth\":0,\"ticks\":\"\"}}}],\"bar\":[{\"error_x\":{\"color\":\"#2a3f5f\"},\"error_y\":{\"color\":\"#2a3f5f\"},\"marker\":{\"line\":{\"color\":\"#E5ECF6\",\"width\":0.5},\"pattern\":{\"fillmode\":\"overlay\",\"size\":10,\"solidity\":0.2}},\"type\":\"bar\"}],\"scattergeo\":[{\"type\":\"scattergeo\",\"marker\":{\"colorbar\":{\"outlinewidth\":0,\"ticks\":\"\"}}}],\"scatterpolar\":[{\"type\":\"scatterpolar\",\"marker\":{\"colorbar\":{\"outlinewidth\":0,\"ticks\":\"\"}}}],\"histogram\":[{\"marker\":{\"pattern\":{\"fillmode\":\"overlay\",\"size\":10,\"solidity\":0.2}},\"type\":\"histogram\"}],\"scattergl\":[{\"type\":\"scattergl\",\"marker\":{\"colorbar\":{\"outlinewidth\":0,\"ticks\":\"\"}}}],\"scatter3d\":[{\"type\":\"scatter3d\",\"line\":{\"colorbar\":{\"outlinewidth\":0,\"ticks\":\"\"}},\"marker\":{\"colorbar\":{\"outlinewidth\":0,\"ticks\":\"\"}}}],\"scattermapbox\":[{\"type\":\"scattermapbox\",\"marker\":{\"colorbar\":{\"outlinewidth\":0,\"ticks\":\"\"}}}],\"scatterternary\":[{\"type\":\"scatterternary\",\"marker\":{\"colorbar\":{\"outlinewidth\":0,\"ticks\":\"\"}}}],\"scattercarpet\":[{\"type\":\"scattercarpet\",\"marker\":{\"colorbar\":{\"outlinewidth\":0,\"ticks\":\"\"}}}],\"carpet\":[{\"aaxis\":{\"endlinecolor\":\"#2a3f5f\",\"gridcolor\":\"white\",\"linecolor\":\"white\",\"minorgridcolor\":\"white\",\"startlinecolor\":\"#2a3f5f\"},\"baxis\":{\"endlinecolor\":\"#2a3f5f\",\"gridcolor\":\"white\",\"linecolor\":\"white\",\"minorgridcolor\":\"white\",\"startlinecolor\":\"#2a3f5f\"},\"type\":\"carpet\"}],\"table\":[{\"cells\":{\"fill\":{\"color\":\"#EBF0F8\"},\"line\":{\"color\":\"white\"}},\"header\":{\"fill\":{\"color\":\"#C8D4E3\"},\"line\":{\"color\":\"white\"}},\"type\":\"table\"}],\"barpolar\":[{\"marker\":{\"line\":{\"color\":\"#E5ECF6\",\"width\":0.5},\"pattern\":{\"fillmode\":\"overlay\",\"size\":10,\"solidity\":0.2}},\"type\":\"barpolar\"}],\"pie\":[{\"automargin\":true,\"type\":\"pie\"}]},\"layout\":{\"autotypenumbers\":\"strict\",\"colorway\":[\"#636efa\",\"#EF553B\",\"#00cc96\",\"#ab63fa\",\"#FFA15A\",\"#19d3f3\",\"#FF6692\",\"#B6E880\",\"#FF97FF\",\"#FECB52\"],\"font\":{\"color\":\"#2a3f5f\"},\"hovermode\":\"closest\",\"hoverlabel\":{\"align\":\"left\"},\"paper_bgcolor\":\"white\",\"plot_bgcolor\":\"#E5ECF6\",\"polar\":{\"bgcolor\":\"#E5ECF6\",\"angularaxis\":{\"gridcolor\":\"white\",\"linecolor\":\"white\",\"ticks\":\"\"},\"radialaxis\":{\"gridcolor\":\"white\",\"linecolor\":\"white\",\"ticks\":\"\"}},\"ternary\":{\"bgcolor\":\"#E5ECF6\",\"aaxis\":{\"gridcolor\":\"white\",\"linecolor\":\"white\",\"ticks\":\"\"},\"baxis\":{\"gridcolor\":\"white\",\"linecolor\":\"white\",\"ticks\":\"\"},\"caxis\":{\"gridcolor\":\"white\",\"linecolor\":\"white\",\"ticks\":\"\"}},\"coloraxis\":{\"colorbar\":{\"outlinewidth\":0,\"ticks\":\"\"}},\"colorscale\":{\"sequential\":[[0.0,\"#0d0887\"],[0.1111111111111111,\"#46039f\"],[0.2222222222222222,\"#7201a8\"],[0.3333333333333333,\"#9c179e\"],[0.4444444444444444,\"#bd3786\"],[0.5555555555555556,\"#d8576b\"],[0.6666666666666666,\"#ed7953\"],[0.7777777777777778,\"#fb9f3a\"],[0.8888888888888888,\"#fdca26\"],[1.0,\"#f0f921\"]],\"sequentialminus\":[[0.0,\"#0d0887\"],[0.1111111111111111,\"#46039f\"],[0.2222222222222222,\"#7201a8\"],[0.3333333333333333,\"#9c179e\"],[0.4444444444444444,\"#bd3786\"],[0.5555555555555556,\"#d8576b\"],[0.6666666666666666,\"#ed7953\"],[0.7777777777777778,\"#fb9f3a\"],[0.8888888888888888,\"#fdca26\"],[1.0,\"#f0f921\"]],\"diverging\":[[0,\"#8e0152\"],[0.1,\"#c51b7d\"],[0.2,\"#de77ae\"],[0.3,\"#f1b6da\"],[0.4,\"#fde0ef\"],[0.5,\"#f7f7f7\"],[0.6,\"#e6f5d0\"],[0.7,\"#b8e186\"],[0.8,\"#7fbc41\"],[0.9,\"#4d9221\"],[1,\"#276419\"]]},\"xaxis\":{\"gridcolor\":\"white\",\"linecolor\":\"white\",\"ticks\":\"\",\"title\":{\"standoff\":15},\"zerolinecolor\":\"white\",\"automargin\":true,\"zerolinewidth\":2},\"yaxis\":{\"gridcolor\":\"white\",\"linecolor\":\"white\",\"ticks\":\"\",\"title\":{\"standoff\":15},\"zerolinecolor\":\"white\",\"automargin\":true,\"zerolinewidth\":2},\"scene\":{\"xaxis\":{\"backgroundcolor\":\"#E5ECF6\",\"gridcolor\":\"white\",\"linecolor\":\"white\",\"showbackground\":true,\"ticks\":\"\",\"zerolinecolor\":\"white\",\"gridwidth\":2},\"yaxis\":{\"backgroundcolor\":\"#E5ECF6\",\"gridcolor\":\"white\",\"linecolor\":\"white\",\"showbackground\":true,\"ticks\":\"\",\"zerolinecolor\":\"white\",\"gridwidth\":2},\"zaxis\":{\"backgroundcolor\":\"#E5ECF6\",\"gridcolor\":\"white\",\"linecolor\":\"white\",\"showbackground\":true,\"ticks\":\"\",\"zerolinecolor\":\"white\",\"gridwidth\":2}},\"shapedefaults\":{\"line\":{\"color\":\"#2a3f5f\"}},\"annotationdefaults\":{\"arrowcolor\":\"#2a3f5f\",\"arrowhead\":0,\"arrowwidth\":1},\"geo\":{\"bgcolor\":\"white\",\"landcolor\":\"#E5ECF6\",\"subunitcolor\":\"white\",\"showland\":true,\"showlakes\":true,\"lakecolor\":\"white\"},\"title\":{\"x\":0.05},\"mapbox\":{\"style\":\"light\"}}},\"xaxis\":{\"anchor\":\"y\",\"domain\":[0.0,1.0],\"title\":{\"text\":\"Measurement Year\"}},\"yaxis\":{\"anchor\":\"x\",\"domain\":[0.0,1.0],\"title\":{\"text\":\"Value\"}},\"legend\":{\"title\":{\"text\":\"Measurement\"},\"tracegroupgap\":0},\"title\":{\"text\":\"Air pollution from 2000 to 2021\"}},                        {\"responsive\": true}                    ).then(function(){\n",
       "                            \n",
       "var gd = document.getElementById('778c6318-5d64-41dd-8bcc-36b27185bf67');\n",
       "var x = new MutationObserver(function (mutations, observer) {{\n",
       "        var display = window.getComputedStyle(gd).display;\n",
       "        if (!display || display === 'none') {{\n",
       "            console.log([gd, 'removed!']);\n",
       "            Plotly.purge(gd);\n",
       "            observer.disconnect();\n",
       "        }}\n",
       "}});\n",
       "\n",
       "// Listen for the removal of the full notebook cells\n",
       "var notebookContainer = gd.closest('#notebook-container');\n",
       "if (notebookContainer) {{\n",
       "    x.observe(notebookContainer, {childList: true});\n",
       "}}\n",
       "\n",
       "// Listen for the clearing of the current output cell\n",
       "var outputEl = gd.closest('.output');\n",
       "if (outputEl) {{\n",
       "    x.observe(outputEl, {childList: true});\n",
       "}}\n",
       "\n",
       "                        })                };                });            </script>        </div>"
      ]
     },
     "metadata": {},
     "output_type": "display_data"
    }
   ],
   "source": [
    "fig = px.line(df4, x=\"Measurement Year\", y=\"Value\",color = 'Measurement', title='Air pollution from 2000 to 2021')\n",
    "fig.write_html('plot2.html')\n",
    "fig.show()"
   ]
  },
  {
   "cell_type": "code",
   "execution_count": 56,
   "id": "1051533a",
   "metadata": {},
   "outputs": [
    {
     "data": {
      "text/plain": [
       "array(['Eastern Mediterranean Region', 'European Region',\n",
       "       'Region of the Americas', 'Western Pacific Region',\n",
       "       'South East Asia Region', 'African Region'], dtype=object)"
      ]
     },
     "execution_count": 56,
     "metadata": {},
     "output_type": "execute_result"
    }
   ],
   "source": [
    "df['WHO Region'].unique()"
   ]
  },
  {
   "cell_type": "code",
   "execution_count": 81,
   "id": "c97a2572",
   "metadata": {},
   "outputs": [],
   "source": [
    "df5 = df.groupby(['WHO Region']).sum()[['PM2.5 (μg/m3)', 'PM10 (μg/m3)', 'NO2 (μg/m3)']].reset_index()"
   ]
  },
  {
   "cell_type": "code",
   "execution_count": 82,
   "id": "8a3ad274",
   "metadata": {},
   "outputs": [
    {
     "data": {
      "text/html": [
       "<div>\n",
       "<style scoped>\n",
       "    .dataframe tbody tr th:only-of-type {\n",
       "        vertical-align: middle;\n",
       "    }\n",
       "\n",
       "    .dataframe tbody tr th {\n",
       "        vertical-align: top;\n",
       "    }\n",
       "\n",
       "    .dataframe thead th {\n",
       "        text-align: right;\n",
       "    }\n",
       "</style>\n",
       "<table border=\"1\" class=\"dataframe\">\n",
       "  <thead>\n",
       "    <tr style=\"text-align: right;\">\n",
       "      <th></th>\n",
       "      <th>WHO Region</th>\n",
       "      <th>PM2.5 (μg/m3)</th>\n",
       "      <th>PM10 (μg/m3)</th>\n",
       "      <th>NO2 (μg/m3)</th>\n",
       "    </tr>\n",
       "  </thead>\n",
       "  <tbody>\n",
       "    <tr>\n",
       "      <th>0</th>\n",
       "      <td>African Region</td>\n",
       "      <td>3407.14</td>\n",
       "      <td>8305.06</td>\n",
       "      <td>2871.87</td>\n",
       "    </tr>\n",
       "    <tr>\n",
       "      <th>1</th>\n",
       "      <td>Eastern Mediterranean Region</td>\n",
       "      <td>8411.98</td>\n",
       "      <td>34939.57</td>\n",
       "      <td>6811.55</td>\n",
       "    </tr>\n",
       "    <tr>\n",
       "      <th>2</th>\n",
       "      <td>European Region</td>\n",
       "      <td>106290.65</td>\n",
       "      <td>374625.06</td>\n",
       "      <td>345754.14</td>\n",
       "    </tr>\n",
       "    <tr>\n",
       "      <th>3</th>\n",
       "      <td>Region of the Americas</td>\n",
       "      <td>24145.55</td>\n",
       "      <td>69515.04</td>\n",
       "      <td>33753.40</td>\n",
       "    </tr>\n",
       "    <tr>\n",
       "      <th>4</th>\n",
       "      <td>South East Asia Region</td>\n",
       "      <td>23691.19</td>\n",
       "      <td>134275.12</td>\n",
       "      <td>48840.97</td>\n",
       "    </tr>\n",
       "    <tr>\n",
       "      <th>5</th>\n",
       "      <td>Western Pacific Region</td>\n",
       "      <td>178958.46</td>\n",
       "      <td>22848.69</td>\n",
       "      <td>19693.74</td>\n",
       "    </tr>\n",
       "  </tbody>\n",
       "</table>\n",
       "</div>"
      ],
      "text/plain": [
       "                     WHO Region  PM2.5 (μg/m3)  PM10 (μg/m3)  NO2 (μg/m3)\n",
       "0                African Region        3407.14       8305.06      2871.87\n",
       "1  Eastern Mediterranean Region        8411.98      34939.57      6811.55\n",
       "2               European Region      106290.65     374625.06    345754.14\n",
       "3        Region of the Americas       24145.55      69515.04     33753.40\n",
       "4        South East Asia Region       23691.19     134275.12     48840.97\n",
       "5        Western Pacific Region      178958.46      22848.69     19693.74"
      ]
     },
     "execution_count": 82,
     "metadata": {},
     "output_type": "execute_result"
    }
   ],
   "source": [
    "df5\n"
   ]
  },
  {
   "cell_type": "code",
   "execution_count": 65,
   "id": "d95e34b5",
   "metadata": {},
   "outputs": [],
   "source": [
    "import plotly.graph_objects as go\n",
    "from plotly.subplots import make_subplots"
   ]
  },
  {
   "cell_type": "code",
   "execution_count": 88,
   "id": "dc4ed4ab",
   "metadata": {},
   "outputs": [
    {
     "data": {
      "application/vnd.plotly.v1+json": {
       "config": {
        "plotlyServerURL": "https://plot.ly"
       },
       "data": [
        {
         "domain": {
          "x": [
           0,
           0.2888888888888889
          ],
          "y": [
           0,
           1
          ]
         },
         "hole": 0.4,
         "hoverinfo": "label+percent+name",
         "labels": [
          "African Region",
          "Eastern Mediterranean Region",
          "European Region",
          "Region of the Americas",
          "South East Asia Region",
          "Western Pacific Region"
         ],
         "name": "PM2.5",
         "type": "pie",
         "values": [
          3407.14,
          8411.98,
          106290.65,
          24145.55,
          23691.19,
          178958.46
         ]
        },
        {
         "domain": {
          "x": [
           0.35555555555555557,
           0.6444444444444445
          ],
          "y": [
           0,
           1
          ]
         },
         "hole": 0.4,
         "hoverinfo": "label+percent+name",
         "labels": [
          "African Region",
          "Eastern Mediterranean Region",
          "European Region",
          "Region of the Americas",
          "South East Asia Region",
          "Western Pacific Region"
         ],
         "name": "PM10",
         "type": "pie",
         "values": [
          8305.06,
          34939.57,
          374625.06,
          69515.04,
          134275.12,
          22848.69
         ]
        },
        {
         "domain": {
          "x": [
           0.7111111111111111,
           1
          ],
          "y": [
           0,
           1
          ]
         },
         "hole": 0.4,
         "hoverinfo": "label+percent+name",
         "labels": [
          "African Region",
          "Eastern Mediterranean Region",
          "European Region",
          "Region of the Americas",
          "South East Asia Region",
          "Western Pacific Region"
         ],
         "name": "NO2",
         "type": "pie",
         "values": [
          2871.87,
          6811.55,
          345754.14,
          33753.4,
          48840.97,
          19693.74
         ]
        }
       ],
       "layout": {
        "annotations": [
         {
          "font": {
           "size": 20
          },
          "showarrow": false,
          "text": "PM2.5",
          "x": 0.1,
          "y": 0.5
         },
         {
          "font": {
           "size": 20
          },
          "showarrow": false,
          "text": "PM10",
          "x": 0.5,
          "y": 0.5
         },
         {
          "font": {
           "size": 20
          },
          "showarrow": false,
          "text": "NO2",
          "x": 0.89,
          "y": 0.5
         }
        ],
        "template": {
         "data": {
          "bar": [
           {
            "error_x": {
             "color": "#2a3f5f"
            },
            "error_y": {
             "color": "#2a3f5f"
            },
            "marker": {
             "line": {
              "color": "#E5ECF6",
              "width": 0.5
             },
             "pattern": {
              "fillmode": "overlay",
              "size": 10,
              "solidity": 0.2
             }
            },
            "type": "bar"
           }
          ],
          "barpolar": [
           {
            "marker": {
             "line": {
              "color": "#E5ECF6",
              "width": 0.5
             },
             "pattern": {
              "fillmode": "overlay",
              "size": 10,
              "solidity": 0.2
             }
            },
            "type": "barpolar"
           }
          ],
          "carpet": [
           {
            "aaxis": {
             "endlinecolor": "#2a3f5f",
             "gridcolor": "white",
             "linecolor": "white",
             "minorgridcolor": "white",
             "startlinecolor": "#2a3f5f"
            },
            "baxis": {
             "endlinecolor": "#2a3f5f",
             "gridcolor": "white",
             "linecolor": "white",
             "minorgridcolor": "white",
             "startlinecolor": "#2a3f5f"
            },
            "type": "carpet"
           }
          ],
          "choropleth": [
           {
            "colorbar": {
             "outlinewidth": 0,
             "ticks": ""
            },
            "type": "choropleth"
           }
          ],
          "contour": [
           {
            "colorbar": {
             "outlinewidth": 0,
             "ticks": ""
            },
            "colorscale": [
             [
              0,
              "#0d0887"
             ],
             [
              0.1111111111111111,
              "#46039f"
             ],
             [
              0.2222222222222222,
              "#7201a8"
             ],
             [
              0.3333333333333333,
              "#9c179e"
             ],
             [
              0.4444444444444444,
              "#bd3786"
             ],
             [
              0.5555555555555556,
              "#d8576b"
             ],
             [
              0.6666666666666666,
              "#ed7953"
             ],
             [
              0.7777777777777778,
              "#fb9f3a"
             ],
             [
              0.8888888888888888,
              "#fdca26"
             ],
             [
              1,
              "#f0f921"
             ]
            ],
            "type": "contour"
           }
          ],
          "contourcarpet": [
           {
            "colorbar": {
             "outlinewidth": 0,
             "ticks": ""
            },
            "type": "contourcarpet"
           }
          ],
          "heatmap": [
           {
            "colorbar": {
             "outlinewidth": 0,
             "ticks": ""
            },
            "colorscale": [
             [
              0,
              "#0d0887"
             ],
             [
              0.1111111111111111,
              "#46039f"
             ],
             [
              0.2222222222222222,
              "#7201a8"
             ],
             [
              0.3333333333333333,
              "#9c179e"
             ],
             [
              0.4444444444444444,
              "#bd3786"
             ],
             [
              0.5555555555555556,
              "#d8576b"
             ],
             [
              0.6666666666666666,
              "#ed7953"
             ],
             [
              0.7777777777777778,
              "#fb9f3a"
             ],
             [
              0.8888888888888888,
              "#fdca26"
             ],
             [
              1,
              "#f0f921"
             ]
            ],
            "type": "heatmap"
           }
          ],
          "heatmapgl": [
           {
            "colorbar": {
             "outlinewidth": 0,
             "ticks": ""
            },
            "colorscale": [
             [
              0,
              "#0d0887"
             ],
             [
              0.1111111111111111,
              "#46039f"
             ],
             [
              0.2222222222222222,
              "#7201a8"
             ],
             [
              0.3333333333333333,
              "#9c179e"
             ],
             [
              0.4444444444444444,
              "#bd3786"
             ],
             [
              0.5555555555555556,
              "#d8576b"
             ],
             [
              0.6666666666666666,
              "#ed7953"
             ],
             [
              0.7777777777777778,
              "#fb9f3a"
             ],
             [
              0.8888888888888888,
              "#fdca26"
             ],
             [
              1,
              "#f0f921"
             ]
            ],
            "type": "heatmapgl"
           }
          ],
          "histogram": [
           {
            "marker": {
             "pattern": {
              "fillmode": "overlay",
              "size": 10,
              "solidity": 0.2
             }
            },
            "type": "histogram"
           }
          ],
          "histogram2d": [
           {
            "colorbar": {
             "outlinewidth": 0,
             "ticks": ""
            },
            "colorscale": [
             [
              0,
              "#0d0887"
             ],
             [
              0.1111111111111111,
              "#46039f"
             ],
             [
              0.2222222222222222,
              "#7201a8"
             ],
             [
              0.3333333333333333,
              "#9c179e"
             ],
             [
              0.4444444444444444,
              "#bd3786"
             ],
             [
              0.5555555555555556,
              "#d8576b"
             ],
             [
              0.6666666666666666,
              "#ed7953"
             ],
             [
              0.7777777777777778,
              "#fb9f3a"
             ],
             [
              0.8888888888888888,
              "#fdca26"
             ],
             [
              1,
              "#f0f921"
             ]
            ],
            "type": "histogram2d"
           }
          ],
          "histogram2dcontour": [
           {
            "colorbar": {
             "outlinewidth": 0,
             "ticks": ""
            },
            "colorscale": [
             [
              0,
              "#0d0887"
             ],
             [
              0.1111111111111111,
              "#46039f"
             ],
             [
              0.2222222222222222,
              "#7201a8"
             ],
             [
              0.3333333333333333,
              "#9c179e"
             ],
             [
              0.4444444444444444,
              "#bd3786"
             ],
             [
              0.5555555555555556,
              "#d8576b"
             ],
             [
              0.6666666666666666,
              "#ed7953"
             ],
             [
              0.7777777777777778,
              "#fb9f3a"
             ],
             [
              0.8888888888888888,
              "#fdca26"
             ],
             [
              1,
              "#f0f921"
             ]
            ],
            "type": "histogram2dcontour"
           }
          ],
          "mesh3d": [
           {
            "colorbar": {
             "outlinewidth": 0,
             "ticks": ""
            },
            "type": "mesh3d"
           }
          ],
          "parcoords": [
           {
            "line": {
             "colorbar": {
              "outlinewidth": 0,
              "ticks": ""
             }
            },
            "type": "parcoords"
           }
          ],
          "pie": [
           {
            "automargin": true,
            "type": "pie"
           }
          ],
          "scatter": [
           {
            "fillpattern": {
             "fillmode": "overlay",
             "size": 10,
             "solidity": 0.2
            },
            "type": "scatter"
           }
          ],
          "scatter3d": [
           {
            "line": {
             "colorbar": {
              "outlinewidth": 0,
              "ticks": ""
             }
            },
            "marker": {
             "colorbar": {
              "outlinewidth": 0,
              "ticks": ""
             }
            },
            "type": "scatter3d"
           }
          ],
          "scattercarpet": [
           {
            "marker": {
             "colorbar": {
              "outlinewidth": 0,
              "ticks": ""
             }
            },
            "type": "scattercarpet"
           }
          ],
          "scattergeo": [
           {
            "marker": {
             "colorbar": {
              "outlinewidth": 0,
              "ticks": ""
             }
            },
            "type": "scattergeo"
           }
          ],
          "scattergl": [
           {
            "marker": {
             "colorbar": {
              "outlinewidth": 0,
              "ticks": ""
             }
            },
            "type": "scattergl"
           }
          ],
          "scattermapbox": [
           {
            "marker": {
             "colorbar": {
              "outlinewidth": 0,
              "ticks": ""
             }
            },
            "type": "scattermapbox"
           }
          ],
          "scatterpolar": [
           {
            "marker": {
             "colorbar": {
              "outlinewidth": 0,
              "ticks": ""
             }
            },
            "type": "scatterpolar"
           }
          ],
          "scatterpolargl": [
           {
            "marker": {
             "colorbar": {
              "outlinewidth": 0,
              "ticks": ""
             }
            },
            "type": "scatterpolargl"
           }
          ],
          "scatterternary": [
           {
            "marker": {
             "colorbar": {
              "outlinewidth": 0,
              "ticks": ""
             }
            },
            "type": "scatterternary"
           }
          ],
          "surface": [
           {
            "colorbar": {
             "outlinewidth": 0,
             "ticks": ""
            },
            "colorscale": [
             [
              0,
              "#0d0887"
             ],
             [
              0.1111111111111111,
              "#46039f"
             ],
             [
              0.2222222222222222,
              "#7201a8"
             ],
             [
              0.3333333333333333,
              "#9c179e"
             ],
             [
              0.4444444444444444,
              "#bd3786"
             ],
             [
              0.5555555555555556,
              "#d8576b"
             ],
             [
              0.6666666666666666,
              "#ed7953"
             ],
             [
              0.7777777777777778,
              "#fb9f3a"
             ],
             [
              0.8888888888888888,
              "#fdca26"
             ],
             [
              1,
              "#f0f921"
             ]
            ],
            "type": "surface"
           }
          ],
          "table": [
           {
            "cells": {
             "fill": {
              "color": "#EBF0F8"
             },
             "line": {
              "color": "white"
             }
            },
            "header": {
             "fill": {
              "color": "#C8D4E3"
             },
             "line": {
              "color": "white"
             }
            },
            "type": "table"
           }
          ]
         },
         "layout": {
          "annotationdefaults": {
           "arrowcolor": "#2a3f5f",
           "arrowhead": 0,
           "arrowwidth": 1
          },
          "autotypenumbers": "strict",
          "coloraxis": {
           "colorbar": {
            "outlinewidth": 0,
            "ticks": ""
           }
          },
          "colorscale": {
           "diverging": [
            [
             0,
             "#8e0152"
            ],
            [
             0.1,
             "#c51b7d"
            ],
            [
             0.2,
             "#de77ae"
            ],
            [
             0.3,
             "#f1b6da"
            ],
            [
             0.4,
             "#fde0ef"
            ],
            [
             0.5,
             "#f7f7f7"
            ],
            [
             0.6,
             "#e6f5d0"
            ],
            [
             0.7,
             "#b8e186"
            ],
            [
             0.8,
             "#7fbc41"
            ],
            [
             0.9,
             "#4d9221"
            ],
            [
             1,
             "#276419"
            ]
           ],
           "sequential": [
            [
             0,
             "#0d0887"
            ],
            [
             0.1111111111111111,
             "#46039f"
            ],
            [
             0.2222222222222222,
             "#7201a8"
            ],
            [
             0.3333333333333333,
             "#9c179e"
            ],
            [
             0.4444444444444444,
             "#bd3786"
            ],
            [
             0.5555555555555556,
             "#d8576b"
            ],
            [
             0.6666666666666666,
             "#ed7953"
            ],
            [
             0.7777777777777778,
             "#fb9f3a"
            ],
            [
             0.8888888888888888,
             "#fdca26"
            ],
            [
             1,
             "#f0f921"
            ]
           ],
           "sequentialminus": [
            [
             0,
             "#0d0887"
            ],
            [
             0.1111111111111111,
             "#46039f"
            ],
            [
             0.2222222222222222,
             "#7201a8"
            ],
            [
             0.3333333333333333,
             "#9c179e"
            ],
            [
             0.4444444444444444,
             "#bd3786"
            ],
            [
             0.5555555555555556,
             "#d8576b"
            ],
            [
             0.6666666666666666,
             "#ed7953"
            ],
            [
             0.7777777777777778,
             "#fb9f3a"
            ],
            [
             0.8888888888888888,
             "#fdca26"
            ],
            [
             1,
             "#f0f921"
            ]
           ]
          },
          "colorway": [
           "#636efa",
           "#EF553B",
           "#00cc96",
           "#ab63fa",
           "#FFA15A",
           "#19d3f3",
           "#FF6692",
           "#B6E880",
           "#FF97FF",
           "#FECB52"
          ],
          "font": {
           "color": "#2a3f5f"
          },
          "geo": {
           "bgcolor": "white",
           "lakecolor": "white",
           "landcolor": "#E5ECF6",
           "showlakes": true,
           "showland": true,
           "subunitcolor": "white"
          },
          "hoverlabel": {
           "align": "left"
          },
          "hovermode": "closest",
          "mapbox": {
           "style": "light"
          },
          "paper_bgcolor": "white",
          "plot_bgcolor": "#E5ECF6",
          "polar": {
           "angularaxis": {
            "gridcolor": "white",
            "linecolor": "white",
            "ticks": ""
           },
           "bgcolor": "#E5ECF6",
           "radialaxis": {
            "gridcolor": "white",
            "linecolor": "white",
            "ticks": ""
           }
          },
          "scene": {
           "xaxis": {
            "backgroundcolor": "#E5ECF6",
            "gridcolor": "white",
            "gridwidth": 2,
            "linecolor": "white",
            "showbackground": true,
            "ticks": "",
            "zerolinecolor": "white"
           },
           "yaxis": {
            "backgroundcolor": "#E5ECF6",
            "gridcolor": "white",
            "gridwidth": 2,
            "linecolor": "white",
            "showbackground": true,
            "ticks": "",
            "zerolinecolor": "white"
           },
           "zaxis": {
            "backgroundcolor": "#E5ECF6",
            "gridcolor": "white",
            "gridwidth": 2,
            "linecolor": "white",
            "showbackground": true,
            "ticks": "",
            "zerolinecolor": "white"
           }
          },
          "shapedefaults": {
           "line": {
            "color": "#2a3f5f"
           }
          },
          "ternary": {
           "aaxis": {
            "gridcolor": "white",
            "linecolor": "white",
            "ticks": ""
           },
           "baxis": {
            "gridcolor": "white",
            "linecolor": "white",
            "ticks": ""
           },
           "bgcolor": "#E5ECF6",
           "caxis": {
            "gridcolor": "white",
            "linecolor": "white",
            "ticks": ""
           }
          },
          "title": {
           "x": 0.05
          },
          "xaxis": {
           "automargin": true,
           "gridcolor": "white",
           "linecolor": "white",
           "ticks": "",
           "title": {
            "standoff": 15
           },
           "zerolinecolor": "white",
           "zerolinewidth": 2
          },
          "yaxis": {
           "automargin": true,
           "gridcolor": "white",
           "linecolor": "white",
           "ticks": "",
           "title": {
            "standoff": 15
           },
           "zerolinecolor": "white",
           "zerolinewidth": 2
          }
         }
        },
        "title": {
         "text": "Global Air Pollution 2000-2010"
        }
       }
      },
      "text/html": [
       "<div>                            <div id=\"38b44e3c-b38b-4ec9-8081-9cf7076e2a78\" class=\"plotly-graph-div\" style=\"height:525px; width:100%;\"></div>            <script type=\"text/javascript\">                require([\"plotly\"], function(Plotly) {                    window.PLOTLYENV=window.PLOTLYENV || {};                                    if (document.getElementById(\"38b44e3c-b38b-4ec9-8081-9cf7076e2a78\")) {                    Plotly.newPlot(                        \"38b44e3c-b38b-4ec9-8081-9cf7076e2a78\",                        [{\"labels\":[\"African Region\",\"Eastern Mediterranean Region\",\"European Region\",\"Region of the Americas\",\"South East Asia Region\",\"Western Pacific Region\"],\"name\":\"PM2.5\",\"values\":[3407.14,8411.98,106290.65,24145.55,23691.19,178958.46],\"type\":\"pie\",\"domain\":{\"x\":[0.0,0.2888888888888889],\"y\":[0.0,1.0]},\"hole\":0.4,\"hoverinfo\":\"label+percent+name\"},{\"labels\":[\"African Region\",\"Eastern Mediterranean Region\",\"European Region\",\"Region of the Americas\",\"South East Asia Region\",\"Western Pacific Region\"],\"name\":\"PM10\",\"values\":[8305.06,34939.57,374625.06,69515.04,134275.12,22848.69],\"type\":\"pie\",\"domain\":{\"x\":[0.35555555555555557,0.6444444444444445],\"y\":[0.0,1.0]},\"hole\":0.4,\"hoverinfo\":\"label+percent+name\"},{\"labels\":[\"African Region\",\"Eastern Mediterranean Region\",\"European Region\",\"Region of the Americas\",\"South East Asia Region\",\"Western Pacific Region\"],\"name\":\"NO2\",\"values\":[2871.87,6811.55,345754.14,33753.4,48840.97,19693.74],\"type\":\"pie\",\"domain\":{\"x\":[0.7111111111111111,1.0],\"y\":[0.0,1.0]},\"hole\":0.4,\"hoverinfo\":\"label+percent+name\"}],                        {\"template\":{\"data\":{\"histogram2dcontour\":[{\"type\":\"histogram2dcontour\",\"colorbar\":{\"outlinewidth\":0,\"ticks\":\"\"},\"colorscale\":[[0.0,\"#0d0887\"],[0.1111111111111111,\"#46039f\"],[0.2222222222222222,\"#7201a8\"],[0.3333333333333333,\"#9c179e\"],[0.4444444444444444,\"#bd3786\"],[0.5555555555555556,\"#d8576b\"],[0.6666666666666666,\"#ed7953\"],[0.7777777777777778,\"#fb9f3a\"],[0.8888888888888888,\"#fdca26\"],[1.0,\"#f0f921\"]]}],\"choropleth\":[{\"type\":\"choropleth\",\"colorbar\":{\"outlinewidth\":0,\"ticks\":\"\"}}],\"histogram2d\":[{\"type\":\"histogram2d\",\"colorbar\":{\"outlinewidth\":0,\"ticks\":\"\"},\"colorscale\":[[0.0,\"#0d0887\"],[0.1111111111111111,\"#46039f\"],[0.2222222222222222,\"#7201a8\"],[0.3333333333333333,\"#9c179e\"],[0.4444444444444444,\"#bd3786\"],[0.5555555555555556,\"#d8576b\"],[0.6666666666666666,\"#ed7953\"],[0.7777777777777778,\"#fb9f3a\"],[0.8888888888888888,\"#fdca26\"],[1.0,\"#f0f921\"]]}],\"heatmap\":[{\"type\":\"heatmap\",\"colorbar\":{\"outlinewidth\":0,\"ticks\":\"\"},\"colorscale\":[[0.0,\"#0d0887\"],[0.1111111111111111,\"#46039f\"],[0.2222222222222222,\"#7201a8\"],[0.3333333333333333,\"#9c179e\"],[0.4444444444444444,\"#bd3786\"],[0.5555555555555556,\"#d8576b\"],[0.6666666666666666,\"#ed7953\"],[0.7777777777777778,\"#fb9f3a\"],[0.8888888888888888,\"#fdca26\"],[1.0,\"#f0f921\"]]}],\"heatmapgl\":[{\"type\":\"heatmapgl\",\"colorbar\":{\"outlinewidth\":0,\"ticks\":\"\"},\"colorscale\":[[0.0,\"#0d0887\"],[0.1111111111111111,\"#46039f\"],[0.2222222222222222,\"#7201a8\"],[0.3333333333333333,\"#9c179e\"],[0.4444444444444444,\"#bd3786\"],[0.5555555555555556,\"#d8576b\"],[0.6666666666666666,\"#ed7953\"],[0.7777777777777778,\"#fb9f3a\"],[0.8888888888888888,\"#fdca26\"],[1.0,\"#f0f921\"]]}],\"contourcarpet\":[{\"type\":\"contourcarpet\",\"colorbar\":{\"outlinewidth\":0,\"ticks\":\"\"}}],\"contour\":[{\"type\":\"contour\",\"colorbar\":{\"outlinewidth\":0,\"ticks\":\"\"},\"colorscale\":[[0.0,\"#0d0887\"],[0.1111111111111111,\"#46039f\"],[0.2222222222222222,\"#7201a8\"],[0.3333333333333333,\"#9c179e\"],[0.4444444444444444,\"#bd3786\"],[0.5555555555555556,\"#d8576b\"],[0.6666666666666666,\"#ed7953\"],[0.7777777777777778,\"#fb9f3a\"],[0.8888888888888888,\"#fdca26\"],[1.0,\"#f0f921\"]]}],\"surface\":[{\"type\":\"surface\",\"colorbar\":{\"outlinewidth\":0,\"ticks\":\"\"},\"colorscale\":[[0.0,\"#0d0887\"],[0.1111111111111111,\"#46039f\"],[0.2222222222222222,\"#7201a8\"],[0.3333333333333333,\"#9c179e\"],[0.4444444444444444,\"#bd3786\"],[0.5555555555555556,\"#d8576b\"],[0.6666666666666666,\"#ed7953\"],[0.7777777777777778,\"#fb9f3a\"],[0.8888888888888888,\"#fdca26\"],[1.0,\"#f0f921\"]]}],\"mesh3d\":[{\"type\":\"mesh3d\",\"colorbar\":{\"outlinewidth\":0,\"ticks\":\"\"}}],\"scatter\":[{\"fillpattern\":{\"fillmode\":\"overlay\",\"size\":10,\"solidity\":0.2},\"type\":\"scatter\"}],\"parcoords\":[{\"type\":\"parcoords\",\"line\":{\"colorbar\":{\"outlinewidth\":0,\"ticks\":\"\"}}}],\"scatterpolargl\":[{\"type\":\"scatterpolargl\",\"marker\":{\"colorbar\":{\"outlinewidth\":0,\"ticks\":\"\"}}}],\"bar\":[{\"error_x\":{\"color\":\"#2a3f5f\"},\"error_y\":{\"color\":\"#2a3f5f\"},\"marker\":{\"line\":{\"color\":\"#E5ECF6\",\"width\":0.5},\"pattern\":{\"fillmode\":\"overlay\",\"size\":10,\"solidity\":0.2}},\"type\":\"bar\"}],\"scattergeo\":[{\"type\":\"scattergeo\",\"marker\":{\"colorbar\":{\"outlinewidth\":0,\"ticks\":\"\"}}}],\"scatterpolar\":[{\"type\":\"scatterpolar\",\"marker\":{\"colorbar\":{\"outlinewidth\":0,\"ticks\":\"\"}}}],\"histogram\":[{\"marker\":{\"pattern\":{\"fillmode\":\"overlay\",\"size\":10,\"solidity\":0.2}},\"type\":\"histogram\"}],\"scattergl\":[{\"type\":\"scattergl\",\"marker\":{\"colorbar\":{\"outlinewidth\":0,\"ticks\":\"\"}}}],\"scatter3d\":[{\"type\":\"scatter3d\",\"line\":{\"colorbar\":{\"outlinewidth\":0,\"ticks\":\"\"}},\"marker\":{\"colorbar\":{\"outlinewidth\":0,\"ticks\":\"\"}}}],\"scattermapbox\":[{\"type\":\"scattermapbox\",\"marker\":{\"colorbar\":{\"outlinewidth\":0,\"ticks\":\"\"}}}],\"scatterternary\":[{\"type\":\"scatterternary\",\"marker\":{\"colorbar\":{\"outlinewidth\":0,\"ticks\":\"\"}}}],\"scattercarpet\":[{\"type\":\"scattercarpet\",\"marker\":{\"colorbar\":{\"outlinewidth\":0,\"ticks\":\"\"}}}],\"carpet\":[{\"aaxis\":{\"endlinecolor\":\"#2a3f5f\",\"gridcolor\":\"white\",\"linecolor\":\"white\",\"minorgridcolor\":\"white\",\"startlinecolor\":\"#2a3f5f\"},\"baxis\":{\"endlinecolor\":\"#2a3f5f\",\"gridcolor\":\"white\",\"linecolor\":\"white\",\"minorgridcolor\":\"white\",\"startlinecolor\":\"#2a3f5f\"},\"type\":\"carpet\"}],\"table\":[{\"cells\":{\"fill\":{\"color\":\"#EBF0F8\"},\"line\":{\"color\":\"white\"}},\"header\":{\"fill\":{\"color\":\"#C8D4E3\"},\"line\":{\"color\":\"white\"}},\"type\":\"table\"}],\"barpolar\":[{\"marker\":{\"line\":{\"color\":\"#E5ECF6\",\"width\":0.5},\"pattern\":{\"fillmode\":\"overlay\",\"size\":10,\"solidity\":0.2}},\"type\":\"barpolar\"}],\"pie\":[{\"automargin\":true,\"type\":\"pie\"}]},\"layout\":{\"autotypenumbers\":\"strict\",\"colorway\":[\"#636efa\",\"#EF553B\",\"#00cc96\",\"#ab63fa\",\"#FFA15A\",\"#19d3f3\",\"#FF6692\",\"#B6E880\",\"#FF97FF\",\"#FECB52\"],\"font\":{\"color\":\"#2a3f5f\"},\"hovermode\":\"closest\",\"hoverlabel\":{\"align\":\"left\"},\"paper_bgcolor\":\"white\",\"plot_bgcolor\":\"#E5ECF6\",\"polar\":{\"bgcolor\":\"#E5ECF6\",\"angularaxis\":{\"gridcolor\":\"white\",\"linecolor\":\"white\",\"ticks\":\"\"},\"radialaxis\":{\"gridcolor\":\"white\",\"linecolor\":\"white\",\"ticks\":\"\"}},\"ternary\":{\"bgcolor\":\"#E5ECF6\",\"aaxis\":{\"gridcolor\":\"white\",\"linecolor\":\"white\",\"ticks\":\"\"},\"baxis\":{\"gridcolor\":\"white\",\"linecolor\":\"white\",\"ticks\":\"\"},\"caxis\":{\"gridcolor\":\"white\",\"linecolor\":\"white\",\"ticks\":\"\"}},\"coloraxis\":{\"colorbar\":{\"outlinewidth\":0,\"ticks\":\"\"}},\"colorscale\":{\"sequential\":[[0.0,\"#0d0887\"],[0.1111111111111111,\"#46039f\"],[0.2222222222222222,\"#7201a8\"],[0.3333333333333333,\"#9c179e\"],[0.4444444444444444,\"#bd3786\"],[0.5555555555555556,\"#d8576b\"],[0.6666666666666666,\"#ed7953\"],[0.7777777777777778,\"#fb9f3a\"],[0.8888888888888888,\"#fdca26\"],[1.0,\"#f0f921\"]],\"sequentialminus\":[[0.0,\"#0d0887\"],[0.1111111111111111,\"#46039f\"],[0.2222222222222222,\"#7201a8\"],[0.3333333333333333,\"#9c179e\"],[0.4444444444444444,\"#bd3786\"],[0.5555555555555556,\"#d8576b\"],[0.6666666666666666,\"#ed7953\"],[0.7777777777777778,\"#fb9f3a\"],[0.8888888888888888,\"#fdca26\"],[1.0,\"#f0f921\"]],\"diverging\":[[0,\"#8e0152\"],[0.1,\"#c51b7d\"],[0.2,\"#de77ae\"],[0.3,\"#f1b6da\"],[0.4,\"#fde0ef\"],[0.5,\"#f7f7f7\"],[0.6,\"#e6f5d0\"],[0.7,\"#b8e186\"],[0.8,\"#7fbc41\"],[0.9,\"#4d9221\"],[1,\"#276419\"]]},\"xaxis\":{\"gridcolor\":\"white\",\"linecolor\":\"white\",\"ticks\":\"\",\"title\":{\"standoff\":15},\"zerolinecolor\":\"white\",\"automargin\":true,\"zerolinewidth\":2},\"yaxis\":{\"gridcolor\":\"white\",\"linecolor\":\"white\",\"ticks\":\"\",\"title\":{\"standoff\":15},\"zerolinecolor\":\"white\",\"automargin\":true,\"zerolinewidth\":2},\"scene\":{\"xaxis\":{\"backgroundcolor\":\"#E5ECF6\",\"gridcolor\":\"white\",\"linecolor\":\"white\",\"showbackground\":true,\"ticks\":\"\",\"zerolinecolor\":\"white\",\"gridwidth\":2},\"yaxis\":{\"backgroundcolor\":\"#E5ECF6\",\"gridcolor\":\"white\",\"linecolor\":\"white\",\"showbackground\":true,\"ticks\":\"\",\"zerolinecolor\":\"white\",\"gridwidth\":2},\"zaxis\":{\"backgroundcolor\":\"#E5ECF6\",\"gridcolor\":\"white\",\"linecolor\":\"white\",\"showbackground\":true,\"ticks\":\"\",\"zerolinecolor\":\"white\",\"gridwidth\":2}},\"shapedefaults\":{\"line\":{\"color\":\"#2a3f5f\"}},\"annotationdefaults\":{\"arrowcolor\":\"#2a3f5f\",\"arrowhead\":0,\"arrowwidth\":1},\"geo\":{\"bgcolor\":\"white\",\"landcolor\":\"#E5ECF6\",\"subunitcolor\":\"white\",\"showland\":true,\"showlakes\":true,\"lakecolor\":\"white\"},\"title\":{\"x\":0.05},\"mapbox\":{\"style\":\"light\"}}},\"title\":{\"text\":\"Global Air Pollution 2000-2010\"},\"annotations\":[{\"showarrow\":false,\"text\":\"PM2.5\",\"x\":0.1,\"y\":0.5,\"font\":{\"size\":20}},{\"showarrow\":false,\"text\":\"PM10\",\"x\":0.5,\"y\":0.5,\"font\":{\"size\":20}},{\"showarrow\":false,\"text\":\"NO2\",\"x\":0.89,\"y\":0.5,\"font\":{\"size\":20}}]},                        {\"responsive\": true}                    ).then(function(){\n",
       "                            \n",
       "var gd = document.getElementById('38b44e3c-b38b-4ec9-8081-9cf7076e2a78');\n",
       "var x = new MutationObserver(function (mutations, observer) {{\n",
       "        var display = window.getComputedStyle(gd).display;\n",
       "        if (!display || display === 'none') {{\n",
       "            console.log([gd, 'removed!']);\n",
       "            Plotly.purge(gd);\n",
       "            observer.disconnect();\n",
       "        }}\n",
       "}});\n",
       "\n",
       "// Listen for the removal of the full notebook cells\n",
       "var notebookContainer = gd.closest('#notebook-container');\n",
       "if (notebookContainer) {{\n",
       "    x.observe(notebookContainer, {childList: true});\n",
       "}}\n",
       "\n",
       "// Listen for the clearing of the current output cell\n",
       "var outputEl = gd.closest('.output');\n",
       "if (outputEl) {{\n",
       "    x.observe(outputEl, {childList: true});\n",
       "}}\n",
       "\n",
       "                        })                };                });            </script>        </div>"
      ]
     },
     "metadata": {},
     "output_type": "display_data"
    }
   ],
   "source": [
    "\n",
    "\n",
    "# Create subplots: use 'domain' type for Pie subplot\n",
    "fig = make_subplots(rows=1, cols=3, specs=[[{'type':'domain'},{'type':'domain'}, {'type':'domain'}]])\n",
    "fig.add_trace(go.Pie(labels=df5['WHO Region'], values=df5['PM2.5 (μg/m3)'], name=\"PM2.5\"),\n",
    "              1, 1)\n",
    "fig.add_trace(go.Pie(labels=df5['WHO Region'], values=df5['PM10 (μg/m3)'], name=\"PM10\"),\n",
    "              1, 2)\n",
    "fig.add_trace(go.Pie(labels=df5['WHO Region'], values=df5['NO2 (μg/m3)'], name=\"NO2\"),\n",
    "              1, 3)\n",
    "\n",
    "# Use `hole` to create a donut-like pie chart\n",
    "\n",
    "fig.update_traces(hole=.4, hoverinfo=\"label+percent+name\")\n",
    "\n",
    "fig.update_layout(\n",
    "    title_text=\"Global Air Pollution 2000-2010\",\n",
    "    # Add annotations in the center of the donut pies.\n",
    "    annotations=[dict(text='PM2.5', x=0.1, y=0.5, font_size=20, showarrow=False),\n",
    "                 dict(text='PM10', x=0.5, y=0.5, font_size=20, showarrow=False),\n",
    "                dict(text='NO2', x=0.89, y=0.5, font_size=20, showarrow=False)])\n",
    "fig.write_html('plot3.html')\n",
    "fig.show()"
   ]
  }
 ],
 "metadata": {
  "kernelspec": {
   "display_name": "Python 3 (ipykernel)",
   "language": "python",
   "name": "python3"
  },
  "language_info": {
   "codemirror_mode": {
    "name": "ipython",
    "version": 3
   },
   "file_extension": ".py",
   "mimetype": "text/x-python",
   "name": "python",
   "nbconvert_exporter": "python",
   "pygments_lexer": "ipython3",
   "version": "3.8.8"
  }
 },
 "nbformat": 4,
 "nbformat_minor": 5
}
